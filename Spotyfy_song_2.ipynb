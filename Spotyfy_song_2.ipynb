{
 "cells": [
  {
   "cell_type": "markdown",
   "metadata": {
    "id": "GgF8QvVny0b2"
   },
   "source": [
    "## Classification"
   ]
  },
  {
   "cell_type": "markdown",
   "metadata": {
    "id": "qkD4p2a-3f_S"
   },
   "source": [
    "features:\n",
    "labels: unique genre\n",
    "training sample:\n",
    "test sample:\n"
   ]
  },
  {
   "cell_type": "code",
   "execution_count": null,
   "metadata": {
    "id": "3XYCL22uqBj4"
   },
   "outputs": [],
   "source": [
    "import pandas as pd\n",
    "import numpy as np\n",
    "import seaborn as sns\n",
    "import matplotlib.pyplot as plt\n",
    "from scipy.stats import pearsonr, spearmanr, shapiro, ttest_ind, ttest_rel, norm\n",
    "from ast import literal_eval\n",
    "from scipy import stats"
   ]
  },
  {
   "cell_type": "code",
   "execution_count": null,
   "metadata": {
    "colab": {
     "base_uri": "https://localhost:8080/",
     "height": 479
    },
    "id": "2iixXej1p9JJ",
    "outputId": "c5746bfd-9283-437b-b974-02f077d3adbb"
   },
   "outputs": [
    {
     "data": {
      "text/html": [
       "\n",
       "  <div id=\"df-5fb98a84-4d23-47d0-818e-70f0df691199\">\n",
       "    <div class=\"colab-df-container\">\n",
       "      <div>\n",
       "<style scoped>\n",
       "    .dataframe tbody tr th:only-of-type {\n",
       "        vertical-align: middle;\n",
       "    }\n",
       "\n",
       "    .dataframe tbody tr th {\n",
       "        vertical-align: top;\n",
       "    }\n",
       "\n",
       "    .dataframe thead th {\n",
       "        text-align: right;\n",
       "    }\n",
       "</style>\n",
       "<table border=\"1\" class=\"dataframe\">\n",
       "  <thead>\n",
       "    <tr style=\"text-align: right;\">\n",
       "      <th></th>\n",
       "      <th>acousticness</th>\n",
       "      <th>artists</th>\n",
       "      <th>danceability</th>\n",
       "      <th>duration_ms</th>\n",
       "      <th>energy</th>\n",
       "      <th>explicit</th>\n",
       "      <th>id</th>\n",
       "      <th>instrumentalness</th>\n",
       "      <th>key</th>\n",
       "      <th>liveness</th>\n",
       "      <th>loudness</th>\n",
       "      <th>mode</th>\n",
       "      <th>name</th>\n",
       "      <th>popularity</th>\n",
       "      <th>release_date</th>\n",
       "      <th>speechiness</th>\n",
       "      <th>tempo</th>\n",
       "      <th>valence</th>\n",
       "      <th>year</th>\n",
       "    </tr>\n",
       "  </thead>\n",
       "  <tbody>\n",
       "    <tr>\n",
       "      <th>0</th>\n",
       "      <td>0.995</td>\n",
       "      <td>[Carl Woitschach]</td>\n",
       "      <td>0.708</td>\n",
       "      <td>158648</td>\n",
       "      <td>0.1950</td>\n",
       "      <td>0</td>\n",
       "      <td>6KbQ3uYMLKb5jDxLF7wYDD</td>\n",
       "      <td>0.563</td>\n",
       "      <td>10</td>\n",
       "      <td>0.1510</td>\n",
       "      <td>-12.428</td>\n",
       "      <td>1</td>\n",
       "      <td>Singende Bataillone 1. Teil</td>\n",
       "      <td>0</td>\n",
       "      <td>1928</td>\n",
       "      <td>0.0506</td>\n",
       "      <td>118.469</td>\n",
       "      <td>0.7790</td>\n",
       "      <td>1928</td>\n",
       "    </tr>\n",
       "    <tr>\n",
       "      <th>1</th>\n",
       "      <td>0.994</td>\n",
       "      <td>[Robert Schumann, Vladimir Horowitz]</td>\n",
       "      <td>0.379</td>\n",
       "      <td>282133</td>\n",
       "      <td>0.0135</td>\n",
       "      <td>0</td>\n",
       "      <td>6KuQTIu1KoTTkLXKrwlLPV</td>\n",
       "      <td>0.901</td>\n",
       "      <td>8</td>\n",
       "      <td>0.0763</td>\n",
       "      <td>-28.454</td>\n",
       "      <td>1</td>\n",
       "      <td>Fantasiestücke, Op. 111: Più tosto lento</td>\n",
       "      <td>0</td>\n",
       "      <td>1928</td>\n",
       "      <td>0.0462</td>\n",
       "      <td>83.972</td>\n",
       "      <td>0.0767</td>\n",
       "      <td>1928</td>\n",
       "    </tr>\n",
       "    <tr>\n",
       "      <th>2</th>\n",
       "      <td>0.604</td>\n",
       "      <td>[Seweryn Goszczyński]</td>\n",
       "      <td>0.749</td>\n",
       "      <td>104300</td>\n",
       "      <td>0.2200</td>\n",
       "      <td>0</td>\n",
       "      <td>6L63VW0PibdM1HDSBoqnoM</td>\n",
       "      <td>0.000</td>\n",
       "      <td>5</td>\n",
       "      <td>0.1190</td>\n",
       "      <td>-19.924</td>\n",
       "      <td>0</td>\n",
       "      <td>Chapter 1.18 - Zamek kaniowski</td>\n",
       "      <td>0</td>\n",
       "      <td>1928</td>\n",
       "      <td>0.9290</td>\n",
       "      <td>107.177</td>\n",
       "      <td>0.8800</td>\n",
       "      <td>1928</td>\n",
       "    </tr>\n",
       "    <tr>\n",
       "      <th>3</th>\n",
       "      <td>0.995</td>\n",
       "      <td>[Francisco Canaro]</td>\n",
       "      <td>0.781</td>\n",
       "      <td>180760</td>\n",
       "      <td>0.1300</td>\n",
       "      <td>0</td>\n",
       "      <td>6M94FkXd15sOAOQYRnWPN8</td>\n",
       "      <td>0.887</td>\n",
       "      <td>1</td>\n",
       "      <td>0.1110</td>\n",
       "      <td>-14.734</td>\n",
       "      <td>0</td>\n",
       "      <td>Bebamos Juntos - Instrumental (Remasterizado)</td>\n",
       "      <td>0</td>\n",
       "      <td>1928-09-25</td>\n",
       "      <td>0.0926</td>\n",
       "      <td>108.003</td>\n",
       "      <td>0.7200</td>\n",
       "      <td>1928</td>\n",
       "    </tr>\n",
       "    <tr>\n",
       "      <th>4</th>\n",
       "      <td>0.990</td>\n",
       "      <td>[Frédéric Chopin, Vladimir Horowitz]</td>\n",
       "      <td>0.210</td>\n",
       "      <td>687733</td>\n",
       "      <td>0.2040</td>\n",
       "      <td>0</td>\n",
       "      <td>6N6tiFZ9vLTSOIxkj8qKrd</td>\n",
       "      <td>0.908</td>\n",
       "      <td>11</td>\n",
       "      <td>0.0980</td>\n",
       "      <td>-16.829</td>\n",
       "      <td>1</td>\n",
       "      <td>Polonaise-Fantaisie in A-Flat Major, Op. 61</td>\n",
       "      <td>1</td>\n",
       "      <td>1928</td>\n",
       "      <td>0.0424</td>\n",
       "      <td>62.149</td>\n",
       "      <td>0.0693</td>\n",
       "      <td>1928</td>\n",
       "    </tr>\n",
       "  </tbody>\n",
       "</table>\n",
       "</div>\n",
       "      <button class=\"colab-df-convert\" onclick=\"convertToInteractive('df-5fb98a84-4d23-47d0-818e-70f0df691199')\"\n",
       "              title=\"Convert this dataframe to an interactive table.\"\n",
       "              style=\"display:none;\">\n",
       "        \n",
       "  <svg xmlns=\"http://www.w3.org/2000/svg\" height=\"24px\"viewBox=\"0 0 24 24\"\n",
       "       width=\"24px\">\n",
       "    <path d=\"M0 0h24v24H0V0z\" fill=\"none\"/>\n",
       "    <path d=\"M18.56 5.44l.94 2.06.94-2.06 2.06-.94-2.06-.94-.94-2.06-.94 2.06-2.06.94zm-11 1L8.5 8.5l.94-2.06 2.06-.94-2.06-.94L8.5 2.5l-.94 2.06-2.06.94zm10 10l.94 2.06.94-2.06 2.06-.94-2.06-.94-.94-2.06-.94 2.06-2.06.94z\"/><path d=\"M17.41 7.96l-1.37-1.37c-.4-.4-.92-.59-1.43-.59-.52 0-1.04.2-1.43.59L10.3 9.45l-7.72 7.72c-.78.78-.78 2.05 0 2.83L4 21.41c.39.39.9.59 1.41.59.51 0 1.02-.2 1.41-.59l7.78-7.78 2.81-2.81c.8-.78.8-2.07 0-2.86zM5.41 20L4 18.59l7.72-7.72 1.47 1.35L5.41 20z\"/>\n",
       "  </svg>\n",
       "      </button>\n",
       "      \n",
       "  <style>\n",
       "    .colab-df-container {\n",
       "      display:flex;\n",
       "      flex-wrap:wrap;\n",
       "      gap: 12px;\n",
       "    }\n",
       "\n",
       "    .colab-df-convert {\n",
       "      background-color: #E8F0FE;\n",
       "      border: none;\n",
       "      border-radius: 50%;\n",
       "      cursor: pointer;\n",
       "      display: none;\n",
       "      fill: #1967D2;\n",
       "      height: 32px;\n",
       "      padding: 0 0 0 0;\n",
       "      width: 32px;\n",
       "    }\n",
       "\n",
       "    .colab-df-convert:hover {\n",
       "      background-color: #E2EBFA;\n",
       "      box-shadow: 0px 1px 2px rgba(60, 64, 67, 0.3), 0px 1px 3px 1px rgba(60, 64, 67, 0.15);\n",
       "      fill: #174EA6;\n",
       "    }\n",
       "\n",
       "    [theme=dark] .colab-df-convert {\n",
       "      background-color: #3B4455;\n",
       "      fill: #D2E3FC;\n",
       "    }\n",
       "\n",
       "    [theme=dark] .colab-df-convert:hover {\n",
       "      background-color: #434B5C;\n",
       "      box-shadow: 0px 1px 3px 1px rgba(0, 0, 0, 0.15);\n",
       "      filter: drop-shadow(0px 1px 2px rgba(0, 0, 0, 0.3));\n",
       "      fill: #FFFFFF;\n",
       "    }\n",
       "  </style>\n",
       "\n",
       "      <script>\n",
       "        const buttonEl =\n",
       "          document.querySelector('#df-5fb98a84-4d23-47d0-818e-70f0df691199 button.colab-df-convert');\n",
       "        buttonEl.style.display =\n",
       "          google.colab.kernel.accessAllowed ? 'block' : 'none';\n",
       "\n",
       "        async function convertToInteractive(key) {\n",
       "          const element = document.querySelector('#df-5fb98a84-4d23-47d0-818e-70f0df691199');\n",
       "          const dataTable =\n",
       "            await google.colab.kernel.invokeFunction('convertToInteractive',\n",
       "                                                     [key], {});\n",
       "          if (!dataTable) return;\n",
       "\n",
       "          const docLinkHtml = 'Like what you see? Visit the ' +\n",
       "            '<a target=\"_blank\" href=https://colab.research.google.com/notebooks/data_table.ipynb>data table notebook</a>'\n",
       "            + ' to learn more about interactive tables.';\n",
       "          element.innerHTML = '';\n",
       "          dataTable['output_type'] = 'display_data';\n",
       "          await google.colab.output.renderOutput(dataTable, element);\n",
       "          const docLink = document.createElement('div');\n",
       "          docLink.innerHTML = docLinkHtml;\n",
       "          element.appendChild(docLink);\n",
       "        }\n",
       "      </script>\n",
       "    </div>\n",
       "  </div>\n",
       "  "
      ],
      "text/plain": [
       "   acousticness                               artists  danceability  \\\n",
       "0         0.995                     [Carl Woitschach]         0.708   \n",
       "1         0.994  [Robert Schumann, Vladimir Horowitz]         0.379   \n",
       "2         0.604                 [Seweryn Goszczyński]         0.749   \n",
       "3         0.995                    [Francisco Canaro]         0.781   \n",
       "4         0.990  [Frédéric Chopin, Vladimir Horowitz]         0.210   \n",
       "\n",
       "   duration_ms  energy  explicit                      id  instrumentalness  \\\n",
       "0       158648  0.1950         0  6KbQ3uYMLKb5jDxLF7wYDD             0.563   \n",
       "1       282133  0.0135         0  6KuQTIu1KoTTkLXKrwlLPV             0.901   \n",
       "2       104300  0.2200         0  6L63VW0PibdM1HDSBoqnoM             0.000   \n",
       "3       180760  0.1300         0  6M94FkXd15sOAOQYRnWPN8             0.887   \n",
       "4       687733  0.2040         0  6N6tiFZ9vLTSOIxkj8qKrd             0.908   \n",
       "\n",
       "   key  liveness  loudness  mode  \\\n",
       "0   10    0.1510   -12.428     1   \n",
       "1    8    0.0763   -28.454     1   \n",
       "2    5    0.1190   -19.924     0   \n",
       "3    1    0.1110   -14.734     0   \n",
       "4   11    0.0980   -16.829     1   \n",
       "\n",
       "                                            name  popularity release_date  \\\n",
       "0                    Singende Bataillone 1. Teil           0         1928   \n",
       "1       Fantasiestücke, Op. 111: Più tosto lento           0         1928   \n",
       "2                 Chapter 1.18 - Zamek kaniowski           0         1928   \n",
       "3  Bebamos Juntos - Instrumental (Remasterizado)           0   1928-09-25   \n",
       "4    Polonaise-Fantaisie in A-Flat Major, Op. 61           1         1928   \n",
       "\n",
       "   speechiness    tempo  valence  year  \n",
       "0       0.0506  118.469   0.7790  1928  \n",
       "1       0.0462   83.972   0.0767  1928  \n",
       "2       0.9290  107.177   0.8800  1928  \n",
       "3       0.0926  108.003   0.7200  1928  \n",
       "4       0.0424   62.149   0.0693  1928  "
      ]
     },
     "execution_count": 4,
     "metadata": {},
     "output_type": "execute_result"
    }
   ],
   "source": [
    "import pandas as pd\n",
    "from ast import literal_eval\n",
    "\n",
    "url='https://drive.google.com/file/d/1qvEcBTp0YoxBaCfyvj5_vh99J6qR6HWY/view'\n",
    "url='https://drive.google.com/uc?id=' + url.split('/')[-2]\n",
    "song = pd.read_csv(url, converters={\"artists\": literal_eval})\n",
    "song.head()"
   ]
  },
  {
   "cell_type": "code",
   "execution_count": null,
   "metadata": {
    "colab": {
     "base_uri": "https://localhost:8080/",
     "height": 427
    },
    "id": "SJ7uTf_xqYy2",
    "outputId": "f722ce68-8c3d-44cc-f6e7-12b5572f5a28"
   },
   "outputs": [
    {
     "name": "stderr",
     "output_type": "stream",
     "text": [
      "<ipython-input-5-8f651a391d91>:3: DtypeWarning: Columns (15) have mixed types. Specify dtype option on import or set low_memory=False.\n",
      "  genre = pd.read_csv(url)\n"
     ]
    },
    {
     "data": {
      "text/html": [
       "\n",
       "  <div id=\"df-40577029-395b-4431-a30d-76cfa5ad5215\">\n",
       "    <div class=\"colab-df-container\">\n",
       "      <div>\n",
       "<style scoped>\n",
       "    .dataframe tbody tr th:only-of-type {\n",
       "        vertical-align: middle;\n",
       "    }\n",
       "\n",
       "    .dataframe tbody tr th {\n",
       "        vertical-align: top;\n",
       "    }\n",
       "\n",
       "    .dataframe thead th {\n",
       "        text-align: right;\n",
       "    }\n",
       "</style>\n",
       "<table border=\"1\" class=\"dataframe\">\n",
       "  <thead>\n",
       "    <tr style=\"text-align: right;\">\n",
       "      <th></th>\n",
       "      <th>danceability</th>\n",
       "      <th>energy</th>\n",
       "      <th>key</th>\n",
       "      <th>loudness</th>\n",
       "      <th>mode</th>\n",
       "      <th>speechiness</th>\n",
       "      <th>acousticness</th>\n",
       "      <th>instrumentalness</th>\n",
       "      <th>liveness</th>\n",
       "      <th>valence</th>\n",
       "      <th>tempo</th>\n",
       "      <th>id</th>\n",
       "      <th>duration_ms</th>\n",
       "      <th>time_signature</th>\n",
       "      <th>genre</th>\n",
       "      <th>name</th>\n",
       "    </tr>\n",
       "  </thead>\n",
       "  <tbody>\n",
       "    <tr>\n",
       "      <th>0</th>\n",
       "      <td>0.831</td>\n",
       "      <td>0.814</td>\n",
       "      <td>2</td>\n",
       "      <td>-7.364</td>\n",
       "      <td>1</td>\n",
       "      <td>0.4200</td>\n",
       "      <td>0.0598</td>\n",
       "      <td>0.013400</td>\n",
       "      <td>0.0556</td>\n",
       "      <td>0.3890</td>\n",
       "      <td>156.985</td>\n",
       "      <td>2Vc6NJ9PW9gD9q343XFRKx</td>\n",
       "      <td>124539</td>\n",
       "      <td>4</td>\n",
       "      <td>Dark Trap</td>\n",
       "      <td>Mercury: Retrograde</td>\n",
       "    </tr>\n",
       "    <tr>\n",
       "      <th>1</th>\n",
       "      <td>0.719</td>\n",
       "      <td>0.493</td>\n",
       "      <td>8</td>\n",
       "      <td>-7.230</td>\n",
       "      <td>1</td>\n",
       "      <td>0.0794</td>\n",
       "      <td>0.4010</td>\n",
       "      <td>0.000000</td>\n",
       "      <td>0.1180</td>\n",
       "      <td>0.1240</td>\n",
       "      <td>115.080</td>\n",
       "      <td>7pgJBLVz5VmnL7uGHmRj6p</td>\n",
       "      <td>224427</td>\n",
       "      <td>4</td>\n",
       "      <td>Dark Trap</td>\n",
       "      <td>Pathology</td>\n",
       "    </tr>\n",
       "    <tr>\n",
       "      <th>2</th>\n",
       "      <td>0.850</td>\n",
       "      <td>0.893</td>\n",
       "      <td>5</td>\n",
       "      <td>-4.783</td>\n",
       "      <td>1</td>\n",
       "      <td>0.0623</td>\n",
       "      <td>0.0138</td>\n",
       "      <td>0.000004</td>\n",
       "      <td>0.3720</td>\n",
       "      <td>0.0391</td>\n",
       "      <td>218.050</td>\n",
       "      <td>0vSWgAlfpye0WCGeNmuNhy</td>\n",
       "      <td>98821</td>\n",
       "      <td>4</td>\n",
       "      <td>Dark Trap</td>\n",
       "      <td>Symbiote</td>\n",
       "    </tr>\n",
       "    <tr>\n",
       "      <th>3</th>\n",
       "      <td>0.476</td>\n",
       "      <td>0.781</td>\n",
       "      <td>0</td>\n",
       "      <td>-4.710</td>\n",
       "      <td>1</td>\n",
       "      <td>0.1030</td>\n",
       "      <td>0.0237</td>\n",
       "      <td>0.000000</td>\n",
       "      <td>0.1140</td>\n",
       "      <td>0.1750</td>\n",
       "      <td>186.948</td>\n",
       "      <td>0VSXnJqQkwuH2ei1nOQ1nu</td>\n",
       "      <td>123661</td>\n",
       "      <td>3</td>\n",
       "      <td>Dark Trap</td>\n",
       "      <td>ProductOfDrugs (Prod. The Virus and Antidote)</td>\n",
       "    </tr>\n",
       "    <tr>\n",
       "      <th>4</th>\n",
       "      <td>0.798</td>\n",
       "      <td>0.624</td>\n",
       "      <td>2</td>\n",
       "      <td>-7.668</td>\n",
       "      <td>1</td>\n",
       "      <td>0.2930</td>\n",
       "      <td>0.2170</td>\n",
       "      <td>0.000000</td>\n",
       "      <td>0.1660</td>\n",
       "      <td>0.5910</td>\n",
       "      <td>147.988</td>\n",
       "      <td>4jCeguq9rMTlbMmPHuO7S3</td>\n",
       "      <td>123298</td>\n",
       "      <td>4</td>\n",
       "      <td>Dark Trap</td>\n",
       "      <td>Venom</td>\n",
       "    </tr>\n",
       "  </tbody>\n",
       "</table>\n",
       "</div>\n",
       "      <button class=\"colab-df-convert\" onclick=\"convertToInteractive('df-40577029-395b-4431-a30d-76cfa5ad5215')\"\n",
       "              title=\"Convert this dataframe to an interactive table.\"\n",
       "              style=\"display:none;\">\n",
       "        \n",
       "  <svg xmlns=\"http://www.w3.org/2000/svg\" height=\"24px\"viewBox=\"0 0 24 24\"\n",
       "       width=\"24px\">\n",
       "    <path d=\"M0 0h24v24H0V0z\" fill=\"none\"/>\n",
       "    <path d=\"M18.56 5.44l.94 2.06.94-2.06 2.06-.94-2.06-.94-.94-2.06-.94 2.06-2.06.94zm-11 1L8.5 8.5l.94-2.06 2.06-.94-2.06-.94L8.5 2.5l-.94 2.06-2.06.94zm10 10l.94 2.06.94-2.06 2.06-.94-2.06-.94-.94-2.06-.94 2.06-2.06.94z\"/><path d=\"M17.41 7.96l-1.37-1.37c-.4-.4-.92-.59-1.43-.59-.52 0-1.04.2-1.43.59L10.3 9.45l-7.72 7.72c-.78.78-.78 2.05 0 2.83L4 21.41c.39.39.9.59 1.41.59.51 0 1.02-.2 1.41-.59l7.78-7.78 2.81-2.81c.8-.78.8-2.07 0-2.86zM5.41 20L4 18.59l7.72-7.72 1.47 1.35L5.41 20z\"/>\n",
       "  </svg>\n",
       "      </button>\n",
       "      \n",
       "  <style>\n",
       "    .colab-df-container {\n",
       "      display:flex;\n",
       "      flex-wrap:wrap;\n",
       "      gap: 12px;\n",
       "    }\n",
       "\n",
       "    .colab-df-convert {\n",
       "      background-color: #E8F0FE;\n",
       "      border: none;\n",
       "      border-radius: 50%;\n",
       "      cursor: pointer;\n",
       "      display: none;\n",
       "      fill: #1967D2;\n",
       "      height: 32px;\n",
       "      padding: 0 0 0 0;\n",
       "      width: 32px;\n",
       "    }\n",
       "\n",
       "    .colab-df-convert:hover {\n",
       "      background-color: #E2EBFA;\n",
       "      box-shadow: 0px 1px 2px rgba(60, 64, 67, 0.3), 0px 1px 3px 1px rgba(60, 64, 67, 0.15);\n",
       "      fill: #174EA6;\n",
       "    }\n",
       "\n",
       "    [theme=dark] .colab-df-convert {\n",
       "      background-color: #3B4455;\n",
       "      fill: #D2E3FC;\n",
       "    }\n",
       "\n",
       "    [theme=dark] .colab-df-convert:hover {\n",
       "      background-color: #434B5C;\n",
       "      box-shadow: 0px 1px 3px 1px rgba(0, 0, 0, 0.15);\n",
       "      filter: drop-shadow(0px 1px 2px rgba(0, 0, 0, 0.3));\n",
       "      fill: #FFFFFF;\n",
       "    }\n",
       "  </style>\n",
       "\n",
       "      <script>\n",
       "        const buttonEl =\n",
       "          document.querySelector('#df-40577029-395b-4431-a30d-76cfa5ad5215 button.colab-df-convert');\n",
       "        buttonEl.style.display =\n",
       "          google.colab.kernel.accessAllowed ? 'block' : 'none';\n",
       "\n",
       "        async function convertToInteractive(key) {\n",
       "          const element = document.querySelector('#df-40577029-395b-4431-a30d-76cfa5ad5215');\n",
       "          const dataTable =\n",
       "            await google.colab.kernel.invokeFunction('convertToInteractive',\n",
       "                                                     [key], {});\n",
       "          if (!dataTable) return;\n",
       "\n",
       "          const docLinkHtml = 'Like what you see? Visit the ' +\n",
       "            '<a target=\"_blank\" href=https://colab.research.google.com/notebooks/data_table.ipynb>data table notebook</a>'\n",
       "            + ' to learn more about interactive tables.';\n",
       "          element.innerHTML = '';\n",
       "          dataTable['output_type'] = 'display_data';\n",
       "          await google.colab.output.renderOutput(dataTable, element);\n",
       "          const docLink = document.createElement('div');\n",
       "          docLink.innerHTML = docLinkHtml;\n",
       "          element.appendChild(docLink);\n",
       "        }\n",
       "      </script>\n",
       "    </div>\n",
       "  </div>\n",
       "  "
      ],
      "text/plain": [
       "   danceability  energy  key  loudness  mode  speechiness  acousticness  \\\n",
       "0         0.831   0.814    2    -7.364     1       0.4200        0.0598   \n",
       "1         0.719   0.493    8    -7.230     1       0.0794        0.4010   \n",
       "2         0.850   0.893    5    -4.783     1       0.0623        0.0138   \n",
       "3         0.476   0.781    0    -4.710     1       0.1030        0.0237   \n",
       "4         0.798   0.624    2    -7.668     1       0.2930        0.2170   \n",
       "\n",
       "   instrumentalness  liveness  valence    tempo                      id  \\\n",
       "0          0.013400    0.0556   0.3890  156.985  2Vc6NJ9PW9gD9q343XFRKx   \n",
       "1          0.000000    0.1180   0.1240  115.080  7pgJBLVz5VmnL7uGHmRj6p   \n",
       "2          0.000004    0.3720   0.0391  218.050  0vSWgAlfpye0WCGeNmuNhy   \n",
       "3          0.000000    0.1140   0.1750  186.948  0VSXnJqQkwuH2ei1nOQ1nu   \n",
       "4          0.000000    0.1660   0.5910  147.988  4jCeguq9rMTlbMmPHuO7S3   \n",
       "\n",
       "   duration_ms  time_signature      genre  \\\n",
       "0       124539               4  Dark Trap   \n",
       "1       224427               4  Dark Trap   \n",
       "2        98821               4  Dark Trap   \n",
       "3       123661               3  Dark Trap   \n",
       "4       123298               4  Dark Trap   \n",
       "\n",
       "                                            name  \n",
       "0                            Mercury: Retrograde  \n",
       "1                                      Pathology  \n",
       "2                                       Symbiote  \n",
       "3  ProductOfDrugs (Prod. The Virus and Antidote)  \n",
       "4                                          Venom  "
      ]
     },
     "execution_count": 5,
     "metadata": {},
     "output_type": "execute_result"
    }
   ],
   "source": [
    "url='https://drive.google.com/file/d/1hPKmiRJy2Gb_rwqWcrY9OwMNk-Zn7PVK/view'\n",
    "url='https://drive.google.com/uc?id=' + url.split('/')[-2]\n",
    "genre = pd.read_csv(url)\n",
    "genre.head()"
   ]
  },
  {
   "cell_type": "markdown",
   "metadata": {
    "id": "9FMhlqFp4FFs"
   },
   "source": [
    "## Define features and labels"
   ]
  },
  {
   "cell_type": "markdown",
   "metadata": {
    "id": "ZuspfQoD5Zog"
   },
   "source": [
    "### We want to predict the genre in the song dataset. So we can only use the feature which are present on both ds."
   ]
  },
  {
   "cell_type": "code",
   "execution_count": null,
   "metadata": {
    "colab": {
     "base_uri": "https://localhost:8080/"
    },
    "id": "ovSw8RPw5RRz",
    "outputId": "d36bb565-20fe-4f8b-96bb-4e308b93d654"
   },
   "outputs": [
    {
     "data": {
      "text/plain": [
       "['danceability',\n",
       " 'energy',\n",
       " 'key',\n",
       " 'loudness',\n",
       " 'mode',\n",
       " 'speechiness',\n",
       " 'acousticness',\n",
       " 'instrumentalness',\n",
       " 'liveness',\n",
       " 'valence',\n",
       " 'tempo',\n",
       " 'id',\n",
       " 'duration_ms',\n",
       " 'name']"
      ]
     },
     "execution_count": 6,
     "metadata": {},
     "output_type": "execute_result"
    }
   ],
   "source": [
    "[x for  x in genre.columns if x in song.columns]"
   ]
  },
  {
   "cell_type": "markdown",
   "metadata": {
    "id": "lXGd332I5P7D"
   },
   "source": [
    "## checking distribution for duration and genre"
   ]
  },
  {
   "cell_type": "markdown",
   "metadata": {
    "id": "xdtXUUfj6wMA"
   },
   "source": [
    "### Hypothesis: if the duration has a meaningful relation with the genres? If so we can include it in the features."
   ]
  },
  {
   "cell_type": "code",
   "execution_count": null,
   "metadata": {
    "colab": {
     "base_uri": "https://localhost:8080/",
     "height": 558
    },
    "id": "uQfh89Kx62pV",
    "outputId": "7cf28393-1776-419f-f2e0-bd0fb4e076cc"
   },
   "outputs": [
    {
     "data": {
      "image/png": "[encoded data removed]",
      "text/plain": [
       "<Figure size 640x480 with 1 Axes>"
      ]
     },
     "metadata": {},
     "output_type": "display_data"
    }
   ],
   "source": [
    "x = sns.boxplot(data = genre, x='genre', y = 'duration_ms')\n",
    "x.tick_params(axis = 'x', rotation = 90)"
   ]
  },
  {
   "cell_type": "markdown",
   "metadata": {
    "id": "zk-0uj4P98zZ"
   },
   "source": [
    "### hypothesis: maybe there is a correlation between energy and tempo? if so we can eliminate one, so that the algorithm doesn't get confused."
   ]
  },
  {
   "cell_type": "code",
   "execution_count": null,
   "metadata": {
    "colab": {
     "base_uri": "https://localhost:8080/",
     "height": 558
    },
    "id": "9UkOiIsGv1X_",
    "outputId": "24c59626-c0c0-4ab2-f1b3-e3cdb5363ac1"
   },
   "outputs": [
    {
     "data": {
      "image/png": "[encoded data removed]",
      "text/plain": [
       "<Figure size 640x480 with 1 Axes>"
      ]
     },
     "metadata": {},
     "output_type": "display_data"
    }
   ],
   "source": [
    "x = sns.boxplot(data = genre, x='genre', y = 'valence')\n",
    "x.tick_params(axis = 'x', rotation = 90)"
   ]
  },
  {
   "cell_type": "code",
   "execution_count": null,
   "metadata": {
    "colab": {
     "base_uri": "https://localhost:8080/",
     "height": 558
    },
    "id": "9EyOQl1tv7Cq",
    "outputId": "291d3419-342e-4685-f468-6dac8a6a1e18"
   },
   "outputs": [
    {
     "data": {
      "image/png": "[encoded data removed]",
      "text/plain": [
       "<Figure size 640x480 with 1 Axes>"
      ]
     },
     "metadata": {},
     "output_type": "display_data"
    }
   ],
   "source": [
    "x = sns.boxplot(data = genre, x='genre', y = 'speechiness')\n",
    "x.tick_params(axis = 'x', rotation = 90)"
   ]
  },
  {
   "cell_type": "code",
   "execution_count": null,
   "metadata": {
    "colab": {
     "base_uri": "https://localhost:8080/",
     "height": 467
    },
    "id": "Bo4ebRvj9O70",
    "outputId": "f18e75d7-a615-43ee-9063-2bdb00c1617b"
   },
   "outputs": [
    {
     "data": {
      "text/plain": [
       "<Axes: xlabel='energy', ylabel='tempo'>"
      ]
     },
     "execution_count": 8,
     "metadata": {},
     "output_type": "execute_result"
    },
    {
     "data": {
      "image/png": "[encoded data removed]",
      "text/plain": [
       "<Figure size 640x480 with 1 Axes>"
      ]
     },
     "metadata": {},
     "output_type": "display_data"
    }
   ],
   "source": [
    "sns.scatterplot(data = genre.sample(n=200) , x = 'energy', y = 'tempo')"
   ]
  },
  {
   "cell_type": "markdown",
   "metadata": {
    "id": "4Upmm9yA-HvP"
   },
   "source": [
    "###hypothesis: correlation between valence and danceabilty?\n",
    "\n",
    "\n",
    "\n"
   ]
  },
  {
   "cell_type": "code",
   "execution_count": null,
   "metadata": {
    "colab": {
     "base_uri": "https://localhost:8080/",
     "height": 468
    },
    "id": "qLesXSzj-uyY",
    "outputId": "08746969-4a3e-47d2-fe2b-a146cca72947"
   },
   "outputs": [
    {
     "data": {
      "text/plain": [
       "<Axes: xlabel='danceability', ylabel='valence'>"
      ]
     },
     "execution_count": 9,
     "metadata": {},
     "output_type": "execute_result"
    },
    {
     "data": {
      "image/png": "[encoded data removed]",
      "text/plain": [
       "<Figure size 640x480 with 1 Axes>"
      ]
     },
     "metadata": {},
     "output_type": "display_data"
    }
   ],
   "source": [
    "sns.scatterplot(data = genre.sample(n=200), x= 'danceability', y = 'valence')"
   ]
  },
  {
   "cell_type": "code",
   "execution_count": null,
   "metadata": {
    "colab": {
     "base_uri": "https://localhost:8080/"
    },
    "id": "MN7u_I6H_R5p",
    "outputId": "63020f86-6d6b-4f77-fa82-b1a8762f73a4"
   },
   "outputs": [
    {
     "name": "stdout",
     "output_type": "stream",
     "text": [
      "0.3698446982406279 0.0\n"
     ]
    }
   ],
   "source": [
    "corr_coeficient, pvalue = pearsonr(genre.danceability, genre.valence)\n",
    "print(corr_coeficient, pvalue)"
   ]
  },
  {
   "cell_type": "code",
   "execution_count": null,
   "metadata": {
    "colab": {
     "base_uri": "https://localhost:8080/"
    },
    "id": "X5van_FL_1pQ",
    "outputId": "51c48ffe-ead6-4c2e-f069-e77e6fe238c1"
   },
   "outputs": [
    {
     "data": {
      "text/plain": [
       "Underground Rap    5875\n",
       "Dark Trap          4578\n",
       "Hiphop             3028\n",
       "trance             2999\n",
       "trap               2987\n",
       "techhouse          2975\n",
       "dnb                2966\n",
       "psytrance          2961\n",
       "techno             2956\n",
       "hardstyle          2936\n",
       "RnB                2099\n",
       "Trap Metal         1956\n",
       "Rap                1848\n",
       "Emo                1680\n",
       "Pop                 461\n",
       "Name: genre, dtype: int64"
      ]
     },
     "execution_count": 11,
     "metadata": {},
     "output_type": "execute_result"
    }
   ],
   "source": [
    "genre.genre.value_counts()"
   ]
  },
  {
   "cell_type": "markdown",
   "metadata": {
    "id": "t55Xg7v1_ldN"
   },
   "source": [
    "feature list :\n",
    "'danceability',\n",
    " 'energy',\n",
    " 'key',\n",
    " 'loudness',\n",
    " 'mode',\n",
    " 'speechiness',\n",
    " 'acousticness',\n",
    " 'instrumentalness',\n",
    " 'liveness',\n",
    " 'valence',\n",
    " 'tempo',\n",
    " 'duration_ms'\n",
    "\n",
    "---\n",
    "\n",
    "labels: Underground Rap ,\n",
    "Dark Trap  ,\n",
    "Hiphop  ,\n",
    "trance   ,\n",
    "trap   ,\n",
    "techhouse,\n",
    "dnb        ,\n",
    "psytrance\n",
    "techno\n",
    "hardstyle\n",
    "RnB\n",
    "Trap Metal\n",
    "Rap\n",
    "Emo\n",
    "Pop"
   ]
  },
  {
   "cell_type": "markdown",
   "metadata": {
    "id": "qyG3YRvT4JrQ"
   },
   "source": [
    "### Divide into training and testing dataset"
   ]
  },
  {
   "cell_type": "markdown",
   "metadata": {
    "id": "Gp5SwfM9AVmf"
   },
   "source": [
    "### The main dataset to be used for the training"
   ]
  },
  {
   "cell_type": "code",
   "execution_count": null,
   "metadata": {
    "id": "kEBDCJKmBAT0"
   },
   "outputs": [],
   "source": [
    "from sklearn.model_selection import train_test_split"
   ]
  },
  {
   "cell_type": "code",
   "execution_count": null,
   "metadata": {
    "id": "jr05hMc6AUrO"
   },
   "outputs": [],
   "source": [
    "genre_training = genre[['danceability', 'energy', 'key', 'loudness', 'mode', 'speechiness', 'acousticness', 'instrumentalness', 'liveness', 'valence', 'tempo', 'duration_ms','genre']]"
   ]
  },
  {
   "cell_type": "code",
   "execution_count": null,
   "metadata": {
    "id": "tcqYNA3cBUzq"
   },
   "outputs": [],
   "source": [
    "genre_trainds, genre_testds = train_test_split(genre_training, test_size=0.2, random_state=5758658)"
   ]
  },
  {
   "cell_type": "code",
   "execution_count": null,
   "metadata": {
    "id": "w8FRI0JlMrV4"
   },
   "outputs": [],
   "source": [
    "train, test = train_test_split(genre_training, test_size=0.2, random_state=5758658)\n",
    "X_train = train[['danceability', 'energy', 'key', 'loudness', 'mode', 'speechiness', 'acousticness', 'instrumentalness', 'liveness', 'valence', 'tempo', 'duration_ms']]\n",
    "X_test = test[['danceability', 'energy', 'key', 'loudness', 'mode', 'speechiness', 'acousticness', 'instrumentalness', 'liveness', 'valence', 'tempo', 'duration_ms']]\n",
    "y_train = train['genre']\n",
    "y_test = test['genre']"
   ]
  },
  {
   "cell_type": "code",
   "execution_count": null,
   "metadata": {
    "id": "n20pungG_TJK"
   },
   "outputs": [],
   "source": [
    "# data normalization with sklearn\n",
    "from sklearn.preprocessing import MinMaxScaler\n",
    "\n",
    "# fit scaler on training data\n",
    "norm = MinMaxScaler().fit(X_train)\n",
    "\n",
    "# transform training data\n",
    "X_train_norm = norm.transform(X_train)\n",
    "\n",
    "# transform testing dataabs\n",
    "X_test_norm = norm.transform(X_test)"
   ]
  },
  {
   "cell_type": "code",
   "execution_count": null,
   "metadata": {
    "colab": {
     "base_uri": "https://localhost:8080/"
    },
    "id": "hUKvnUYdUDxw",
    "outputId": "95d08994-06df-4032-bd95-565666e587a8"
   },
   "outputs": [
    {
     "data": {
      "text/plain": [
       "(33844, 12)"
      ]
     },
     "execution_count": 17,
     "metadata": {},
     "output_type": "execute_result"
    }
   ],
   "source": [
    "X_train_norm.shape"
   ]
  },
  {
   "cell_type": "code",
   "execution_count": null,
   "metadata": {
    "id": "_1x0os9PBY7z"
   },
   "outputs": [],
   "source": [
    "# data standardization with  sklearn\n",
    "from sklearn.preprocessing import StandardScaler\n",
    "\n",
    "# copy of datasets\n",
    "X_train_stand = X_train.copy()\n",
    "X_test_stand = X_test.copy()\n",
    "\n",
    "# numerical features\n",
    "num_cols = ['danceability', 'energy', 'key', 'loudness', 'mode', 'speechiness', 'acousticness', 'instrumentalness', 'liveness', 'valence', 'tempo', 'duration_ms']\n",
    "\n",
    "# apply standardization on numerical features\n",
    "for i in num_cols:\n",
    "\n",
    "    # fit on training data column\n",
    "    scale = StandardScaler().fit(X_train_stand[[i]])\n",
    "\n",
    "    # transform the training data column\n",
    "    X_train_stand[i] = scale.transform(X_train_stand[[i]])\n",
    "\n",
    "    # transform the testing data column\n",
    "    X_test_stand[i] = scale.transform(X_test_stand[[i]])"
   ]
  },
  {
   "cell_type": "code",
   "execution_count": null,
   "metadata": {
    "colab": {
     "base_uri": "https://localhost:8080/"
    },
    "id": "WMvd_qdEC36O",
    "outputId": "118177e1-d708-46de-b0e1-9c7ef5c28a87"
   },
   "outputs": [
    {
     "name": "stdout",
     "output_type": "stream",
     "text": [
      "0.2\n"
     ]
    }
   ],
   "source": [
    "print(genre_testds.shape[0]/genre.shape[0])"
   ]
  },
  {
   "cell_type": "code",
   "execution_count": null,
   "metadata": {
    "colab": {
     "base_uri": "https://localhost:8080/"
    },
    "id": "KzCzngiYDjOR",
    "outputId": "cb34a759-3c7b-4aa3-e78e-8d7f1a7f6360"
   },
   "outputs": [
    {
     "data": {
      "text/plain": [
       "genre\n",
       "Underground Rap    0.140409\n",
       "Dark Trap          0.107198\n",
       "trap               0.076469\n",
       "dnb                0.073514\n",
       "techhouse          0.073277\n",
       "Hiphop             0.070795\n",
       "hardstyle          0.069732\n",
       "trance             0.069495\n",
       "psytrance          0.067604\n",
       "techno             0.065831\n",
       "RnB                0.047394\n",
       "Trap Metal         0.045385\n",
       "Rap                0.042194\n",
       "Emo                0.041484\n",
       "Pop                0.009219\n",
       "dtype: float64"
      ]
     },
     "execution_count": 20,
     "metadata": {},
     "output_type": "execute_result"
    }
   ],
   "source": [
    "genre_testds.value_counts(\"genre\")/genre_testds.shape[0]"
   ]
  },
  {
   "cell_type": "code",
   "execution_count": null,
   "metadata": {
    "colab": {
     "base_uri": "https://localhost:8080/"
    },
    "id": "gNuOgKqcEXiB",
    "outputId": "5bdc75de-567d-4f23-e86a-8d3f5bf94cec"
   },
   "outputs": [
    {
     "data": {
      "text/plain": [
       "genre\n",
       "Underground Rap    0.138872\n",
       "Dark Trap          0.108214\n",
       "Hiphop             0.071575\n",
       "trance             0.070890\n",
       "trap               0.070606\n",
       "techhouse          0.070323\n",
       "dnb                0.070110\n",
       "psytrance          0.069992\n",
       "techno             0.069874\n",
       "hardstyle          0.069401\n",
       "RnB                0.049616\n",
       "Trap Metal         0.046236\n",
       "Rap                0.043683\n",
       "Emo                0.039712\n",
       "Pop                0.010897\n",
       "dtype: float64"
      ]
     },
     "execution_count": 21,
     "metadata": {},
     "output_type": "execute_result"
    }
   ],
   "source": [
    "genre.value_counts(\"genre\")/genre.shape[0]"
   ]
  },
  {
   "cell_type": "markdown",
   "metadata": {
    "id": "CAzErmtY4QFx"
   },
   "source": [
    "### Train the model!"
   ]
  },
  {
   "cell_type": "markdown",
   "metadata": {
    "id": "YNB2Wr5t_gsX"
   },
   "source": [
    "We decided to choose a classification machine learning method since we had distinct labels for genre."
   ]
  },
  {
   "cell_type": "markdown",
   "metadata": {
    "id": "FIZV2blHLb6b"
   },
   "source": [
    "### Original Data"
   ]
  },
  {
   "cell_type": "code",
   "execution_count": null,
   "metadata": {
    "id": "tsGYEVA_Ewoo"
   },
   "outputs": [],
   "source": [
    "from sklearn.ensemble import RandomForestClassifier, GradientBoostingClassifier\n",
    "from sklearn.linear_model import LogisticRegression\n",
    "from sklearn.metrics import f1_score, accuracy_score"
   ]
  },
  {
   "cell_type": "code",
   "execution_count": null,
   "metadata": {
    "colab": {
     "base_uri": "https://localhost:8080/",
     "height": 75
    },
    "id": "MghwvleFIXwh",
    "outputId": "1e524e58-d357-4da3-e948-5aa4a9ae2d7f"
   },
   "outputs": [
    {
     "data": {
      "text/html": [
       "<style>#sk-container-id-1 {color: black;background-color: white;}#sk-container-id-1 pre{padding: 0;}#sk-container-id-1 div.sk-toggleable {background-color: white;}#sk-container-id-1 label.sk-toggleable__label {cursor: pointer;display: block;width: 100%;margin-bottom: 0;padding: 0.3em;box-sizing: border-box;text-align: center;}#sk-container-id-1 label.sk-toggleable__label-arrow:before {content: \"▸\";float: left;margin-right: 0.25em;color: #696969;}#sk-container-id-1 label.sk-toggleable__label-arrow:hover:before {color: black;}#sk-container-id-1 div.sk-estimator:hover label.sk-toggleable__label-arrow:before {color: black;}#sk-container-id-1 div.sk-toggleable__content {max-height: 0;max-width: 0;overflow: hidden;text-align: left;background-color: #f0f8ff;}#sk-container-id-1 div.sk-toggleable__content pre {margin: 0.2em;color: black;border-radius: 0.25em;background-color: #f0f8ff;}#sk-container-id-1 input.sk-toggleable__control:checked~div.sk-toggleable__content {max-height: 200px;max-width: 100%;overflow: auto;}#sk-container-id-1 input.sk-toggleable__control:checked~label.sk-toggleable__label-arrow:before {content: \"▾\";}#sk-container-id-1 div.sk-estimator input.sk-toggleable__control:checked~label.sk-toggleable__label {background-color: #d4ebff;}#sk-container-id-1 div.sk-label input.sk-toggleable__control:checked~label.sk-toggleable__label {background-color: #d4ebff;}#sk-container-id-1 input.sk-hidden--visually {border: 0;clip: rect(1px 1px 1px 1px);clip: rect(1px, 1px, 1px, 1px);height: 1px;margin: -1px;overflow: hidden;padding: 0;position: absolute;width: 1px;}#sk-container-id-1 div.sk-estimator {font-family: monospace;background-color: #f0f8ff;border: 1px dotted black;border-radius: 0.25em;box-sizing: border-box;margin-bottom: 0.5em;}#sk-container-id-1 div.sk-estimator:hover {background-color: #d4ebff;}#sk-container-id-1 div.sk-parallel-item::after {content: \"\";width: 100%;border-bottom: 1px solid gray;flex-grow: 1;}#sk-container-id-1 div.sk-label:hover label.sk-toggleable__label {background-color: #d4ebff;}#sk-container-id-1 div.sk-serial::before {content: \"\";position: absolute;border-left: 1px solid gray;box-sizing: border-box;top: 0;bottom: 0;left: 50%;z-index: 0;}#sk-container-id-1 div.sk-serial {display: flex;flex-direction: column;align-items: center;background-color: white;padding-right: 0.2em;padding-left: 0.2em;position: relative;}#sk-container-id-1 div.sk-item {position: relative;z-index: 1;}#sk-container-id-1 div.sk-parallel {display: flex;align-items: stretch;justify-content: center;background-color: white;position: relative;}#sk-container-id-1 div.sk-item::before, #sk-container-id-1 div.sk-parallel-item::before {content: \"\";position: absolute;border-left: 1px solid gray;box-sizing: border-box;top: 0;bottom: 0;left: 50%;z-index: -1;}#sk-container-id-1 div.sk-parallel-item {display: flex;flex-direction: column;z-index: 1;position: relative;background-color: white;}#sk-container-id-1 div.sk-parallel-item:first-child::after {align-self: flex-end;width: 50%;}#sk-container-id-1 div.sk-parallel-item:last-child::after {align-self: flex-start;width: 50%;}#sk-container-id-1 div.sk-parallel-item:only-child::after {width: 0;}#sk-container-id-1 div.sk-dashed-wrapped {border: 1px dashed gray;margin: 0 0.4em 0.5em 0.4em;box-sizing: border-box;padding-bottom: 0.4em;background-color: white;}#sk-container-id-1 div.sk-label label {font-family: monospace;font-weight: bold;display: inline-block;line-height: 1.2em;}#sk-container-id-1 div.sk-label-container {text-align: center;}#sk-container-id-1 div.sk-container {/* jupyter's `normalize.less` sets `[hidden] { display: none; }` but bootstrap.min.css set `[hidden] { display: none !important; }` so we also need the `!important` here to be able to override the default hidden behavior on the sphinx rendered scikit-learn.org. See: https://github.com/scikit-learn/scikit-learn/issues/21755 */display: inline-block !important;position: relative;}#sk-container-id-1 div.sk-text-repr-fallback {display: none;}</style><div id=\"sk-container-id-1\" class=\"sk-top-container\"><div class=\"sk-text-repr-fallback\"><pre>RandomForestClassifier()</pre><b>In a Jupyter environment, please rerun this cell to show the HTML representation or trust the notebook. <br />On GitHub, the HTML representation is unable to render, please try loading this page with nbviewer.org.</b></div><div class=\"sk-container\" hidden><div class=\"sk-item\"><div class=\"sk-estimator sk-toggleable\"><input class=\"sk-toggleable__control sk-hidden--visually\" id=\"sk-estimator-id-1\" type=\"checkbox\" checked><label for=\"sk-estimator-id-1\" class=\"sk-toggleable__label sk-toggleable__label-arrow\">RandomForestClassifier</label><div class=\"sk-toggleable__content\"><pre>RandomForestClassifier()</pre></div></div></div></div></div>"
      ],
      "text/plain": [
       "RandomForestClassifier()"
      ]
     },
     "execution_count": 23,
     "metadata": {},
     "output_type": "execute_result"
    }
   ],
   "source": [
    "classifier = RandomForestClassifier()\n",
    "train_features = genre_trainds[['danceability', 'energy', 'key', 'loudness', 'mode', 'speechiness', 'acousticness', 'instrumentalness', 'liveness', 'valence', 'tempo', 'duration_ms']]\n",
    "train_label = genre_trainds['genre']\n",
    "classifier.fit(X=train_features, y=train_label)"
   ]
  },
  {
   "cell_type": "markdown",
   "metadata": {
    "id": "6p27kGSBOApI"
   },
   "source": [
    "### Normalized data"
   ]
  },
  {
   "cell_type": "code",
   "execution_count": null,
   "metadata": {
    "colab": {
     "base_uri": "https://localhost:8080/",
     "height": 75
    },
    "id": "ozfEIO25LEYu",
    "outputId": "638e6156-5d50-46ae-88cd-6d2fec9c8a34"
   },
   "outputs": [
    {
     "data": {
      "text/html": [
       "<style>#sk-container-id-2 {color: black;background-color: white;}#sk-container-id-2 pre{padding: 0;}#sk-container-id-2 div.sk-toggleable {background-color: white;}#sk-container-id-2 label.sk-toggleable__label {cursor: pointer;display: block;width: 100%;margin-bottom: 0;padding: 0.3em;box-sizing: border-box;text-align: center;}#sk-container-id-2 label.sk-toggleable__label-arrow:before {content: \"▸\";float: left;margin-right: 0.25em;color: #696969;}#sk-container-id-2 label.sk-toggleable__label-arrow:hover:before {color: black;}#sk-container-id-2 div.sk-estimator:hover label.sk-toggleable__label-arrow:before {color: black;}#sk-container-id-2 div.sk-toggleable__content {max-height: 0;max-width: 0;overflow: hidden;text-align: left;background-color: #f0f8ff;}#sk-container-id-2 div.sk-toggleable__content pre {margin: 0.2em;color: black;border-radius: 0.25em;background-color: #f0f8ff;}#sk-container-id-2 input.sk-toggleable__control:checked~div.sk-toggleable__content {max-height: 200px;max-width: 100%;overflow: auto;}#sk-container-id-2 input.sk-toggleable__control:checked~label.sk-toggleable__label-arrow:before {content: \"▾\";}#sk-container-id-2 div.sk-estimator input.sk-toggleable__control:checked~label.sk-toggleable__label {background-color: #d4ebff;}#sk-container-id-2 div.sk-label input.sk-toggleable__control:checked~label.sk-toggleable__label {background-color: #d4ebff;}#sk-container-id-2 input.sk-hidden--visually {border: 0;clip: rect(1px 1px 1px 1px);clip: rect(1px, 1px, 1px, 1px);height: 1px;margin: -1px;overflow: hidden;padding: 0;position: absolute;width: 1px;}#sk-container-id-2 div.sk-estimator {font-family: monospace;background-color: #f0f8ff;border: 1px dotted black;border-radius: 0.25em;box-sizing: border-box;margin-bottom: 0.5em;}#sk-container-id-2 div.sk-estimator:hover {background-color: #d4ebff;}#sk-container-id-2 div.sk-parallel-item::after {content: \"\";width: 100%;border-bottom: 1px solid gray;flex-grow: 1;}#sk-container-id-2 div.sk-label:hover label.sk-toggleable__label {background-color: #d4ebff;}#sk-container-id-2 div.sk-serial::before {content: \"\";position: absolute;border-left: 1px solid gray;box-sizing: border-box;top: 0;bottom: 0;left: 50%;z-index: 0;}#sk-container-id-2 div.sk-serial {display: flex;flex-direction: column;align-items: center;background-color: white;padding-right: 0.2em;padding-left: 0.2em;position: relative;}#sk-container-id-2 div.sk-item {position: relative;z-index: 1;}#sk-container-id-2 div.sk-parallel {display: flex;align-items: stretch;justify-content: center;background-color: white;position: relative;}#sk-container-id-2 div.sk-item::before, #sk-container-id-2 div.sk-parallel-item::before {content: \"\";position: absolute;border-left: 1px solid gray;box-sizing: border-box;top: 0;bottom: 0;left: 50%;z-index: -1;}#sk-container-id-2 div.sk-parallel-item {display: flex;flex-direction: column;z-index: 1;position: relative;background-color: white;}#sk-container-id-2 div.sk-parallel-item:first-child::after {align-self: flex-end;width: 50%;}#sk-container-id-2 div.sk-parallel-item:last-child::after {align-self: flex-start;width: 50%;}#sk-container-id-2 div.sk-parallel-item:only-child::after {width: 0;}#sk-container-id-2 div.sk-dashed-wrapped {border: 1px dashed gray;margin: 0 0.4em 0.5em 0.4em;box-sizing: border-box;padding-bottom: 0.4em;background-color: white;}#sk-container-id-2 div.sk-label label {font-family: monospace;font-weight: bold;display: inline-block;line-height: 1.2em;}#sk-container-id-2 div.sk-label-container {text-align: center;}#sk-container-id-2 div.sk-container {/* jupyter's `normalize.less` sets `[hidden] { display: none; }` but bootstrap.min.css set `[hidden] { display: none !important; }` so we also need the `!important` here to be able to override the default hidden behavior on the sphinx rendered scikit-learn.org. See: https://github.com/scikit-learn/scikit-learn/issues/21755 */display: inline-block !important;position: relative;}#sk-container-id-2 div.sk-text-repr-fallback {display: none;}</style><div id=\"sk-container-id-2\" class=\"sk-top-container\"><div class=\"sk-text-repr-fallback\"><pre>RandomForestClassifier(max_depth=14)</pre><b>In a Jupyter environment, please rerun this cell to show the HTML representation or trust the notebook. <br />On GitHub, the HTML representation is unable to render, please try loading this page with nbviewer.org.</b></div><div class=\"sk-container\" hidden><div class=\"sk-item\"><div class=\"sk-estimator sk-toggleable\"><input class=\"sk-toggleable__control sk-hidden--visually\" id=\"sk-estimator-id-2\" type=\"checkbox\" checked><label for=\"sk-estimator-id-2\" class=\"sk-toggleable__label sk-toggleable__label-arrow\">RandomForestClassifier</label><div class=\"sk-toggleable__content\"><pre>RandomForestClassifier(max_depth=14)</pre></div></div></div></div></div>"
      ],
      "text/plain": [
       "RandomForestClassifier(max_depth=14)"
      ]
     },
     "execution_count": 24,
     "metadata": {},
     "output_type": "execute_result"
    }
   ],
   "source": [
    "norm_clf = RandomForestClassifier(max_depth=14)\n",
    "norm_clf.fit(X_train_norm,y_train)"
   ]
  },
  {
   "cell_type": "markdown",
   "metadata": {
    "id": "URxsrpOMy3ga"
   },
   "source": [
    "##Visuallizing the tree"
   ]
  },
  {
   "cell_type": "code",
   "execution_count": null,
   "metadata": {
    "id": "uwwCyNLtzAaO"
   },
   "outputs": [],
   "source": [
    "from sklearn.tree import export_graphviz\n",
    "from IPython.display import Image\n",
    "import graphviz"
   ]
  },
  {
   "cell_type": "code",
   "execution_count": null,
   "metadata": {
    "colab": {
     "base_uri": "https://localhost:8080/",
     "height": 1000
    },
    "id": "2fdUAgfP1L0l",
    "outputId": "603227ed-37d8-40c5-8fd7-4764258fe1a1"
   },
   "outputs": [
    {
     "data": {
      "image/svg+xml": [
       "<?xml version=\"1.0\" encoding=\"UTF-8\" standalone=\"no\"?>\n",
       "<!DOCTYPE svg PUBLIC \"-//W3C//DTD SVG 1.1//EN\"\n",
       " \"http://www.w3.org/Graphics/SVG/1.1/DTD/svg11.dtd\">\n",
       "<!-- Generated by graphviz version 2.43.0 (0)\n",
       " -->\n",
       "<!-- Title: Tree Pages: 1 -->\n",
       "<svg width=\"3118pt\" height=\"460pt\"\n",
       " viewBox=\"0.00 0.00 3117.50 460.00\" xmlns=\"http://www.w3.org/2000/svg\" xmlns:xlink=\"http://www.w3.org/1999/xlink\">\n",
       "<g id=\"graph0\" class=\"graph\" transform=\"scale(1 1) rotate(0) translate(4 456)\">\n",
       "<title>Tree</title>\n",
       "<polygon fill=\"white\" stroke=\"transparent\" points=\"-4,4 -4,-456 3113.5,-456 3113.5,4 -4,4\"/>\n",
       "<!-- 0 -->\n",
       "<g id=\"node1\" class=\"node\">\n",
       "<title>0</title>\n",
       "<polygon fill=\"#f8fdfe\" stroke=\"black\" points=\"1732.5,-452 1349.5,-452 1349.5,-384 1732.5,-384 1732.5,-452\"/>\n",
       "<text text-anchor=\"middle\" x=\"1541\" y=\"-436.8\" font-family=\"Helvetica,sans-Serif\" font-size=\"14.00\">tempo &lt;= 138.534</text>\n",
       "<text text-anchor=\"middle\" x=\"1541\" y=\"-421.8\" font-family=\"Helvetica,sans-Serif\" font-size=\"14.00\">samples = 100.0%</text>\n",
       "<text text-anchor=\"middle\" x=\"1541\" y=\"-406.8\" font-family=\"Helvetica,sans-Serif\" font-size=\"14.00\">value = [0.106, 0.041, 0.071, 0.012, 0.045, 0.05, 0.048, 0.137</text>\n",
       "<text text-anchor=\"middle\" x=\"1541\" y=\"-391.8\" font-family=\"Helvetica,sans-Serif\" font-size=\"14.00\">0.067, 0.071, 0.071, 0.07, 0.07, 0.07, 0.07]</text>\n",
       "</g>\n",
       "<!-- 1 -->\n",
       "<g id=\"node2\" class=\"node\">\n",
       "<title>1</title>\n",
       "<polygon fill=\"#fffdff\" stroke=\"black\" points=\"1347.5,-348 956.5,-348 956.5,-280 1347.5,-280 1347.5,-348\"/>\n",
       "<text text-anchor=\"middle\" x=\"1152\" y=\"-332.8\" font-family=\"Helvetica,sans-Serif\" font-size=\"14.00\">acousticness &lt;= 0.018</text>\n",
       "<text text-anchor=\"middle\" x=\"1152\" y=\"-317.8\" font-family=\"Helvetica,sans-Serif\" font-size=\"14.00\">samples = 40.0%</text>\n",
       "<text text-anchor=\"middle\" x=\"1152\" y=\"-302.8\" font-family=\"Helvetica,sans-Serif\" font-size=\"14.00\">value = [0.105, 0.036, 0.039, 0.013, 0.069, 0.041, 0.048, 0.111</text>\n",
       "<text text-anchor=\"middle\" x=\"1152\" y=\"-287.8\" font-family=\"Helvetica,sans-Serif\" font-size=\"14.00\">0.0, 0.0, 0.041, 0.175, 0.168, 0.153, 0.001]</text>\n",
       "</g>\n",
       "<!-- 0&#45;&gt;1 -->\n",
       "<g id=\"edge1\" class=\"edge\">\n",
       "<title>0&#45;&gt;1</title>\n",
       "<path fill=\"none\" stroke=\"black\" d=\"M1414.97,-383.95C1374.4,-373.31 1329.26,-361.48 1288.01,-350.66\"/>\n",
       "<polygon fill=\"black\" stroke=\"black\" points=\"1288.72,-347.23 1278.16,-348.08 1286.95,-354 1288.72,-347.23\"/>\n",
       "<text text-anchor=\"middle\" x=\"1290.78\" y=\"-365.96\" font-family=\"Helvetica,sans-Serif\" font-size=\"14.00\">True</text>\n",
       "</g>\n",
       "<!-- 5688 -->\n",
       "<g id=\"node17\" class=\"node\">\n",
       "<title>5688</title>\n",
       "<polygon fill=\"#f7fcfe\" stroke=\"black\" points=\"2121.5,-348 1730.5,-348 1730.5,-280 2121.5,-280 2121.5,-348\"/>\n",
       "<text text-anchor=\"middle\" x=\"1926\" y=\"-332.8\" font-family=\"Helvetica,sans-Serif\" font-size=\"14.00\">speechiness &lt;= 0.105</text>\n",
       "<text text-anchor=\"middle\" x=\"1926\" y=\"-317.8\" font-family=\"Helvetica,sans-Serif\" font-size=\"14.00\">samples = 60.0%</text>\n",
       "<text text-anchor=\"middle\" x=\"1926\" y=\"-302.8\" font-family=\"Helvetica,sans-Serif\" font-size=\"14.00\">value = [0.107, 0.045, 0.093, 0.012, 0.029, 0.055, 0.049, 0.154</text>\n",
       "<text text-anchor=\"middle\" x=\"1926\" y=\"-287.8\" font-family=\"Helvetica,sans-Serif\" font-size=\"14.00\">0.112, 0.118, 0.09, 0.0, 0.004, 0.015, 0.116]</text>\n",
       "</g>\n",
       "<!-- 0&#45;&gt;5688 -->\n",
       "<g id=\"edge16\" class=\"edge\">\n",
       "<title>0&#45;&gt;5688</title>\n",
       "<path fill=\"none\" stroke=\"black\" d=\"M1665.73,-383.95C1705.89,-373.31 1750.56,-361.48 1791.39,-350.66\"/>\n",
       "<polygon fill=\"black\" stroke=\"black\" points=\"1792.37,-354.03 1801.14,-348.08 1790.57,-347.26 1792.37,-354.03\"/>\n",
       "<text text-anchor=\"middle\" x=\"1788.58\" y=\"-366\" font-family=\"Helvetica,sans-Serif\" font-size=\"14.00\">False</text>\n",
       "</g>\n",
       "<!-- 2 -->\n",
       "<g id=\"node3\" class=\"node\">\n",
       "<title>2</title>\n",
       "<polygon fill=\"#fdf8fe\" stroke=\"black\" points=\"760.5,-244 369.5,-244 369.5,-176 760.5,-176 760.5,-244\"/>\n",
       "<text text-anchor=\"middle\" x=\"565\" y=\"-228.8\" font-family=\"Helvetica,sans-Serif\" font-size=\"14.00\">instrumentalness &lt;= 0.78</text>\n",
       "<text text-anchor=\"middle\" x=\"565\" y=\"-213.8\" font-family=\"Helvetica,sans-Serif\" font-size=\"14.00\">samples = 22.0%</text>\n",
       "<text text-anchor=\"middle\" x=\"565\" y=\"-198.8\" font-family=\"Helvetica,sans-Serif\" font-size=\"14.00\">value = [0.064, 0.036, 0.012, 0.007, 0.016, 0.005, 0.032, 0.036</text>\n",
       "<text text-anchor=\"middle\" x=\"565\" y=\"-183.8\" font-family=\"Helvetica,sans-Serif\" font-size=\"14.00\">0.0, 0.0, 0.058, 0.267, 0.223, 0.242, 0.001]</text>\n",
       "</g>\n",
       "<!-- 1&#45;&gt;2 -->\n",
       "<g id=\"edge2\" class=\"edge\">\n",
       "<title>1&#45;&gt;2</title>\n",
       "<path fill=\"none\" stroke=\"black\" d=\"M961.82,-279.95C898.97,-269.03 828.86,-256.85 765.27,-245.8\"/>\n",
       "<polygon fill=\"black\" stroke=\"black\" points=\"765.58,-242.3 755.13,-244.04 764.38,-249.2 765.58,-242.3\"/>\n",
       "</g>\n",
       "<!-- 2357 -->\n",
       "<g id=\"node10\" class=\"node\">\n",
       "<title>2357</title>\n",
       "<polygon fill=\"#f4fcfe\" stroke=\"black\" points=\"1340,-244 964,-244 964,-176 1340,-176 1340,-244\"/>\n",
       "<text text-anchor=\"middle\" x=\"1152\" y=\"-228.8\" font-family=\"Helvetica,sans-Serif\" font-size=\"14.00\">instrumentalness &lt;= 0.102</text>\n",
       "<text text-anchor=\"middle\" x=\"1152\" y=\"-213.8\" font-family=\"Helvetica,sans-Serif\" font-size=\"14.00\">samples = 18.0%</text>\n",
       "<text text-anchor=\"middle\" x=\"1152\" y=\"-198.8\" font-family=\"Helvetica,sans-Serif\" font-size=\"14.00\">value = [0.155, 0.035, 0.072, 0.021, 0.133, 0.084, 0.067, 0.2</text>\n",
       "<text text-anchor=\"middle\" x=\"1152\" y=\"-183.8\" font-family=\"Helvetica,sans-Serif\" font-size=\"14.00\">0.0, 0.0, 0.021, 0.063, 0.102, 0.047, 0.002]</text>\n",
       "</g>\n",
       "<!-- 1&#45;&gt;2357 -->\n",
       "<g id=\"edge9\" class=\"edge\">\n",
       "<title>1&#45;&gt;2357</title>\n",
       "<path fill=\"none\" stroke=\"black\" d=\"M1152,-279.88C1152,-271.78 1152,-262.98 1152,-254.47\"/>\n",
       "<polygon fill=\"black\" stroke=\"black\" points=\"1155.5,-254.3 1152,-244.3 1148.5,-254.3 1155.5,-254.3\"/>\n",
       "</g>\n",
       "<!-- 3 -->\n",
       "<g id=\"node4\" class=\"node\">\n",
       "<title>3</title>\n",
       "<polygon fill=\"#ffffff\" stroke=\"black\" points=\"376,-140 0,-140 0,-72 376,-72 376,-140\"/>\n",
       "<text text-anchor=\"middle\" x=\"188\" y=\"-124.8\" font-family=\"Helvetica,sans-Serif\" font-size=\"14.00\">valence &lt;= 0.459</text>\n",
       "<text text-anchor=\"middle\" x=\"188\" y=\"-109.8\" font-family=\"Helvetica,sans-Serif\" font-size=\"14.00\">samples = 11.8%</text>\n",
       "<text text-anchor=\"middle\" x=\"188\" y=\"-94.8\" font-family=\"Helvetica,sans-Serif\" font-size=\"14.00\">value = [0.086, 0.068, 0.021, 0.014, 0.03, 0.01, 0.057, 0.066</text>\n",
       "<text text-anchor=\"middle\" x=\"188\" y=\"-79.8\" font-family=\"Helvetica,sans-Serif\" font-size=\"14.00\">0.0, 0.0, 0.035, 0.28, 0.049, 0.281, 0.001]</text>\n",
       "</g>\n",
       "<!-- 2&#45;&gt;3 -->\n",
       "<g id=\"edge3\" class=\"edge\">\n",
       "<title>2&#45;&gt;3</title>\n",
       "<path fill=\"none\" stroke=\"black\" d=\"M442.86,-175.95C403.62,-165.34 359.98,-153.53 320.06,-142.73\"/>\n",
       "<polygon fill=\"black\" stroke=\"black\" points=\"320.84,-139.31 310.27,-140.08 319.01,-146.07 320.84,-139.31\"/>\n",
       "</g>\n",
       "<!-- 1494 -->\n",
       "<g id=\"node7\" class=\"node\">\n",
       "<title>1494</title>\n",
       "<polygon fill=\"#f9d1f1\" stroke=\"black\" points=\"736,-140 394,-140 394,-72 736,-72 736,-140\"/>\n",
       "<text text-anchor=\"middle\" x=\"565\" y=\"-124.8\" font-family=\"Helvetica,sans-Serif\" font-size=\"14.00\">tempo &lt;= 134.016</text>\n",
       "<text text-anchor=\"middle\" x=\"565\" y=\"-109.8\" font-family=\"Helvetica,sans-Serif\" font-size=\"14.00\">samples = 10.2%</text>\n",
       "<text text-anchor=\"middle\" x=\"565\" y=\"-94.8\" font-family=\"Helvetica,sans-Serif\" font-size=\"14.00\">value = [0.038, 0.0, 0.0, 0.0, 0.0, 0.0, 0.003, 0.002, 0.0</text>\n",
       "<text text-anchor=\"middle\" x=\"565\" y=\"-79.8\" font-family=\"Helvetica,sans-Serif\" font-size=\"14.00\">0.0, 0.085, 0.252, 0.424, 0.196, 0.0]</text>\n",
       "</g>\n",
       "<!-- 2&#45;&gt;1494 -->\n",
       "<g id=\"edge6\" class=\"edge\">\n",
       "<title>2&#45;&gt;1494</title>\n",
       "<path fill=\"none\" stroke=\"black\" d=\"M565,-175.88C565,-167.78 565,-158.98 565,-150.47\"/>\n",
       "<polygon fill=\"black\" stroke=\"black\" points=\"568.5,-150.3 565,-140.3 561.5,-150.3 568.5,-150.3\"/>\n",
       "</g>\n",
       "<!-- 4 -->\n",
       "<g id=\"node5\" class=\"node\">\n",
       "<title>4</title>\n",
       "<polygon fill=\"#c0c0c0\" stroke=\"black\" points=\"179,-36 125,-36 125,0 179,0 179,-36\"/>\n",
       "<text text-anchor=\"middle\" x=\"152\" y=\"-14.3\" font-family=\"Helvetica,sans-Serif\" font-size=\"14.00\">(...)</text>\n",
       "</g>\n",
       "<!-- 3&#45;&gt;4 -->\n",
       "<g id=\"edge4\" class=\"edge\">\n",
       "<title>3&#45;&gt;4</title>\n",
       "<path fill=\"none\" stroke=\"black\" d=\"M174.18,-72C170.54,-63.28 166.64,-53.98 163.16,-45.65\"/>\n",
       "<polygon fill=\"black\" stroke=\"black\" points=\"166.38,-44.28 159.29,-36.4 159.92,-46.98 166.38,-44.28\"/>\n",
       "</g>\n",
       "<!-- 1085 -->\n",
       "<g id=\"node6\" class=\"node\">\n",
       "<title>1085</title>\n",
       "<polygon fill=\"#c0c0c0\" stroke=\"black\" points=\"251,-36 197,-36 197,0 251,0 251,-36\"/>\n",
       "<text text-anchor=\"middle\" x=\"224\" y=\"-14.3\" font-family=\"Helvetica,sans-Serif\" font-size=\"14.00\">(...)</text>\n",
       "</g>\n",
       "<!-- 3&#45;&gt;1085 -->\n",
       "<g id=\"edge5\" class=\"edge\">\n",
       "<title>3&#45;&gt;1085</title>\n",
       "<path fill=\"none\" stroke=\"black\" d=\"M201.82,-72C205.46,-63.28 209.36,-53.98 212.84,-45.65\"/>\n",
       "<polygon fill=\"black\" stroke=\"black\" points=\"216.08,-46.98 216.71,-36.4 209.62,-44.28 216.08,-46.98\"/>\n",
       "</g>\n",
       "<!-- 1495 -->\n",
       "<g id=\"node8\" class=\"node\">\n",
       "<title>1495</title>\n",
       "<polygon fill=\"#c0c0c0\" stroke=\"black\" points=\"556,-36 502,-36 502,0 556,0 556,-36\"/>\n",
       "<text text-anchor=\"middle\" x=\"529\" y=\"-14.3\" font-family=\"Helvetica,sans-Serif\" font-size=\"14.00\">(...)</text>\n",
       "</g>\n",
       "<!-- 1494&#45;&gt;1495 -->\n",
       "<g id=\"edge7\" class=\"edge\">\n",
       "<title>1494&#45;&gt;1495</title>\n",
       "<path fill=\"none\" stroke=\"black\" d=\"M551.18,-72C547.54,-63.28 543.64,-53.98 540.16,-45.65\"/>\n",
       "<polygon fill=\"black\" stroke=\"black\" points=\"543.38,-44.28 536.29,-36.4 536.92,-46.98 543.38,-44.28\"/>\n",
       "</g>\n",
       "<!-- 2150 -->\n",
       "<g id=\"node9\" class=\"node\">\n",
       "<title>2150</title>\n",
       "<polygon fill=\"#c0c0c0\" stroke=\"black\" points=\"628,-36 574,-36 574,0 628,0 628,-36\"/>\n",
       "<text text-anchor=\"middle\" x=\"601\" y=\"-14.3\" font-family=\"Helvetica,sans-Serif\" font-size=\"14.00\">(...)</text>\n",
       "</g>\n",
       "<!-- 1494&#45;&gt;2150 -->\n",
       "<g id=\"edge8\" class=\"edge\">\n",
       "<title>1494&#45;&gt;2150</title>\n",
       "<path fill=\"none\" stroke=\"black\" d=\"M578.82,-72C582.46,-63.28 586.36,-53.98 589.84,-45.65\"/>\n",
       "<polygon fill=\"black\" stroke=\"black\" points=\"593.08,-46.98 593.71,-36.4 586.62,-44.28 593.08,-46.98\"/>\n",
       "</g>\n",
       "<!-- 2358 -->\n",
       "<g id=\"node11\" class=\"node\">\n",
       "<title>2358</title>\n",
       "<polygon fill=\"#eaf8fc\" stroke=\"black\" points=\"1145.5,-140 754.5,-140 754.5,-72 1145.5,-72 1145.5,-140\"/>\n",
       "<text text-anchor=\"middle\" x=\"950\" y=\"-124.8\" font-family=\"Helvetica,sans-Serif\" font-size=\"14.00\">speechiness &lt;= 0.079</text>\n",
       "<text text-anchor=\"middle\" x=\"950\" y=\"-109.8\" font-family=\"Helvetica,sans-Serif\" font-size=\"14.00\">samples = 12.9%</text>\n",
       "<text text-anchor=\"middle\" x=\"950\" y=\"-94.8\" font-family=\"Helvetica,sans-Serif\" font-size=\"14.00\">value = [0.118, 0.047, 0.096, 0.027, 0.181, 0.116, 0.085, 0.267</text>\n",
       "<text text-anchor=\"middle\" x=\"950\" y=\"-79.8\" font-family=\"Helvetica,sans-Serif\" font-size=\"14.00\">0.0, 0.0, 0.001, 0.026, 0.001, 0.034, 0.003]</text>\n",
       "</g>\n",
       "<!-- 2357&#45;&gt;2358 -->\n",
       "<g id=\"edge10\" class=\"edge\">\n",
       "<title>2357&#45;&gt;2358</title>\n",
       "<path fill=\"none\" stroke=\"black\" d=\"M1086.42,-175.88C1066.74,-165.95 1045,-154.97 1024.77,-144.76\"/>\n",
       "<polygon fill=\"black\" stroke=\"black\" points=\"1026.1,-141.51 1015.6,-140.12 1022.95,-147.76 1026.1,-141.51\"/>\n",
       "</g>\n",
       "<!-- 5053 -->\n",
       "<g id=\"node14\" class=\"node\">\n",
       "<title>5053</title>\n",
       "<polygon fill=\"#fbe2f6\" stroke=\"black\" points=\"1540,-140 1164,-140 1164,-72 1540,-72 1540,-140\"/>\n",
       "<text text-anchor=\"middle\" x=\"1352\" y=\"-124.8\" font-family=\"Helvetica,sans-Serif\" font-size=\"14.00\">duration_ms &lt;= 310817.5</text>\n",
       "<text text-anchor=\"middle\" x=\"1352\" y=\"-109.8\" font-family=\"Helvetica,sans-Serif\" font-size=\"14.00\">samples = 5.1%</text>\n",
       "<text text-anchor=\"middle\" x=\"1352\" y=\"-94.8\" font-family=\"Helvetica,sans-Serif\" font-size=\"14.00\">value = [0.25, 0.005, 0.011, 0.004, 0.01, 0.004, 0.021, 0.031</text>\n",
       "<text text-anchor=\"middle\" x=\"1352\" y=\"-79.8\" font-family=\"Helvetica,sans-Serif\" font-size=\"14.00\">0.0, 0.0, 0.071, 0.155, 0.359, 0.079, 0.0]</text>\n",
       "</g>\n",
       "<!-- 2357&#45;&gt;5053 -->\n",
       "<g id=\"edge13\" class=\"edge\">\n",
       "<title>2357&#45;&gt;5053</title>\n",
       "<path fill=\"none\" stroke=\"black\" d=\"M1216.93,-175.88C1236.42,-165.95 1257.94,-154.97 1277.97,-144.76\"/>\n",
       "<polygon fill=\"black\" stroke=\"black\" points=\"1279.73,-147.79 1287.05,-140.12 1276.55,-141.55 1279.73,-147.79\"/>\n",
       "</g>\n",
       "<!-- 2359 -->\n",
       "<g id=\"node12\" class=\"node\">\n",
       "<title>2359</title>\n",
       "<polygon fill=\"#c0c0c0\" stroke=\"black\" points=\"941,-36 887,-36 887,0 941,0 941,-36\"/>\n",
       "<text text-anchor=\"middle\" x=\"914\" y=\"-14.3\" font-family=\"Helvetica,sans-Serif\" font-size=\"14.00\">(...)</text>\n",
       "</g>\n",
       "<!-- 2358&#45;&gt;2359 -->\n",
       "<g id=\"edge11\" class=\"edge\">\n",
       "<title>2358&#45;&gt;2359</title>\n",
       "<path fill=\"none\" stroke=\"black\" d=\"M936.18,-72C932.54,-63.28 928.64,-53.98 925.16,-45.65\"/>\n",
       "<polygon fill=\"black\" stroke=\"black\" points=\"928.38,-44.28 921.29,-36.4 921.92,-46.98 928.38,-44.28\"/>\n",
       "</g>\n",
       "<!-- 3448 -->\n",
       "<g id=\"node13\" class=\"node\">\n",
       "<title>3448</title>\n",
       "<polygon fill=\"#c0c0c0\" stroke=\"black\" points=\"1013,-36 959,-36 959,0 1013,0 1013,-36\"/>\n",
       "<text text-anchor=\"middle\" x=\"986\" y=\"-14.3\" font-family=\"Helvetica,sans-Serif\" font-size=\"14.00\">(...)</text>\n",
       "</g>\n",
       "<!-- 2358&#45;&gt;3448 -->\n",
       "<g id=\"edge12\" class=\"edge\">\n",
       "<title>2358&#45;&gt;3448</title>\n",
       "<path fill=\"none\" stroke=\"black\" d=\"M963.82,-72C967.46,-63.28 971.36,-53.98 974.84,-45.65\"/>\n",
       "<polygon fill=\"black\" stroke=\"black\" points=\"978.08,-46.98 978.71,-36.4 971.62,-44.28 978.08,-46.98\"/>\n",
       "</g>\n",
       "<!-- 5054 -->\n",
       "<g id=\"node15\" class=\"node\">\n",
       "<title>5054</title>\n",
       "<polygon fill=\"#c0c0c0\" stroke=\"black\" points=\"1343,-36 1289,-36 1289,0 1343,0 1343,-36\"/>\n",
       "<text text-anchor=\"middle\" x=\"1316\" y=\"-14.3\" font-family=\"Helvetica,sans-Serif\" font-size=\"14.00\">(...)</text>\n",
       "</g>\n",
       "<!-- 5053&#45;&gt;5054 -->\n",
       "<g id=\"edge14\" class=\"edge\">\n",
       "<title>5053&#45;&gt;5054</title>\n",
       "<path fill=\"none\" stroke=\"black\" d=\"M1338.18,-72C1334.54,-63.28 1330.64,-53.98 1327.16,-45.65\"/>\n",
       "<polygon fill=\"black\" stroke=\"black\" points=\"1330.38,-44.28 1323.29,-36.4 1323.92,-46.98 1330.38,-44.28\"/>\n",
       "</g>\n",
       "<!-- 5437 -->\n",
       "<g id=\"node16\" class=\"node\">\n",
       "<title>5437</title>\n",
       "<polygon fill=\"#c0c0c0\" stroke=\"black\" points=\"1415,-36 1361,-36 1361,0 1415,0 1415,-36\"/>\n",
       "<text text-anchor=\"middle\" x=\"1388\" y=\"-14.3\" font-family=\"Helvetica,sans-Serif\" font-size=\"14.00\">(...)</text>\n",
       "</g>\n",
       "<!-- 5053&#45;&gt;5437 -->\n",
       "<g id=\"edge15\" class=\"edge\">\n",
       "<title>5053&#45;&gt;5437</title>\n",
       "<path fill=\"none\" stroke=\"black\" d=\"M1365.82,-72C1369.46,-63.28 1373.36,-53.98 1376.84,-45.65\"/>\n",
       "<polygon fill=\"black\" stroke=\"black\" points=\"1380.08,-46.98 1380.71,-36.4 1373.62,-44.28 1380.08,-46.98\"/>\n",
       "</g>\n",
       "<!-- 5689 -->\n",
       "<g id=\"node18\" class=\"node\">\n",
       "<title>5689</title>\n",
       "<polygon fill=\"#ffffff\" stroke=\"black\" points=\"2121.5,-244 1730.5,-244 1730.5,-176 2121.5,-176 2121.5,-244\"/>\n",
       "<text text-anchor=\"middle\" x=\"1926\" y=\"-228.8\" font-family=\"Helvetica,sans-Serif\" font-size=\"14.00\">instrumentalness &lt;= 0.616</text>\n",
       "<text text-anchor=\"middle\" x=\"1926\" y=\"-213.8\" font-family=\"Helvetica,sans-Serif\" font-size=\"14.00\">samples = 31.7%</text>\n",
       "<text text-anchor=\"middle\" x=\"1926\" y=\"-198.8\" font-family=\"Helvetica,sans-Serif\" font-size=\"14.00\">value = [0.121, 0.068, 0.035, 0.016, 0.013, 0.047, 0.027, 0.063</text>\n",
       "<text text-anchor=\"middle\" x=\"1926\" y=\"-183.8\" font-family=\"Helvetica,sans-Serif\" font-size=\"14.00\">0.173, 0.171, 0.162, 0.0, 0.007, 0.024, 0.074]</text>\n",
       "</g>\n",
       "<!-- 5688&#45;&gt;5689 -->\n",
       "<g id=\"edge17\" class=\"edge\">\n",
       "<title>5688&#45;&gt;5689</title>\n",
       "<path fill=\"none\" stroke=\"black\" d=\"M1926,-279.88C1926,-271.78 1926,-262.98 1926,-254.47\"/>\n",
       "<polygon fill=\"black\" stroke=\"black\" points=\"1929.5,-254.3 1926,-244.3 1922.5,-254.3 1929.5,-254.3\"/>\n",
       "</g>\n",
       "<!-- 9496 -->\n",
       "<g id=\"node25\" class=\"node\">\n",
       "<title>9496</title>\n",
       "<polygon fill=\"#e9f8fc\" stroke=\"black\" points=\"2711.5,-244 2320.5,-244 2320.5,-176 2711.5,-176 2711.5,-244\"/>\n",
       "<text text-anchor=\"middle\" x=\"2516\" y=\"-228.8\" font-family=\"Helvetica,sans-Serif\" font-size=\"14.00\">energy &lt;= 0.861</text>\n",
       "<text text-anchor=\"middle\" x=\"2516\" y=\"-213.8\" font-family=\"Helvetica,sans-Serif\" font-size=\"14.00\">samples = 28.4%</text>\n",
       "<text text-anchor=\"middle\" x=\"2516\" y=\"-198.8\" font-family=\"Helvetica,sans-Serif\" font-size=\"14.00\">value = [0.091, 0.019, 0.159, 0.008, 0.047, 0.065, 0.073, 0.257</text>\n",
       "<text text-anchor=\"middle\" x=\"2516\" y=\"-183.8\" font-family=\"Helvetica,sans-Serif\" font-size=\"14.00\">0.045, 0.058, 0.01, 0.0, 0.0, 0.004, 0.164]</text>\n",
       "</g>\n",
       "<!-- 5688&#45;&gt;9496 -->\n",
       "<g id=\"edge24\" class=\"edge\">\n",
       "<title>5688&#45;&gt;9496</title>\n",
       "<path fill=\"none\" stroke=\"black\" d=\"M2117.15,-279.95C2180.33,-269.03 2250.79,-256.85 2314.7,-245.8\"/>\n",
       "<polygon fill=\"black\" stroke=\"black\" points=\"2315.65,-249.19 2324.9,-244.04 2314.45,-242.29 2315.65,-249.19\"/>\n",
       "</g>\n",
       "<!-- 5690 -->\n",
       "<g id=\"node19\" class=\"node\">\n",
       "<title>5690</title>\n",
       "<polygon fill=\"#eae9fc\" stroke=\"black\" points=\"1934,-140 1558,-140 1558,-72 1934,-72 1934,-140\"/>\n",
       "<text text-anchor=\"middle\" x=\"1746\" y=\"-124.8\" font-family=\"Helvetica,sans-Serif\" font-size=\"14.00\">duration_ms &lt;= 161040.5</text>\n",
       "<text text-anchor=\"middle\" x=\"1746\" y=\"-109.8\" font-family=\"Helvetica,sans-Serif\" font-size=\"14.00\">samples = 21.0%</text>\n",
       "<text text-anchor=\"middle\" x=\"1746\" y=\"-94.8\" font-family=\"Helvetica,sans-Serif\" font-size=\"14.00\">value = [0.12, 0.102, 0.052, 0.023, 0.02, 0.069, 0.038, 0.092</text>\n",
       "<text text-anchor=\"middle\" x=\"1746\" y=\"-79.8\" font-family=\"Helvetica,sans-Serif\" font-size=\"14.00\">0.135, 0.23, 0.015, 0.0, 0.0, 0.013, 0.089]</text>\n",
       "</g>\n",
       "<!-- 5689&#45;&gt;5690 -->\n",
       "<g id=\"edge18\" class=\"edge\">\n",
       "<title>5689&#45;&gt;5690</title>\n",
       "<path fill=\"none\" stroke=\"black\" d=\"M1867.56,-175.88C1850.34,-166.12 1831.35,-155.37 1813.61,-145.31\"/>\n",
       "<polygon fill=\"black\" stroke=\"black\" points=\"1814.88,-142.01 1804.46,-140.12 1811.43,-148.1 1814.88,-142.01\"/>\n",
       "</g>\n",
       "<!-- 8725 -->\n",
       "<g id=\"node22\" class=\"node\">\n",
       "<title>8725</title>\n",
       "<polygon fill=\"#ddc9f8\" stroke=\"black\" points=\"2313.5,-140 1952.5,-140 1952.5,-72 2313.5,-72 2313.5,-140\"/>\n",
       "<text text-anchor=\"middle\" x=\"2133\" y=\"-124.8\" font-family=\"Helvetica,sans-Serif\" font-size=\"14.00\">loudness &lt;= &#45;4.601</text>\n",
       "<text text-anchor=\"middle\" x=\"2133\" y=\"-109.8\" font-family=\"Helvetica,sans-Serif\" font-size=\"14.00\">samples = 10.7%</text>\n",
       "<text text-anchor=\"middle\" x=\"2133\" y=\"-94.8\" font-family=\"Helvetica,sans-Serif\" font-size=\"14.00\">value = [0.122, 0.001, 0.001, 0.0, 0.0, 0.003, 0.005, 0.007</text>\n",
       "<text text-anchor=\"middle\" x=\"2133\" y=\"-79.8\" font-family=\"Helvetica,sans-Serif\" font-size=\"14.00\">0.247, 0.055, 0.452, 0.0, 0.02, 0.045, 0.043]</text>\n",
       "</g>\n",
       "<!-- 5689&#45;&gt;8725 -->\n",
       "<g id=\"edge21\" class=\"edge\">\n",
       "<title>5689&#45;&gt;8725</title>\n",
       "<path fill=\"none\" stroke=\"black\" d=\"M1993.21,-175.88C2013.47,-165.9 2035.85,-154.87 2056.65,-144.62\"/>\n",
       "<polygon fill=\"black\" stroke=\"black\" points=\"2058.35,-147.68 2065.78,-140.12 2055.26,-141.41 2058.35,-147.68\"/>\n",
       "</g>\n",
       "<!-- 5691 -->\n",
       "<g id=\"node20\" class=\"node\">\n",
       "<title>5691</title>\n",
       "<polygon fill=\"#c0c0c0\" stroke=\"black\" points=\"1737,-36 1683,-36 1683,0 1737,0 1737,-36\"/>\n",
       "<text text-anchor=\"middle\" x=\"1710\" y=\"-14.3\" font-family=\"Helvetica,sans-Serif\" font-size=\"14.00\">(...)</text>\n",
       "</g>\n",
       "<!-- 5690&#45;&gt;5691 -->\n",
       "<g id=\"edge19\" class=\"edge\">\n",
       "<title>5690&#45;&gt;5691</title>\n",
       "<path fill=\"none\" stroke=\"black\" d=\"M1732.18,-72C1728.54,-63.28 1724.64,-53.98 1721.16,-45.65\"/>\n",
       "<polygon fill=\"black\" stroke=\"black\" points=\"1724.38,-44.28 1717.29,-36.4 1717.92,-46.98 1724.38,-44.28\"/>\n",
       "</g>\n",
       "<!-- 6414 -->\n",
       "<g id=\"node21\" class=\"node\">\n",
       "<title>6414</title>\n",
       "<polygon fill=\"#c0c0c0\" stroke=\"black\" points=\"1809,-36 1755,-36 1755,0 1809,0 1809,-36\"/>\n",
       "<text text-anchor=\"middle\" x=\"1782\" y=\"-14.3\" font-family=\"Helvetica,sans-Serif\" font-size=\"14.00\">(...)</text>\n",
       "</g>\n",
       "<!-- 5690&#45;&gt;6414 -->\n",
       "<g id=\"edge20\" class=\"edge\">\n",
       "<title>5690&#45;&gt;6414</title>\n",
       "<path fill=\"none\" stroke=\"black\" d=\"M1759.82,-72C1763.46,-63.28 1767.36,-53.98 1770.84,-45.65\"/>\n",
       "<polygon fill=\"black\" stroke=\"black\" points=\"1774.08,-46.98 1774.71,-36.4 1767.62,-44.28 1774.08,-46.98\"/>\n",
       "</g>\n",
       "<!-- 8726 -->\n",
       "<g id=\"node23\" class=\"node\">\n",
       "<title>8726</title>\n",
       "<polygon fill=\"#c0c0c0\" stroke=\"black\" points=\"2124,-36 2070,-36 2070,0 2124,0 2124,-36\"/>\n",
       "<text text-anchor=\"middle\" x=\"2097\" y=\"-14.3\" font-family=\"Helvetica,sans-Serif\" font-size=\"14.00\">(...)</text>\n",
       "</g>\n",
       "<!-- 8725&#45;&gt;8726 -->\n",
       "<g id=\"edge22\" class=\"edge\">\n",
       "<title>8725&#45;&gt;8726</title>\n",
       "<path fill=\"none\" stroke=\"black\" d=\"M2119.18,-72C2115.54,-63.28 2111.64,-53.98 2108.16,-45.65\"/>\n",
       "<polygon fill=\"black\" stroke=\"black\" points=\"2111.38,-44.28 2104.29,-36.4 2104.92,-46.98 2111.38,-44.28\"/>\n",
       "</g>\n",
       "<!-- 9317 -->\n",
       "<g id=\"node24\" class=\"node\">\n",
       "<title>9317</title>\n",
       "<polygon fill=\"#c0c0c0\" stroke=\"black\" points=\"2196,-36 2142,-36 2142,0 2196,0 2196,-36\"/>\n",
       "<text text-anchor=\"middle\" x=\"2169\" y=\"-14.3\" font-family=\"Helvetica,sans-Serif\" font-size=\"14.00\">(...)</text>\n",
       "</g>\n",
       "<!-- 8725&#45;&gt;9317 -->\n",
       "<g id=\"edge23\" class=\"edge\">\n",
       "<title>8725&#45;&gt;9317</title>\n",
       "<path fill=\"none\" stroke=\"black\" d=\"M2146.82,-72C2150.46,-63.28 2154.36,-53.98 2157.84,-45.65\"/>\n",
       "<polygon fill=\"black\" stroke=\"black\" points=\"2161.08,-46.98 2161.71,-36.4 2154.62,-44.28 2161.08,-46.98\"/>\n",
       "</g>\n",
       "<!-- 9497 -->\n",
       "<g id=\"node26\" class=\"node\">\n",
       "<title>9497</title>\n",
       "<polygon fill=\"#dcf4fa\" stroke=\"black\" points=\"2700,-140 2332,-140 2332,-72 2700,-72 2700,-140\"/>\n",
       "<text text-anchor=\"middle\" x=\"2516\" y=\"-124.8\" font-family=\"Helvetica,sans-Serif\" font-size=\"14.00\">duration_ms &lt;= 204601.0</text>\n",
       "<text text-anchor=\"middle\" x=\"2516\" y=\"-109.8\" font-family=\"Helvetica,sans-Serif\" font-size=\"14.00\">samples = 18.6%</text>\n",
       "<text text-anchor=\"middle\" x=\"2516\" y=\"-94.8\" font-family=\"Helvetica,sans-Serif\" font-size=\"14.00\">value = [0.117, 0.01, 0.217, 0.01, 0.07, 0.091, 0.068, 0.355</text>\n",
       "<text text-anchor=\"middle\" x=\"2516\" y=\"-79.8\" font-family=\"Helvetica,sans-Serif\" font-size=\"14.00\">0.016, 0.003, 0.005, 0.0, 0.0, 0.0, 0.036]</text>\n",
       "</g>\n",
       "<!-- 9496&#45;&gt;9497 -->\n",
       "<g id=\"edge25\" class=\"edge\">\n",
       "<title>9496&#45;&gt;9497</title>\n",
       "<path fill=\"none\" stroke=\"black\" d=\"M2516,-175.88C2516,-167.78 2516,-158.98 2516,-150.47\"/>\n",
       "<polygon fill=\"black\" stroke=\"black\" points=\"2519.5,-150.3 2516,-140.3 2512.5,-150.3 2519.5,-150.3\"/>\n",
       "</g>\n",
       "<!-- 13418 -->\n",
       "<g id=\"node29\" class=\"node\">\n",
       "<title>13418</title>\n",
       "<polygon fill=\"#f7c6c5\" stroke=\"black\" points=\"3109.5,-140 2718.5,-140 2718.5,-72 3109.5,-72 3109.5,-140\"/>\n",
       "<text text-anchor=\"middle\" x=\"2914\" y=\"-124.8\" font-family=\"Helvetica,sans-Serif\" font-size=\"14.00\">tempo &lt;= 160.418</text>\n",
       "<text text-anchor=\"middle\" x=\"2914\" y=\"-109.8\" font-family=\"Helvetica,sans-Serif\" font-size=\"14.00\">samples = 9.7%</text>\n",
       "<text text-anchor=\"middle\" x=\"2914\" y=\"-94.8\" font-family=\"Helvetica,sans-Serif\" font-size=\"14.00\">value = [0.042, 0.037, 0.047, 0.003, 0.002, 0.014, 0.082, 0.067</text>\n",
       "<text text-anchor=\"middle\" x=\"2914\" y=\"-79.8\" font-family=\"Helvetica,sans-Serif\" font-size=\"14.00\">0.099, 0.164, 0.021, 0.0, 0.001, 0.013, 0.409]</text>\n",
       "</g>\n",
       "<!-- 9496&#45;&gt;13418 -->\n",
       "<g id=\"edge28\" class=\"edge\">\n",
       "<title>9496&#45;&gt;13418</title>\n",
       "<path fill=\"none\" stroke=\"black\" d=\"M2644.94,-175.95C2686.55,-165.29 2732.83,-153.43 2775.12,-142.59\"/>\n",
       "<polygon fill=\"black\" stroke=\"black\" points=\"2776.1,-145.95 2784.92,-140.08 2774.36,-139.17 2776.1,-145.95\"/>\n",
       "</g>\n",
       "<!-- 9498 -->\n",
       "<g id=\"node27\" class=\"node\">\n",
       "<title>9498</title>\n",
       "<polygon fill=\"#c0c0c0\" stroke=\"black\" points=\"2507,-36 2453,-36 2453,0 2507,0 2507,-36\"/>\n",
       "<text text-anchor=\"middle\" x=\"2480\" y=\"-14.3\" font-family=\"Helvetica,sans-Serif\" font-size=\"14.00\">(...)</text>\n",
       "</g>\n",
       "<!-- 9497&#45;&gt;9498 -->\n",
       "<g id=\"edge26\" class=\"edge\">\n",
       "<title>9497&#45;&gt;9498</title>\n",
       "<path fill=\"none\" stroke=\"black\" d=\"M2502.18,-72C2498.54,-63.28 2494.64,-53.98 2491.16,-45.65\"/>\n",
       "<polygon fill=\"black\" stroke=\"black\" points=\"2494.38,-44.28 2487.29,-36.4 2487.92,-46.98 2494.38,-44.28\"/>\n",
       "</g>\n",
       "<!-- 11879 -->\n",
       "<g id=\"node28\" class=\"node\">\n",
       "<title>11879</title>\n",
       "<polygon fill=\"#c0c0c0\" stroke=\"black\" points=\"2579,-36 2525,-36 2525,0 2579,0 2579,-36\"/>\n",
       "<text text-anchor=\"middle\" x=\"2552\" y=\"-14.3\" font-family=\"Helvetica,sans-Serif\" font-size=\"14.00\">(...)</text>\n",
       "</g>\n",
       "<!-- 9497&#45;&gt;11879 -->\n",
       "<g id=\"edge27\" class=\"edge\">\n",
       "<title>9497&#45;&gt;11879</title>\n",
       "<path fill=\"none\" stroke=\"black\" d=\"M2529.82,-72C2533.46,-63.28 2537.36,-53.98 2540.84,-45.65\"/>\n",
       "<polygon fill=\"black\" stroke=\"black\" points=\"2544.08,-46.98 2544.71,-36.4 2537.62,-44.28 2544.08,-46.98\"/>\n",
       "</g>\n",
       "<!-- 13419 -->\n",
       "<g id=\"node30\" class=\"node\">\n",
       "<title>13419</title>\n",
       "<polygon fill=\"#c0c0c0\" stroke=\"black\" points=\"2905,-36 2851,-36 2851,0 2905,0 2905,-36\"/>\n",
       "<text text-anchor=\"middle\" x=\"2878\" y=\"-14.3\" font-family=\"Helvetica,sans-Serif\" font-size=\"14.00\">(...)</text>\n",
       "</g>\n",
       "<!-- 13418&#45;&gt;13419 -->\n",
       "<g id=\"edge29\" class=\"edge\">\n",
       "<title>13418&#45;&gt;13419</title>\n",
       "<path fill=\"none\" stroke=\"black\" d=\"M2900.18,-72C2896.54,-63.28 2892.64,-53.98 2889.16,-45.65\"/>\n",
       "<polygon fill=\"black\" stroke=\"black\" points=\"2892.38,-44.28 2885.29,-36.4 2885.92,-46.98 2892.38,-44.28\"/>\n",
       "</g>\n",
       "<!-- 14126 -->\n",
       "<g id=\"node31\" class=\"node\">\n",
       "<title>14126</title>\n",
       "<polygon fill=\"#c0c0c0\" stroke=\"black\" points=\"2977,-36 2923,-36 2923,0 2977,0 2977,-36\"/>\n",
       "<text text-anchor=\"middle\" x=\"2950\" y=\"-14.3\" font-family=\"Helvetica,sans-Serif\" font-size=\"14.00\">(...)</text>\n",
       "</g>\n",
       "<!-- 13418&#45;&gt;14126 -->\n",
       "<g id=\"edge30\" class=\"edge\">\n",
       "<title>13418&#45;&gt;14126</title>\n",
       "<path fill=\"none\" stroke=\"black\" d=\"M2927.82,-72C2931.46,-63.28 2935.36,-53.98 2938.84,-45.65\"/>\n",
       "<polygon fill=\"black\" stroke=\"black\" points=\"2942.08,-46.98 2942.71,-36.4 2935.62,-44.28 2942.08,-46.98\"/>\n",
       "</g>\n",
       "</g>\n",
       "</svg>\n"
      ],
      "text/plain": [
       "<graphviz.sources.Source at 0x7f339ef054b0>"
      ]
     },
     "metadata": {},
     "output_type": "display_data"
    },
    {
     "data": {
      "image/svg+xml": [
       "<?xml version=\"1.0\" encoding=\"UTF-8\" standalone=\"no\"?>\n",
       "<!DOCTYPE svg PUBLIC \"-//W3C//DTD SVG 1.1//EN\"\n",
       " \"http://www.w3.org/Graphics/SVG/1.1/DTD/svg11.dtd\">\n",
       "<!-- Generated by graphviz version 2.43.0 (0)\n",
       " -->\n",
       "<!-- Title: Tree Pages: 1 -->\n",
       "<svg width=\"3224pt\" height=\"460pt\"\n",
       " viewBox=\"0.00 0.00 3224.00 460.00\" xmlns=\"http://www.w3.org/2000/svg\" xmlns:xlink=\"http://www.w3.org/1999/xlink\">\n",
       "<g id=\"graph0\" class=\"graph\" transform=\"scale(1 1) rotate(0) translate(4 456)\">\n",
       "<title>Tree</title>\n",
       "<polygon fill=\"white\" stroke=\"transparent\" points=\"-4,4 -4,-456 3220,-456 3220,4 -4,4\"/>\n",
       "<!-- 0 -->\n",
       "<g id=\"node1\" class=\"node\">\n",
       "<title>0</title>\n",
       "<polygon fill=\"#f7fdfe\" stroke=\"black\" points=\"1686.5,-452 1310.5,-452 1310.5,-384 1686.5,-384 1686.5,-452\"/>\n",
       "<text text-anchor=\"middle\" x=\"1498.5\" y=\"-436.8\" font-family=\"Helvetica,sans-Serif\" font-size=\"14.00\">danceability &lt;= 0.664</text>\n",
       "<text text-anchor=\"middle\" x=\"1498.5\" y=\"-421.8\" font-family=\"Helvetica,sans-Serif\" font-size=\"14.00\">samples = 100.0%</text>\n",
       "<text text-anchor=\"middle\" x=\"1498.5\" y=\"-406.8\" font-family=\"Helvetica,sans-Serif\" font-size=\"14.00\">value = [0.107, 0.04, 0.073, 0.01, 0.044, 0.048, 0.046, 0.142</text>\n",
       "<text text-anchor=\"middle\" x=\"1498.5\" y=\"-391.8\" font-family=\"Helvetica,sans-Serif\" font-size=\"14.00\">0.068, 0.071, 0.07, 0.069, 0.072, 0.07, 0.069]</text>\n",
       "</g>\n",
       "<!-- 1 -->\n",
       "<g id=\"node2\" class=\"node\">\n",
       "<title>1</title>\n",
       "<polygon fill=\"#fefeff\" stroke=\"black\" points=\"1482.5,-348 1106.5,-348 1106.5,-280 1482.5,-280 1482.5,-348\"/>\n",
       "<text text-anchor=\"middle\" x=\"1294.5\" y=\"-332.8\" font-family=\"Helvetica,sans-Serif\" font-size=\"14.00\">acousticness &lt;= 0.004</text>\n",
       "<text text-anchor=\"middle\" x=\"1294.5\" y=\"-317.8\" font-family=\"Helvetica,sans-Serif\" font-size=\"14.00\">samples = 54.0%</text>\n",
       "<text text-anchor=\"middle\" x=\"1294.5\" y=\"-302.8\" font-family=\"Helvetica,sans-Serif\" font-size=\"14.00\">value = [0.12, 0.067, 0.05, 0.008, 0.018, 0.038, 0.043, 0.062</text>\n",
       "<text text-anchor=\"middle\" x=\"1294.5\" y=\"-287.8\" font-family=\"Helvetica,sans-Serif\" font-size=\"14.00\">0.114, 0.128, 0.094, 0.009, 0.035, 0.122, 0.093]</text>\n",
       "</g>\n",
       "<!-- 0&#45;&gt;1 -->\n",
       "<g id=\"edge1\" class=\"edge\">\n",
       "<title>0&#45;&gt;1</title>\n",
       "<path fill=\"none\" stroke=\"black\" d=\"M1432.27,-383.88C1412.3,-373.9 1390.24,-362.87 1369.74,-352.62\"/>\n",
       "<polygon fill=\"black\" stroke=\"black\" points=\"1371.26,-349.47 1360.75,-348.12 1368.13,-355.73 1371.26,-349.47\"/>\n",
       "<text text-anchor=\"middle\" x=\"1368.66\" y=\"-368.14\" font-family=\"Helvetica,sans-Serif\" font-size=\"14.00\">True</text>\n",
       "</g>\n",
       "<!-- 7288 -->\n",
       "<g id=\"node17\" class=\"node\">\n",
       "<title>7288</title>\n",
       "<polygon fill=\"#e9f8fc\" stroke=\"black\" points=\"2090.5,-348 1714.5,-348 1714.5,-280 2090.5,-280 2090.5,-348\"/>\n",
       "<text text-anchor=\"middle\" x=\"1902.5\" y=\"-332.8\" font-family=\"Helvetica,sans-Serif\" font-size=\"14.00\">valence &lt;= 0.164</text>\n",
       "<text text-anchor=\"middle\" x=\"1902.5\" y=\"-317.8\" font-family=\"Helvetica,sans-Serif\" font-size=\"14.00\">samples = 46.0%</text>\n",
       "<text text-anchor=\"middle\" x=\"1902.5\" y=\"-302.8\" font-family=\"Helvetica,sans-Serif\" font-size=\"14.00\">value = [0.092, 0.008, 0.1, 0.013, 0.074, 0.059, 0.049, 0.236</text>\n",
       "<text text-anchor=\"middle\" x=\"1902.5\" y=\"-287.8\" font-family=\"Helvetica,sans-Serif\" font-size=\"14.00\">0.015, 0.003, 0.043, 0.14, 0.115, 0.009, 0.041]</text>\n",
       "</g>\n",
       "<!-- 0&#45;&gt;7288 -->\n",
       "<g id=\"edge16\" class=\"edge\">\n",
       "<title>0&#45;&gt;7288</title>\n",
       "<path fill=\"none\" stroke=\"black\" d=\"M1629.39,-383.95C1671.62,-373.29 1718.6,-361.43 1761.52,-350.59\"/>\n",
       "<polygon fill=\"black\" stroke=\"black\" points=\"1762.64,-353.92 1771.47,-348.08 1760.92,-347.14 1762.64,-353.92\"/>\n",
       "<text text-anchor=\"middle\" x=\"1758.66\" y=\"-365.85\" font-family=\"Helvetica,sans-Serif\" font-size=\"14.00\">False</text>\n",
       "</g>\n",
       "<!-- 2 -->\n",
       "<g id=\"node3\" class=\"node\">\n",
       "<title>2</title>\n",
       "<polygon fill=\"#fffdfe\" stroke=\"black\" points=\"781,-244 398,-244 398,-176 781,-176 781,-244\"/>\n",
       "<text text-anchor=\"middle\" x=\"589.5\" y=\"-228.8\" font-family=\"Helvetica,sans-Serif\" font-size=\"14.00\">tempo &lt;= 169.95</text>\n",
       "<text text-anchor=\"middle\" x=\"589.5\" y=\"-213.8\" font-family=\"Helvetica,sans-Serif\" font-size=\"14.00\">samples = 23.1%</text>\n",
       "<text text-anchor=\"middle\" x=\"589.5\" y=\"-198.8\" font-family=\"Helvetica,sans-Serif\" font-size=\"14.00\">value = [0.07, 0.078, 0.007, 0.003, 0.001, 0.003, 0.026, 0.011</text>\n",
       "<text text-anchor=\"middle\" x=\"589.5\" y=\"-183.8\" font-family=\"Helvetica,sans-Serif\" font-size=\"14.00\">0.157, 0.076, 0.193, 0.011, 0.048, 0.202, 0.115]</text>\n",
       "</g>\n",
       "<!-- 1&#45;&gt;2 -->\n",
       "<g id=\"edge2\" class=\"edge\">\n",
       "<title>1&#45;&gt;2</title>\n",
       "<path fill=\"none\" stroke=\"black\" d=\"M1106.5,-285.8C1009.29,-271.74 890.57,-254.56 791.41,-240.21\"/>\n",
       "<polygon fill=\"black\" stroke=\"black\" points=\"791.67,-236.71 781.27,-238.75 790.67,-243.64 791.67,-236.71\"/>\n",
       "</g>\n",
       "<!-- 2063 -->\n",
       "<g id=\"node10\" class=\"node\">\n",
       "<title>2063</title>\n",
       "<polygon fill=\"#fdfdff\" stroke=\"black\" points=\"1490,-244 1099,-244 1099,-176 1490,-176 1490,-244\"/>\n",
       "<text text-anchor=\"middle\" x=\"1294.5\" y=\"-228.8\" font-family=\"Helvetica,sans-Serif\" font-size=\"14.00\">speechiness &lt;= 0.15</text>\n",
       "<text text-anchor=\"middle\" x=\"1294.5\" y=\"-213.8\" font-family=\"Helvetica,sans-Serif\" font-size=\"14.00\">samples = 30.9%</text>\n",
       "<text text-anchor=\"middle\" x=\"1294.5\" y=\"-198.8\" font-family=\"Helvetica,sans-Serif\" font-size=\"14.00\">value = [0.157, 0.059, 0.082, 0.011, 0.031, 0.065, 0.056, 0.099</text>\n",
       "<text text-anchor=\"middle\" x=\"1294.5\" y=\"-183.8\" font-family=\"Helvetica,sans-Serif\" font-size=\"14.00\">0.082, 0.166, 0.02, 0.007, 0.025, 0.063, 0.077]</text>\n",
       "</g>\n",
       "<!-- 1&#45;&gt;2063 -->\n",
       "<g id=\"edge9\" class=\"edge\">\n",
       "<title>1&#45;&gt;2063</title>\n",
       "<path fill=\"none\" stroke=\"black\" d=\"M1294.5,-279.88C1294.5,-271.78 1294.5,-262.98 1294.5,-254.47\"/>\n",
       "<polygon fill=\"black\" stroke=\"black\" points=\"1298,-254.3 1294.5,-244.3 1291,-254.3 1298,-254.3\"/>\n",
       "</g>\n",
       "<!-- 3 -->\n",
       "<g id=\"node4\" class=\"node\">\n",
       "<title>3</title>\n",
       "<polygon fill=\"#fffcfd\" stroke=\"black\" points=\"383,-140 0,-140 0,-72 383,-72 383,-140\"/>\n",
       "<text text-anchor=\"middle\" x=\"191.5\" y=\"-124.8\" font-family=\"Helvetica,sans-Serif\" font-size=\"14.00\">tempo &lt;= 140.007</text>\n",
       "<text text-anchor=\"middle\" x=\"191.5\" y=\"-109.8\" font-family=\"Helvetica,sans-Serif\" font-size=\"14.00\">samples = 18.2%</text>\n",
       "<text text-anchor=\"middle\" x=\"191.5\" y=\"-94.8\" font-family=\"Helvetica,sans-Serif\" font-size=\"14.00\">value = [0.072, 0.066, 0.004, 0.002, 0.001, 0.002, 0.025, 0.01</text>\n",
       "<text text-anchor=\"middle\" x=\"191.5\" y=\"-79.8\" font-family=\"Helvetica,sans-Serif\" font-size=\"14.00\">0.0, 0.097, 0.245, 0.014, 0.061, 0.256, 0.145]</text>\n",
       "</g>\n",
       "<!-- 2&#45;&gt;3 -->\n",
       "<g id=\"edge3\" class=\"edge\">\n",
       "<title>2&#45;&gt;3</title>\n",
       "<path fill=\"none\" stroke=\"black\" d=\"M460.56,-175.95C418.95,-165.29 372.67,-153.43 330.38,-142.59\"/>\n",
       "<polygon fill=\"black\" stroke=\"black\" points=\"331.14,-139.17 320.58,-140.08 329.4,-145.95 331.14,-139.17\"/>\n",
       "</g>\n",
       "<!-- 1796 -->\n",
       "<g id=\"node7\" class=\"node\">\n",
       "<title>1796</title>\n",
       "<polygon fill=\"#73a2ed\" stroke=\"black\" points=\"777.5,-140 401.5,-140 401.5,-72 777.5,-72 777.5,-140\"/>\n",
       "<text text-anchor=\"middle\" x=\"589.5\" y=\"-124.8\" font-family=\"Helvetica,sans-Serif\" font-size=\"14.00\">instrumentalness &lt;= 0.0</text>\n",
       "<text text-anchor=\"middle\" x=\"589.5\" y=\"-109.8\" font-family=\"Helvetica,sans-Serif\" font-size=\"14.00\">samples = 4.9%</text>\n",
       "<text text-anchor=\"middle\" x=\"589.5\" y=\"-94.8\" font-family=\"Helvetica,sans-Serif\" font-size=\"14.00\">value = [0.064, 0.121, 0.018, 0.005, 0.0, 0.005, 0.031, 0.014</text>\n",
       "<text text-anchor=\"middle\" x=\"589.5\" y=\"-79.8\" font-family=\"Helvetica,sans-Serif\" font-size=\"14.00\">0.742, 0.0, 0.0, 0.0, 0.0, 0.0, 0.0]</text>\n",
       "</g>\n",
       "<!-- 2&#45;&gt;1796 -->\n",
       "<g id=\"edge6\" class=\"edge\">\n",
       "<title>2&#45;&gt;1796</title>\n",
       "<path fill=\"none\" stroke=\"black\" d=\"M589.5,-175.88C589.5,-167.78 589.5,-158.98 589.5,-150.47\"/>\n",
       "<polygon fill=\"black\" stroke=\"black\" points=\"593,-150.3 589.5,-140.3 586,-150.3 593,-150.3\"/>\n",
       "</g>\n",
       "<!-- 4 -->\n",
       "<g id=\"node5\" class=\"node\">\n",
       "<title>4</title>\n",
       "<polygon fill=\"#c0c0c0\" stroke=\"black\" points=\"182.5,-36 128.5,-36 128.5,0 182.5,0 182.5,-36\"/>\n",
       "<text text-anchor=\"middle\" x=\"155.5\" y=\"-14.3\" font-family=\"Helvetica,sans-Serif\" font-size=\"14.00\">(...)</text>\n",
       "</g>\n",
       "<!-- 3&#45;&gt;4 -->\n",
       "<g id=\"edge4\" class=\"edge\">\n",
       "<title>3&#45;&gt;4</title>\n",
       "<path fill=\"none\" stroke=\"black\" d=\"M177.68,-72C174.04,-63.28 170.14,-53.98 166.66,-45.65\"/>\n",
       "<polygon fill=\"black\" stroke=\"black\" points=\"169.88,-44.28 162.79,-36.4 163.42,-46.98 169.88,-44.28\"/>\n",
       "</g>\n",
       "<!-- 949 -->\n",
       "<g id=\"node6\" class=\"node\">\n",
       "<title>949</title>\n",
       "<polygon fill=\"#c0c0c0\" stroke=\"black\" points=\"254.5,-36 200.5,-36 200.5,0 254.5,0 254.5,-36\"/>\n",
       "<text text-anchor=\"middle\" x=\"227.5\" y=\"-14.3\" font-family=\"Helvetica,sans-Serif\" font-size=\"14.00\">(...)</text>\n",
       "</g>\n",
       "<!-- 3&#45;&gt;949 -->\n",
       "<g id=\"edge5\" class=\"edge\">\n",
       "<title>3&#45;&gt;949</title>\n",
       "<path fill=\"none\" stroke=\"black\" d=\"M205.32,-72C208.96,-63.28 212.86,-53.98 216.34,-45.65\"/>\n",
       "<polygon fill=\"black\" stroke=\"black\" points=\"219.58,-46.98 220.21,-36.4 213.12,-44.28 219.58,-46.98\"/>\n",
       "</g>\n",
       "<!-- 1797 -->\n",
       "<g id=\"node8\" class=\"node\">\n",
       "<title>1797</title>\n",
       "<polygon fill=\"#c0c0c0\" stroke=\"black\" points=\"580.5,-36 526.5,-36 526.5,0 580.5,0 580.5,-36\"/>\n",
       "<text text-anchor=\"middle\" x=\"553.5\" y=\"-14.3\" font-family=\"Helvetica,sans-Serif\" font-size=\"14.00\">(...)</text>\n",
       "</g>\n",
       "<!-- 1796&#45;&gt;1797 -->\n",
       "<g id=\"edge7\" class=\"edge\">\n",
       "<title>1796&#45;&gt;1797</title>\n",
       "<path fill=\"none\" stroke=\"black\" d=\"M575.68,-72C572.04,-63.28 568.14,-53.98 564.66,-45.65\"/>\n",
       "<polygon fill=\"black\" stroke=\"black\" points=\"567.88,-44.28 560.79,-36.4 561.42,-46.98 567.88,-44.28\"/>\n",
       "</g>\n",
       "<!-- 1898 -->\n",
       "<g id=\"node9\" class=\"node\">\n",
       "<title>1898</title>\n",
       "<polygon fill=\"#c0c0c0\" stroke=\"black\" points=\"652.5,-36 598.5,-36 598.5,0 652.5,0 652.5,-36\"/>\n",
       "<text text-anchor=\"middle\" x=\"625.5\" y=\"-14.3\" font-family=\"Helvetica,sans-Serif\" font-size=\"14.00\">(...)</text>\n",
       "</g>\n",
       "<!-- 1796&#45;&gt;1898 -->\n",
       "<g id=\"edge8\" class=\"edge\">\n",
       "<title>1796&#45;&gt;1898</title>\n",
       "<path fill=\"none\" stroke=\"black\" d=\"M603.32,-72C606.96,-63.28 610.86,-53.98 614.34,-45.65\"/>\n",
       "<polygon fill=\"black\" stroke=\"black\" points=\"617.58,-46.98 618.21,-36.4 611.12,-44.28 617.58,-46.98\"/>\n",
       "</g>\n",
       "<!-- 2064 -->\n",
       "<g id=\"node11\" class=\"node\">\n",
       "<title>2064</title>\n",
       "<polygon fill=\"#f9f9fe\" stroke=\"black\" points=\"1187,-140 796,-140 796,-72 1187,-72 1187,-140\"/>\n",
       "<text text-anchor=\"middle\" x=\"991.5\" y=\"-124.8\" font-family=\"Helvetica,sans-Serif\" font-size=\"14.00\">instrumentalness &lt;= 0.137</text>\n",
       "<text text-anchor=\"middle\" x=\"991.5\" y=\"-109.8\" font-family=\"Helvetica,sans-Serif\" font-size=\"14.00\">samples = 21.5%</text>\n",
       "<text text-anchor=\"middle\" x=\"991.5\" y=\"-94.8\" font-family=\"Helvetica,sans-Serif\" font-size=\"14.00\">value = [0.185, 0.077, 0.038, 0.013, 0.019, 0.056, 0.032, 0.059</text>\n",
       "<text text-anchor=\"middle\" x=\"991.5\" y=\"-79.8\" font-family=\"Helvetica,sans-Serif\" font-size=\"14.00\">0.103, 0.21, 0.027, 0.01, 0.036, 0.084, 0.051]</text>\n",
       "</g>\n",
       "<!-- 2063&#45;&gt;2064 -->\n",
       "<g id=\"edge10\" class=\"edge\">\n",
       "<title>2063&#45;&gt;2064</title>\n",
       "<path fill=\"none\" stroke=\"black\" d=\"M1196.12,-175.88C1165.2,-165.47 1130.89,-153.92 1099.34,-143.3\"/>\n",
       "<polygon fill=\"black\" stroke=\"black\" points=\"1100.23,-139.91 1089.64,-140.04 1098,-146.55 1100.23,-139.91\"/>\n",
       "</g>\n",
       "<!-- 5433 -->\n",
       "<g id=\"node14\" class=\"node\">\n",
       "<title>5433</title>\n",
       "<polygon fill=\"#fdfeff\" stroke=\"black\" points=\"1588,-140 1205,-140 1205,-72 1588,-72 1588,-140\"/>\n",
       "<text text-anchor=\"middle\" x=\"1396.5\" y=\"-124.8\" font-family=\"Helvetica,sans-Serif\" font-size=\"14.00\">loudness &lt;= &#45;3.796</text>\n",
       "<text text-anchor=\"middle\" x=\"1396.5\" y=\"-109.8\" font-family=\"Helvetica,sans-Serif\" font-size=\"14.00\">samples = 9.4%</text>\n",
       "<text text-anchor=\"middle\" x=\"1396.5\" y=\"-94.8\" font-family=\"Helvetica,sans-Serif\" font-size=\"14.00\">value = [0.095, 0.017, 0.181, 0.008, 0.059, 0.086, 0.11, 0.191</text>\n",
       "<text text-anchor=\"middle\" x=\"1396.5\" y=\"-79.8\" font-family=\"Helvetica,sans-Serif\" font-size=\"14.00\">0.034, 0.065, 0.003, 0.001, 0.002, 0.014, 0.136]</text>\n",
       "</g>\n",
       "<!-- 2063&#45;&gt;5433 -->\n",
       "<g id=\"edge13\" class=\"edge\">\n",
       "<title>2063&#45;&gt;5433</title>\n",
       "<path fill=\"none\" stroke=\"black\" d=\"M1327.62,-175.88C1336.7,-166.8 1346.65,-156.85 1356.1,-147.4\"/>\n",
       "<polygon fill=\"black\" stroke=\"black\" points=\"1358.6,-149.85 1363.2,-140.3 1353.65,-144.9 1358.6,-149.85\"/>\n",
       "</g>\n",
       "<!-- 2065 -->\n",
       "<g id=\"node12\" class=\"node\">\n",
       "<title>2065</title>\n",
       "<polygon fill=\"#c0c0c0\" stroke=\"black\" points=\"982.5,-36 928.5,-36 928.5,0 982.5,0 982.5,-36\"/>\n",
       "<text text-anchor=\"middle\" x=\"955.5\" y=\"-14.3\" font-family=\"Helvetica,sans-Serif\" font-size=\"14.00\">(...)</text>\n",
       "</g>\n",
       "<!-- 2064&#45;&gt;2065 -->\n",
       "<g id=\"edge11\" class=\"edge\">\n",
       "<title>2064&#45;&gt;2065</title>\n",
       "<path fill=\"none\" stroke=\"black\" d=\"M977.68,-72C974.04,-63.28 970.14,-53.98 966.66,-45.65\"/>\n",
       "<polygon fill=\"black\" stroke=\"black\" points=\"969.88,-44.28 962.79,-36.4 963.42,-46.98 969.88,-44.28\"/>\n",
       "</g>\n",
       "<!-- 4544 -->\n",
       "<g id=\"node13\" class=\"node\">\n",
       "<title>4544</title>\n",
       "<polygon fill=\"#c0c0c0\" stroke=\"black\" points=\"1054.5,-36 1000.5,-36 1000.5,0 1054.5,0 1054.5,-36\"/>\n",
       "<text text-anchor=\"middle\" x=\"1027.5\" y=\"-14.3\" font-family=\"Helvetica,sans-Serif\" font-size=\"14.00\">(...)</text>\n",
       "</g>\n",
       "<!-- 2064&#45;&gt;4544 -->\n",
       "<g id=\"edge12\" class=\"edge\">\n",
       "<title>2064&#45;&gt;4544</title>\n",
       "<path fill=\"none\" stroke=\"black\" d=\"M1005.32,-72C1008.96,-63.28 1012.86,-53.98 1016.34,-45.65\"/>\n",
       "<polygon fill=\"black\" stroke=\"black\" points=\"1019.58,-46.98 1020.21,-36.4 1013.12,-44.28 1019.58,-46.98\"/>\n",
       "</g>\n",
       "<!-- 5434 -->\n",
       "<g id=\"node15\" class=\"node\">\n",
       "<title>5434</title>\n",
       "<polygon fill=\"#c0c0c0\" stroke=\"black\" points=\"1387.5,-36 1333.5,-36 1333.5,0 1387.5,0 1387.5,-36\"/>\n",
       "<text text-anchor=\"middle\" x=\"1360.5\" y=\"-14.3\" font-family=\"Helvetica,sans-Serif\" font-size=\"14.00\">(...)</text>\n",
       "</g>\n",
       "<!-- 5433&#45;&gt;5434 -->\n",
       "<g id=\"edge14\" class=\"edge\">\n",
       "<title>5433&#45;&gt;5434</title>\n",
       "<path fill=\"none\" stroke=\"black\" d=\"M1382.68,-72C1379.04,-63.28 1375.14,-53.98 1371.66,-45.65\"/>\n",
       "<polygon fill=\"black\" stroke=\"black\" points=\"1374.88,-44.28 1367.79,-36.4 1368.42,-46.98 1374.88,-44.28\"/>\n",
       "</g>\n",
       "<!-- 6919 -->\n",
       "<g id=\"node16\" class=\"node\">\n",
       "<title>6919</title>\n",
       "<polygon fill=\"#c0c0c0\" stroke=\"black\" points=\"1459.5,-36 1405.5,-36 1405.5,0 1459.5,0 1459.5,-36\"/>\n",
       "<text text-anchor=\"middle\" x=\"1432.5\" y=\"-14.3\" font-family=\"Helvetica,sans-Serif\" font-size=\"14.00\">(...)</text>\n",
       "</g>\n",
       "<!-- 5433&#45;&gt;6919 -->\n",
       "<g id=\"edge15\" class=\"edge\">\n",
       "<title>5433&#45;&gt;6919</title>\n",
       "<path fill=\"none\" stroke=\"black\" d=\"M1410.32,-72C1413.96,-63.28 1417.86,-53.98 1421.34,-45.65\"/>\n",
       "<polygon fill=\"black\" stroke=\"black\" points=\"1424.58,-46.98 1425.21,-36.4 1418.12,-44.28 1424.58,-46.98\"/>\n",
       "</g>\n",
       "<!-- 7289 -->\n",
       "<g id=\"node18\" class=\"node\">\n",
       "<title>7289</title>\n",
       "<polygon fill=\"#f8c8ee\" stroke=\"black\" points=\"2098,-244 1707,-244 1707,-176 2098,-176 2098,-244\"/>\n",
       "<text text-anchor=\"middle\" x=\"1902.5\" y=\"-228.8\" font-family=\"Helvetica,sans-Serif\" font-size=\"14.00\">energy &lt;= 0.588</text>\n",
       "<text text-anchor=\"middle\" x=\"1902.5\" y=\"-213.8\" font-family=\"Helvetica,sans-Serif\" font-size=\"14.00\">samples = 7.7%</text>\n",
       "<text text-anchor=\"middle\" x=\"1902.5\" y=\"-198.8\" font-family=\"Helvetica,sans-Serif\" font-size=\"14.00\">value = [0.112, 0.004, 0.019, 0.003, 0.034, 0.016, 0.055, 0.136</text>\n",
       "<text text-anchor=\"middle\" x=\"1902.5\" y=\"-183.8\" font-family=\"Helvetica,sans-Serif\" font-size=\"14.00\">0.029, 0.004, 0.109, 0.046, 0.376, 0.013, 0.044]</text>\n",
       "</g>\n",
       "<!-- 7288&#45;&gt;7289 -->\n",
       "<g id=\"edge17\" class=\"edge\">\n",
       "<title>7288&#45;&gt;7289</title>\n",
       "<path fill=\"none\" stroke=\"black\" d=\"M1902.5,-279.88C1902.5,-271.78 1902.5,-262.98 1902.5,-254.47\"/>\n",
       "<polygon fill=\"black\" stroke=\"black\" points=\"1906,-254.3 1902.5,-244.3 1899,-254.3 1906,-254.3\"/>\n",
       "</g>\n",
       "<!-- 8216 -->\n",
       "<g id=\"node25\" class=\"node\">\n",
       "<title>8216</title>\n",
       "<polygon fill=\"#e8f8fc\" stroke=\"black\" points=\"2811,-244 2420,-244 2420,-176 2811,-176 2811,-244\"/>\n",
       "<text text-anchor=\"middle\" x=\"2615.5\" y=\"-228.8\" font-family=\"Helvetica,sans-Serif\" font-size=\"14.00\">energy &lt;= 0.851</text>\n",
       "<text text-anchor=\"middle\" x=\"2615.5\" y=\"-213.8\" font-family=\"Helvetica,sans-Serif\" font-size=\"14.00\">samples = 38.3%</text>\n",
       "<text text-anchor=\"middle\" x=\"2615.5\" y=\"-198.8\" font-family=\"Helvetica,sans-Serif\" font-size=\"14.00\">value = [0.088, 0.009, 0.117, 0.016, 0.082, 0.068, 0.048, 0.257</text>\n",
       "<text text-anchor=\"middle\" x=\"2615.5\" y=\"-183.8\" font-family=\"Helvetica,sans-Serif\" font-size=\"14.00\">0.012, 0.003, 0.029, 0.16, 0.062, 0.008, 0.041]</text>\n",
       "</g>\n",
       "<!-- 7288&#45;&gt;8216 -->\n",
       "<g id=\"edge24\" class=\"edge\">\n",
       "<title>7288&#45;&gt;8216</title>\n",
       "<path fill=\"none\" stroke=\"black\" d=\"M2090.77,-286.07C2188.99,-272.02 2309.32,-254.8 2409.96,-240.4\"/>\n",
       "<polygon fill=\"black\" stroke=\"black\" points=\"2410.55,-243.86 2419.95,-238.97 2409.56,-236.93 2410.55,-243.86\"/>\n",
       "</g>\n",
       "<!-- 7290 -->\n",
       "<g id=\"node19\" class=\"node\">\n",
       "<title>7290</title>\n",
       "<polygon fill=\"#eaf8fc\" stroke=\"black\" points=\"1997,-140 1606,-140 1606,-72 1997,-72 1997,-140\"/>\n",
       "<text text-anchor=\"middle\" x=\"1801.5\" y=\"-124.8\" font-family=\"Helvetica,sans-Serif\" font-size=\"14.00\">duration_ms &lt;= 355700.0</text>\n",
       "<text text-anchor=\"middle\" x=\"1801.5\" y=\"-109.8\" font-family=\"Helvetica,sans-Serif\" font-size=\"14.00\">samples = 2.2%</text>\n",
       "<text text-anchor=\"middle\" x=\"1801.5\" y=\"-94.8\" font-family=\"Helvetica,sans-Serif\" font-size=\"14.00\">value = [0.247, 0.011, 0.045, 0.007, 0.077, 0.049, 0.079, 0.326</text>\n",
       "<text text-anchor=\"middle\" x=\"1801.5\" y=\"-79.8\" font-family=\"Helvetica,sans-Serif\" font-size=\"14.00\">0.007, 0.0, 0.008, 0.015, 0.115, 0.009, 0.007]</text>\n",
       "</g>\n",
       "<!-- 7289&#45;&gt;7290 -->\n",
       "<g id=\"edge18\" class=\"edge\">\n",
       "<title>7289&#45;&gt;7290</title>\n",
       "<path fill=\"none\" stroke=\"black\" d=\"M1869.71,-175.88C1860.8,-166.89 1851.05,-157.04 1841.78,-147.68\"/>\n",
       "<polygon fill=\"black\" stroke=\"black\" points=\"1844,-144.94 1834.47,-140.3 1839.02,-149.87 1844,-144.94\"/>\n",
       "</g>\n",
       "<!-- 7713 -->\n",
       "<g id=\"node22\" class=\"node\">\n",
       "<title>7713</title>\n",
       "<polygon fill=\"#f5b2e6\" stroke=\"black\" points=\"2406,-140 2015,-140 2015,-72 2406,-72 2406,-140\"/>\n",
       "<text text-anchor=\"middle\" x=\"2210.5\" y=\"-124.8\" font-family=\"Helvetica,sans-Serif\" font-size=\"14.00\">tempo &lt;= 134.005</text>\n",
       "<text text-anchor=\"middle\" x=\"2210.5\" y=\"-109.8\" font-family=\"Helvetica,sans-Serif\" font-size=\"14.00\">samples = 5.5%</text>\n",
       "<text text-anchor=\"middle\" x=\"2210.5\" y=\"-94.8\" font-family=\"Helvetica,sans-Serif\" font-size=\"14.00\">value = [0.058, 0.001, 0.009, 0.002, 0.017, 0.002, 0.045, 0.059</text>\n",
       "<text text-anchor=\"middle\" x=\"2210.5\" y=\"-79.8\" font-family=\"Helvetica,sans-Serif\" font-size=\"14.00\">0.038, 0.006, 0.15, 0.059, 0.481, 0.014, 0.059]</text>\n",
       "</g>\n",
       "<!-- 7289&#45;&gt;7713 -->\n",
       "<g id=\"edge21\" class=\"edge\">\n",
       "<title>7289&#45;&gt;7713</title>\n",
       "<path fill=\"none\" stroke=\"black\" d=\"M2002.5,-175.88C2033.94,-165.47 2068.81,-153.92 2100.88,-143.3\"/>\n",
       "<polygon fill=\"black\" stroke=\"black\" points=\"2102.35,-146.5 2110.74,-140.04 2100.15,-139.86 2102.35,-146.5\"/>\n",
       "</g>\n",
       "<!-- 7291 -->\n",
       "<g id=\"node20\" class=\"node\">\n",
       "<title>7291</title>\n",
       "<polygon fill=\"#c0c0c0\" stroke=\"black\" points=\"1792.5,-36 1738.5,-36 1738.5,0 1792.5,0 1792.5,-36\"/>\n",
       "<text text-anchor=\"middle\" x=\"1765.5\" y=\"-14.3\" font-family=\"Helvetica,sans-Serif\" font-size=\"14.00\">(...)</text>\n",
       "</g>\n",
       "<!-- 7290&#45;&gt;7291 -->\n",
       "<g id=\"edge19\" class=\"edge\">\n",
       "<title>7290&#45;&gt;7291</title>\n",
       "<path fill=\"none\" stroke=\"black\" d=\"M1787.68,-72C1784.04,-63.28 1780.14,-53.98 1776.66,-45.65\"/>\n",
       "<polygon fill=\"black\" stroke=\"black\" points=\"1779.88,-44.28 1772.79,-36.4 1773.42,-46.98 1779.88,-44.28\"/>\n",
       "</g>\n",
       "<!-- 7698 -->\n",
       "<g id=\"node21\" class=\"node\">\n",
       "<title>7698</title>\n",
       "<polygon fill=\"#c0c0c0\" stroke=\"black\" points=\"1864.5,-36 1810.5,-36 1810.5,0 1864.5,0 1864.5,-36\"/>\n",
       "<text text-anchor=\"middle\" x=\"1837.5\" y=\"-14.3\" font-family=\"Helvetica,sans-Serif\" font-size=\"14.00\">(...)</text>\n",
       "</g>\n",
       "<!-- 7290&#45;&gt;7698 -->\n",
       "<g id=\"edge20\" class=\"edge\">\n",
       "<title>7290&#45;&gt;7698</title>\n",
       "<path fill=\"none\" stroke=\"black\" d=\"M1815.32,-72C1818.96,-63.28 1822.86,-53.98 1826.34,-45.65\"/>\n",
       "<polygon fill=\"black\" stroke=\"black\" points=\"1829.58,-46.98 1830.21,-36.4 1823.12,-44.28 1829.58,-46.98\"/>\n",
       "</g>\n",
       "<!-- 7714 -->\n",
       "<g id=\"node23\" class=\"node\">\n",
       "<title>7714</title>\n",
       "<polygon fill=\"#c0c0c0\" stroke=\"black\" points=\"2201.5,-36 2147.5,-36 2147.5,0 2201.5,0 2201.5,-36\"/>\n",
       "<text text-anchor=\"middle\" x=\"2174.5\" y=\"-14.3\" font-family=\"Helvetica,sans-Serif\" font-size=\"14.00\">(...)</text>\n",
       "</g>\n",
       "<!-- 7713&#45;&gt;7714 -->\n",
       "<g id=\"edge22\" class=\"edge\">\n",
       "<title>7713&#45;&gt;7714</title>\n",
       "<path fill=\"none\" stroke=\"black\" d=\"M2196.68,-72C2193.04,-63.28 2189.14,-53.98 2185.66,-45.65\"/>\n",
       "<polygon fill=\"black\" stroke=\"black\" points=\"2188.88,-44.28 2181.79,-36.4 2182.42,-46.98 2188.88,-44.28\"/>\n",
       "</g>\n",
       "<!-- 7973 -->\n",
       "<g id=\"node24\" class=\"node\">\n",
       "<title>7973</title>\n",
       "<polygon fill=\"#c0c0c0\" stroke=\"black\" points=\"2273.5,-36 2219.5,-36 2219.5,0 2273.5,0 2273.5,-36\"/>\n",
       "<text text-anchor=\"middle\" x=\"2246.5\" y=\"-14.3\" font-family=\"Helvetica,sans-Serif\" font-size=\"14.00\">(...)</text>\n",
       "</g>\n",
       "<!-- 7713&#45;&gt;7973 -->\n",
       "<g id=\"edge23\" class=\"edge\">\n",
       "<title>7713&#45;&gt;7973</title>\n",
       "<path fill=\"none\" stroke=\"black\" d=\"M2224.32,-72C2227.96,-63.28 2231.86,-53.98 2235.34,-45.65\"/>\n",
       "<polygon fill=\"black\" stroke=\"black\" points=\"2238.58,-46.98 2239.21,-36.4 2232.12,-44.28 2238.58,-46.98\"/>\n",
       "</g>\n",
       "<!-- 8217 -->\n",
       "<g id=\"node26\" class=\"node\">\n",
       "<title>8217</title>\n",
       "<polygon fill=\"#d7f2fa\" stroke=\"black\" points=\"2807,-140 2424,-140 2424,-72 2807,-72 2807,-140\"/>\n",
       "<text text-anchor=\"middle\" x=\"2615.5\" y=\"-124.8\" font-family=\"Helvetica,sans-Serif\" font-size=\"14.00\">danceability &lt;= 0.785</text>\n",
       "<text text-anchor=\"middle\" x=\"2615.5\" y=\"-109.8\" font-family=\"Helvetica,sans-Serif\" font-size=\"14.00\">samples = 29.2%</text>\n",
       "<text text-anchor=\"middle\" x=\"2615.5\" y=\"-94.8\" font-family=\"Helvetica,sans-Serif\" font-size=\"14.00\">value = [0.106, 0.011, 0.137, 0.018, 0.104, 0.085, 0.046, 0.31</text>\n",
       "<text text-anchor=\"middle\" x=\"2615.5\" y=\"-79.8\" font-family=\"Helvetica,sans-Serif\" font-size=\"14.00\">0.006, 0.002, 0.015, 0.09, 0.049, 0.008, 0.015]</text>\n",
       "</g>\n",
       "<!-- 8216&#45;&gt;8217 -->\n",
       "<g id=\"edge25\" class=\"edge\">\n",
       "<title>8216&#45;&gt;8217</title>\n",
       "<path fill=\"none\" stroke=\"black\" d=\"M2615.5,-175.88C2615.5,-167.78 2615.5,-158.98 2615.5,-150.47\"/>\n",
       "<polygon fill=\"black\" stroke=\"black\" points=\"2619,-150.3 2615.5,-140.3 2612,-150.3 2619,-150.3\"/>\n",
       "</g>\n",
       "<!-- 13734 -->\n",
       "<g id=\"node29\" class=\"node\">\n",
       "<title>13734</title>\n",
       "<polygon fill=\"#eec4f7\" stroke=\"black\" points=\"3216,-140 2825,-140 2825,-72 3216,-72 3216,-140\"/>\n",
       "<text text-anchor=\"middle\" x=\"3020.5\" y=\"-124.8\" font-family=\"Helvetica,sans-Serif\" font-size=\"14.00\">instrumentalness &lt;= 0.023</text>\n",
       "<text text-anchor=\"middle\" x=\"3020.5\" y=\"-109.8\" font-family=\"Helvetica,sans-Serif\" font-size=\"14.00\">samples = 9.1%</text>\n",
       "<text text-anchor=\"middle\" x=\"3020.5\" y=\"-94.8\" font-family=\"Helvetica,sans-Serif\" font-size=\"14.00\">value = [0.031, 0.004, 0.053, 0.009, 0.012, 0.016, 0.056, 0.085</text>\n",
       "<text text-anchor=\"middle\" x=\"3020.5\" y=\"-79.8\" font-family=\"Helvetica,sans-Serif\" font-size=\"14.00\">0.03, 0.009, 0.074, 0.386, 0.105, 0.007, 0.125]</text>\n",
       "</g>\n",
       "<!-- 8216&#45;&gt;13734 -->\n",
       "<g id=\"edge28\" class=\"edge\">\n",
       "<title>8216&#45;&gt;13734</title>\n",
       "<path fill=\"none\" stroke=\"black\" d=\"M2746.71,-175.95C2789.13,-165.27 2836.34,-153.38 2879.44,-142.53\"/>\n",
       "<polygon fill=\"black\" stroke=\"black\" points=\"2880.31,-145.92 2889.15,-140.08 2878.6,-139.13 2880.31,-145.92\"/>\n",
       "</g>\n",
       "<!-- 8218 -->\n",
       "<g id=\"node27\" class=\"node\">\n",
       "<title>8218</title>\n",
       "<polygon fill=\"#c0c0c0\" stroke=\"black\" points=\"2606.5,-36 2552.5,-36 2552.5,0 2606.5,0 2606.5,-36\"/>\n",
       "<text text-anchor=\"middle\" x=\"2579.5\" y=\"-14.3\" font-family=\"Helvetica,sans-Serif\" font-size=\"14.00\">(...)</text>\n",
       "</g>\n",
       "<!-- 8217&#45;&gt;8218 -->\n",
       "<g id=\"edge26\" class=\"edge\">\n",
       "<title>8217&#45;&gt;8218</title>\n",
       "<path fill=\"none\" stroke=\"black\" d=\"M2601.68,-72C2598.04,-63.28 2594.14,-53.98 2590.66,-45.65\"/>\n",
       "<polygon fill=\"black\" stroke=\"black\" points=\"2593.88,-44.28 2586.79,-36.4 2587.42,-46.98 2593.88,-44.28\"/>\n",
       "</g>\n",
       "<!-- 11047 -->\n",
       "<g id=\"node28\" class=\"node\">\n",
       "<title>11047</title>\n",
       "<polygon fill=\"#c0c0c0\" stroke=\"black\" points=\"2678.5,-36 2624.5,-36 2624.5,0 2678.5,0 2678.5,-36\"/>\n",
       "<text text-anchor=\"middle\" x=\"2651.5\" y=\"-14.3\" font-family=\"Helvetica,sans-Serif\" font-size=\"14.00\">(...)</text>\n",
       "</g>\n",
       "<!-- 8217&#45;&gt;11047 -->\n",
       "<g id=\"edge27\" class=\"edge\">\n",
       "<title>8217&#45;&gt;11047</title>\n",
       "<path fill=\"none\" stroke=\"black\" d=\"M2629.32,-72C2632.96,-63.28 2636.86,-53.98 2640.34,-45.65\"/>\n",
       "<polygon fill=\"black\" stroke=\"black\" points=\"2643.58,-46.98 2644.21,-36.4 2637.12,-44.28 2643.58,-46.98\"/>\n",
       "</g>\n",
       "<!-- 13735 -->\n",
       "<g id=\"node30\" class=\"node\">\n",
       "<title>13735</title>\n",
       "<polygon fill=\"#c0c0c0\" stroke=\"black\" points=\"3011.5,-36 2957.5,-36 2957.5,0 3011.5,0 3011.5,-36\"/>\n",
       "<text text-anchor=\"middle\" x=\"2984.5\" y=\"-14.3\" font-family=\"Helvetica,sans-Serif\" font-size=\"14.00\">(...)</text>\n",
       "</g>\n",
       "<!-- 13734&#45;&gt;13735 -->\n",
       "<g id=\"edge29\" class=\"edge\">\n",
       "<title>13734&#45;&gt;13735</title>\n",
       "<path fill=\"none\" stroke=\"black\" d=\"M3006.68,-72C3003.04,-63.28 2999.14,-53.98 2995.66,-45.65\"/>\n",
       "<polygon fill=\"black\" stroke=\"black\" points=\"2998.88,-44.28 2991.79,-36.4 2992.42,-46.98 2998.88,-44.28\"/>\n",
       "</g>\n",
       "<!-- 14334 -->\n",
       "<g id=\"node31\" class=\"node\">\n",
       "<title>14334</title>\n",
       "<polygon fill=\"#c0c0c0\" stroke=\"black\" points=\"3083.5,-36 3029.5,-36 3029.5,0 3083.5,0 3083.5,-36\"/>\n",
       "<text text-anchor=\"middle\" x=\"3056.5\" y=\"-14.3\" font-family=\"Helvetica,sans-Serif\" font-size=\"14.00\">(...)</text>\n",
       "</g>\n",
       "<!-- 13734&#45;&gt;14334 -->\n",
       "<g id=\"edge30\" class=\"edge\">\n",
       "<title>13734&#45;&gt;14334</title>\n",
       "<path fill=\"none\" stroke=\"black\" d=\"M3034.32,-72C3037.96,-63.28 3041.86,-53.98 3045.34,-45.65\"/>\n",
       "<polygon fill=\"black\" stroke=\"black\" points=\"3048.58,-46.98 3049.21,-36.4 3042.12,-44.28 3048.58,-46.98\"/>\n",
       "</g>\n",
       "</g>\n",
       "</svg>\n"
      ],
      "text/plain": [
       "<graphviz.sources.Source at 0x7f33d740b190>"
      ]
     },
     "metadata": {},
     "output_type": "display_data"
    },
    {
     "data": {
      "image/svg+xml": [
       "<?xml version=\"1.0\" encoding=\"UTF-8\" standalone=\"no\"?>\n",
       "<!DOCTYPE svg PUBLIC \"-//W3C//DTD SVG 1.1//EN\"\n",
       " \"http://www.w3.org/Graphics/SVG/1.1/DTD/svg11.dtd\">\n",
       "<!-- Generated by graphviz version 2.43.0 (0)\n",
       " -->\n",
       "<!-- Title: Tree Pages: 1 -->\n",
       "<svg width=\"3164pt\" height=\"460pt\"\n",
       " viewBox=\"0.00 0.00 3164.00 460.00\" xmlns=\"http://www.w3.org/2000/svg\" xmlns:xlink=\"http://www.w3.org/1999/xlink\">\n",
       "<g id=\"graph0\" class=\"graph\" transform=\"scale(1 1) rotate(0) translate(4 456)\">\n",
       "<title>Tree</title>\n",
       "<polygon fill=\"white\" stroke=\"transparent\" points=\"-4,4 -4,-456 3160,-456 3160,4 -4,4\"/>\n",
       "<!-- 0 -->\n",
       "<g id=\"node1\" class=\"node\">\n",
       "<title>0</title>\n",
       "<polygon fill=\"#f7fdfe\" stroke=\"black\" points=\"1762,-452 1379,-452 1379,-384 1762,-384 1762,-452\"/>\n",
       "<text text-anchor=\"middle\" x=\"1570.5\" y=\"-436.8\" font-family=\"Helvetica,sans-Serif\" font-size=\"14.00\">energy &lt;= 0.824</text>\n",
       "<text text-anchor=\"middle\" x=\"1570.5\" y=\"-421.8\" font-family=\"Helvetica,sans-Serif\" font-size=\"14.00\">samples = 100.0%</text>\n",
       "<text text-anchor=\"middle\" x=\"1570.5\" y=\"-406.8\" font-family=\"Helvetica,sans-Serif\" font-size=\"14.00\">value = [0.105, 0.039, 0.072, 0.011, 0.043, 0.051, 0.048, 0.14</text>\n",
       "<text text-anchor=\"middle\" x=\"1570.5\" y=\"-391.8\" font-family=\"Helvetica,sans-Serif\" font-size=\"14.00\">0.066, 0.072, 0.07, 0.069, 0.07, 0.072, 0.071]</text>\n",
       "</g>\n",
       "<!-- 1 -->\n",
       "<g id=\"node2\" class=\"node\">\n",
       "<title>1</title>\n",
       "<polygon fill=\"#effafd\" stroke=\"black\" points=\"1380,-348 989,-348 989,-280 1380,-280 1380,-348\"/>\n",
       "<text text-anchor=\"middle\" x=\"1184.5\" y=\"-332.8\" font-family=\"Helvetica,sans-Serif\" font-size=\"14.00\">duration_ms &lt;= 332582.0</text>\n",
       "<text text-anchor=\"middle\" x=\"1184.5\" y=\"-317.8\" font-family=\"Helvetica,sans-Serif\" font-size=\"14.00\">samples = 53.8%</text>\n",
       "<text text-anchor=\"middle\" x=\"1184.5\" y=\"-302.8\" font-family=\"Helvetica,sans-Serif\" font-size=\"14.00\">value = [0.158, 0.033, 0.111, 0.017, 0.076, 0.087, 0.053, 0.228</text>\n",
       "<text text-anchor=\"middle\" x=\"1184.5\" y=\"-287.8\" font-family=\"Helvetica,sans-Serif\" font-size=\"14.00\">0.03, 0.023, 0.02, 0.048, 0.067, 0.028, 0.022]</text>\n",
       "</g>\n",
       "<!-- 0&#45;&gt;1 -->\n",
       "<g id=\"edge1\" class=\"edge\">\n",
       "<title>0&#45;&gt;1</title>\n",
       "<path fill=\"none\" stroke=\"black\" d=\"M1445.44,-383.95C1405.18,-373.31 1360.4,-361.48 1319.46,-350.66\"/>\n",
       "<polygon fill=\"black\" stroke=\"black\" points=\"1320.25,-347.25 1309.69,-348.08 1318.46,-354.02 1320.25,-347.25\"/>\n",
       "<text text-anchor=\"middle\" x=\"1322.26\" y=\"-365.99\" font-family=\"Helvetica,sans-Serif\" font-size=\"14.00\">True</text>\n",
       "</g>\n",
       "<!-- 10222 -->\n",
       "<g id=\"node17\" class=\"node\">\n",
       "<title>10222</title>\n",
       "<polygon fill=\"#ffffff\" stroke=\"black\" points=\"2171,-348 1780,-348 1780,-280 2171,-280 2171,-348\"/>\n",
       "<text text-anchor=\"middle\" x=\"1975.5\" y=\"-332.8\" font-family=\"Helvetica,sans-Serif\" font-size=\"14.00\">tempo &lt;= 169.929</text>\n",
       "<text text-anchor=\"middle\" x=\"1975.5\" y=\"-317.8\" font-family=\"Helvetica,sans-Serif\" font-size=\"14.00\">samples = 46.2%</text>\n",
       "<text text-anchor=\"middle\" x=\"1975.5\" y=\"-302.8\" font-family=\"Helvetica,sans-Serif\" font-size=\"14.00\">value = [0.044, 0.047, 0.026, 0.005, 0.005, 0.009, 0.042, 0.037</text>\n",
       "<text text-anchor=\"middle\" x=\"1975.5\" y=\"-287.8\" font-family=\"Helvetica,sans-Serif\" font-size=\"14.00\">0.108, 0.129, 0.128, 0.093, 0.073, 0.125, 0.128]</text>\n",
       "</g>\n",
       "<!-- 0&#45;&gt;10222 -->\n",
       "<g id=\"edge16\" class=\"edge\">\n",
       "<title>0&#45;&gt;10222</title>\n",
       "<path fill=\"none\" stroke=\"black\" d=\"M1701.71,-383.95C1744.13,-373.27 1791.34,-361.38 1834.44,-350.53\"/>\n",
       "<polygon fill=\"black\" stroke=\"black\" points=\"1835.31,-353.92 1844.15,-348.08 1833.6,-347.13 1835.31,-353.92\"/>\n",
       "<text text-anchor=\"middle\" x=\"1831.32\" y=\"-365.84\" font-family=\"Helvetica,sans-Serif\" font-size=\"14.00\">False</text>\n",
       "</g>\n",
       "<!-- 2 -->\n",
       "<g id=\"node3\" class=\"node\">\n",
       "<title>2</title>\n",
       "<polygon fill=\"#ebf9fc\" stroke=\"black\" points=\"796,-244 413,-244 413,-176 796,-176 796,-244\"/>\n",
       "<text text-anchor=\"middle\" x=\"604.5\" y=\"-228.8\" font-family=\"Helvetica,sans-Serif\" font-size=\"14.00\">speechiness &lt;= 0.09</text>\n",
       "<text text-anchor=\"middle\" x=\"604.5\" y=\"-213.8\" font-family=\"Helvetica,sans-Serif\" font-size=\"14.00\">samples = 46.8%</text>\n",
       "<text text-anchor=\"middle\" x=\"604.5\" y=\"-198.8\" font-family=\"Helvetica,sans-Serif\" font-size=\"14.00\">value = [0.178, 0.037, 0.124, 0.019, 0.085, 0.097, 0.06, 0.259</text>\n",
       "<text text-anchor=\"middle\" x=\"604.5\" y=\"-183.8\" font-family=\"Helvetica,sans-Serif\" font-size=\"14.00\">0.028, 0.024, 0.002, 0.03, 0.008, 0.023, 0.025]</text>\n",
       "</g>\n",
       "<!-- 1&#45;&gt;2 -->\n",
       "<g id=\"edge2\" class=\"edge\">\n",
       "<title>1&#45;&gt;2</title>\n",
       "<path fill=\"none\" stroke=\"black\" d=\"M996.59,-279.95C934.56,-269.05 865.39,-256.88 802.62,-245.84\"/>\n",
       "<polygon fill=\"black\" stroke=\"black\" points=\"803.06,-242.37 792.61,-244.08 801.85,-249.26 803.06,-242.37\"/>\n",
       "</g>\n",
       "<!-- 9451 -->\n",
       "<g id=\"node10\" class=\"node\">\n",
       "<title>9451</title>\n",
       "<polygon fill=\"#f6b9e9\" stroke=\"black\" points=\"1372.5,-244 996.5,-244 996.5,-176 1372.5,-176 1372.5,-244\"/>\n",
       "<text text-anchor=\"middle\" x=\"1184.5\" y=\"-228.8\" font-family=\"Helvetica,sans-Serif\" font-size=\"14.00\">valence &lt;= 0.359</text>\n",
       "<text text-anchor=\"middle\" x=\"1184.5\" y=\"-213.8\" font-family=\"Helvetica,sans-Serif\" font-size=\"14.00\">samples = 7.0%</text>\n",
       "<text text-anchor=\"middle\" x=\"1184.5\" y=\"-198.8\" font-family=\"Helvetica,sans-Serif\" font-size=\"14.00\">value = [0.019, 0.008, 0.027, 0.0, 0.015, 0.019, 0.002, 0.014</text>\n",
       "<text text-anchor=\"middle\" x=\"1184.5\" y=\"-183.8\" font-family=\"Helvetica,sans-Serif\" font-size=\"14.00\">0.042, 0.02, 0.146, 0.164, 0.461, 0.062, 0.001]</text>\n",
       "</g>\n",
       "<!-- 1&#45;&gt;9451 -->\n",
       "<g id=\"edge9\" class=\"edge\">\n",
       "<title>1&#45;&gt;9451</title>\n",
       "<path fill=\"none\" stroke=\"black\" d=\"M1184.5,-279.88C1184.5,-271.78 1184.5,-262.98 1184.5,-254.47\"/>\n",
       "<polygon fill=\"black\" stroke=\"black\" points=\"1188,-254.3 1184.5,-244.3 1181,-254.3 1188,-254.3\"/>\n",
       "</g>\n",
       "<!-- 3 -->\n",
       "<g id=\"node4\" class=\"node\">\n",
       "<title>3</title>\n",
       "<polygon fill=\"#fcefe6\" stroke=\"black\" points=\"391,-140 0,-140 0,-72 391,-72 391,-140\"/>\n",
       "<text text-anchor=\"middle\" x=\"195.5\" y=\"-124.8\" font-family=\"Helvetica,sans-Serif\" font-size=\"14.00\">valence &lt;= 0.341</text>\n",
       "<text text-anchor=\"middle\" x=\"195.5\" y=\"-109.8\" font-family=\"Helvetica,sans-Serif\" font-size=\"14.00\">samples = 20.9%</text>\n",
       "<text text-anchor=\"middle\" x=\"195.5\" y=\"-94.8\" font-family=\"Helvetica,sans-Serif\" font-size=\"14.00\">value = [0.248, 0.065, 0.066, 0.031, 0.045, 0.104, 0.055, 0.141</text>\n",
       "<text text-anchor=\"middle\" x=\"195.5\" y=\"-79.8\" font-family=\"Helvetica,sans-Serif\" font-size=\"14.00\">0.051, 0.05, 0.002, 0.053, 0.015, 0.046, 0.027]</text>\n",
       "</g>\n",
       "<!-- 2&#45;&gt;3 -->\n",
       "<g id=\"edge3\" class=\"edge\">\n",
       "<title>2&#45;&gt;3</title>\n",
       "<path fill=\"none\" stroke=\"black\" d=\"M471.99,-175.95C429.15,-165.27 381.48,-153.38 337.95,-142.53\"/>\n",
       "<polygon fill=\"black\" stroke=\"black\" points=\"338.7,-139.1 328.15,-140.08 337,-145.9 338.7,-139.1\"/>\n",
       "</g>\n",
       "<!-- 4100 -->\n",
       "<g id=\"node7\" class=\"node\">\n",
       "<title>4100</title>\n",
       "<polygon fill=\"#d2f1f9\" stroke=\"black\" points=\"800,-140 409,-140 409,-72 800,-72 800,-140\"/>\n",
       "<text text-anchor=\"middle\" x=\"604.5\" y=\"-124.8\" font-family=\"Helvetica,sans-Serif\" font-size=\"14.00\">duration_ms &lt;= 192561.5</text>\n",
       "<text text-anchor=\"middle\" x=\"604.5\" y=\"-109.8\" font-family=\"Helvetica,sans-Serif\" font-size=\"14.00\">samples = 25.9%</text>\n",
       "<text text-anchor=\"middle\" x=\"604.5\" y=\"-94.8\" font-family=\"Helvetica,sans-Serif\" font-size=\"14.00\">value = [0.121, 0.013, 0.171, 0.009, 0.118, 0.092, 0.065, 0.357</text>\n",
       "<text text-anchor=\"middle\" x=\"604.5\" y=\"-79.8\" font-family=\"Helvetica,sans-Serif\" font-size=\"14.00\">0.01, 0.002, 0.001, 0.012, 0.002, 0.003, 0.024]</text>\n",
       "</g>\n",
       "<!-- 2&#45;&gt;4100 -->\n",
       "<g id=\"edge6\" class=\"edge\">\n",
       "<title>2&#45;&gt;4100</title>\n",
       "<path fill=\"none\" stroke=\"black\" d=\"M604.5,-175.88C604.5,-167.78 604.5,-158.98 604.5,-150.47\"/>\n",
       "<polygon fill=\"black\" stroke=\"black\" points=\"608,-150.3 604.5,-140.3 601,-150.3 608,-150.3\"/>\n",
       "</g>\n",
       "<!-- 4 -->\n",
       "<g id=\"node5\" class=\"node\">\n",
       "<title>4</title>\n",
       "<polygon fill=\"#c0c0c0\" stroke=\"black\" points=\"186.5,-36 132.5,-36 132.5,0 186.5,0 186.5,-36\"/>\n",
       "<text text-anchor=\"middle\" x=\"159.5\" y=\"-14.3\" font-family=\"Helvetica,sans-Serif\" font-size=\"14.00\">(...)</text>\n",
       "</g>\n",
       "<!-- 3&#45;&gt;4 -->\n",
       "<g id=\"edge4\" class=\"edge\">\n",
       "<title>3&#45;&gt;4</title>\n",
       "<path fill=\"none\" stroke=\"black\" d=\"M181.68,-72C178.04,-63.28 174.14,-53.98 170.66,-45.65\"/>\n",
       "<polygon fill=\"black\" stroke=\"black\" points=\"173.88,-44.28 166.79,-36.4 167.42,-46.98 173.88,-44.28\"/>\n",
       "</g>\n",
       "<!-- 2399 -->\n",
       "<g id=\"node6\" class=\"node\">\n",
       "<title>2399</title>\n",
       "<polygon fill=\"#c0c0c0\" stroke=\"black\" points=\"258.5,-36 204.5,-36 204.5,0 258.5,0 258.5,-36\"/>\n",
       "<text text-anchor=\"middle\" x=\"231.5\" y=\"-14.3\" font-family=\"Helvetica,sans-Serif\" font-size=\"14.00\">(...)</text>\n",
       "</g>\n",
       "<!-- 3&#45;&gt;2399 -->\n",
       "<g id=\"edge5\" class=\"edge\">\n",
       "<title>3&#45;&gt;2399</title>\n",
       "<path fill=\"none\" stroke=\"black\" d=\"M209.32,-72C212.96,-63.28 216.86,-53.98 220.34,-45.65\"/>\n",
       "<polygon fill=\"black\" stroke=\"black\" points=\"223.58,-46.98 224.21,-36.4 217.12,-44.28 223.58,-46.98\"/>\n",
       "</g>\n",
       "<!-- 4101 -->\n",
       "<g id=\"node8\" class=\"node\">\n",
       "<title>4101</title>\n",
       "<polygon fill=\"#c0c0c0\" stroke=\"black\" points=\"595.5,-36 541.5,-36 541.5,0 595.5,0 595.5,-36\"/>\n",
       "<text text-anchor=\"middle\" x=\"568.5\" y=\"-14.3\" font-family=\"Helvetica,sans-Serif\" font-size=\"14.00\">(...)</text>\n",
       "</g>\n",
       "<!-- 4100&#45;&gt;4101 -->\n",
       "<g id=\"edge7\" class=\"edge\">\n",
       "<title>4100&#45;&gt;4101</title>\n",
       "<path fill=\"none\" stroke=\"black\" d=\"M590.68,-72C587.04,-63.28 583.14,-53.98 579.66,-45.65\"/>\n",
       "<polygon fill=\"black\" stroke=\"black\" points=\"582.88,-44.28 575.79,-36.4 576.42,-46.98 582.88,-44.28\"/>\n",
       "</g>\n",
       "<!-- 7074 -->\n",
       "<g id=\"node9\" class=\"node\">\n",
       "<title>7074</title>\n",
       "<polygon fill=\"#c0c0c0\" stroke=\"black\" points=\"667.5,-36 613.5,-36 613.5,0 667.5,0 667.5,-36\"/>\n",
       "<text text-anchor=\"middle\" x=\"640.5\" y=\"-14.3\" font-family=\"Helvetica,sans-Serif\" font-size=\"14.00\">(...)</text>\n",
       "</g>\n",
       "<!-- 4100&#45;&gt;7074 -->\n",
       "<g id=\"edge8\" class=\"edge\">\n",
       "<title>4100&#45;&gt;7074</title>\n",
       "<path fill=\"none\" stroke=\"black\" d=\"M618.32,-72C621.96,-63.28 625.86,-53.98 629.34,-45.65\"/>\n",
       "<polygon fill=\"black\" stroke=\"black\" points=\"632.58,-46.98 633.21,-36.4 626.12,-44.28 632.58,-46.98\"/>\n",
       "</g>\n",
       "<!-- 9452 -->\n",
       "<g id=\"node11\" class=\"node\">\n",
       "<title>9452</title>\n",
       "<polygon fill=\"#f3a3e2\" stroke=\"black\" points=\"1186.5,-140 818.5,-140 818.5,-72 1186.5,-72 1186.5,-140\"/>\n",
       "<text text-anchor=\"middle\" x=\"1002.5\" y=\"-124.8\" font-family=\"Helvetica,sans-Serif\" font-size=\"14.00\">tempo &lt;= 133.999</text>\n",
       "<text text-anchor=\"middle\" x=\"1002.5\" y=\"-109.8\" font-family=\"Helvetica,sans-Serif\" font-size=\"14.00\">samples = 5.1%</text>\n",
       "<text text-anchor=\"middle\" x=\"1002.5\" y=\"-94.8\" font-family=\"Helvetica,sans-Serif\" font-size=\"14.00\">value = [0.024, 0.01, 0.016, 0.0, 0.013, 0.015, 0.001, 0.006</text>\n",
       "<text text-anchor=\"middle\" x=\"1002.5\" y=\"-79.8\" font-family=\"Helvetica,sans-Serif\" font-size=\"14.00\">0.045, 0.021, 0.168, 0.066, 0.555, 0.059, 0.001]</text>\n",
       "</g>\n",
       "<!-- 9451&#45;&gt;9452 -->\n",
       "<g id=\"edge10\" class=\"edge\">\n",
       "<title>9451&#45;&gt;9452</title>\n",
       "<path fill=\"none\" stroke=\"black\" d=\"M1125.41,-175.88C1107.84,-166.04 1088.45,-155.17 1070.36,-145.03\"/>\n",
       "<polygon fill=\"black\" stroke=\"black\" points=\"1072.04,-141.96 1061.6,-140.12 1068.62,-148.07 1072.04,-141.96\"/>\n",
       "</g>\n",
       "<!-- 9919 -->\n",
       "<g id=\"node14\" class=\"node\">\n",
       "<title>9919</title>\n",
       "<polygon fill=\"#f0cbf8\" stroke=\"black\" points=\"1566,-140 1205,-140 1205,-72 1566,-72 1566,-140\"/>\n",
       "<text text-anchor=\"middle\" x=\"1385.5\" y=\"-124.8\" font-family=\"Helvetica,sans-Serif\" font-size=\"14.00\">acousticness &lt;= 0.012</text>\n",
       "<text text-anchor=\"middle\" x=\"1385.5\" y=\"-109.8\" font-family=\"Helvetica,sans-Serif\" font-size=\"14.00\">samples = 1.9%</text>\n",
       "<text text-anchor=\"middle\" x=\"1385.5\" y=\"-94.8\" font-family=\"Helvetica,sans-Serif\" font-size=\"14.00\">value = [0.008, 0.005, 0.056, 0.0, 0.02, 0.03, 0.005, 0.033</text>\n",
       "<text text-anchor=\"middle\" x=\"1385.5\" y=\"-79.8\" font-family=\"Helvetica,sans-Serif\" font-size=\"14.00\">0.035, 0.018, 0.088, 0.419, 0.213, 0.068, 0.002]</text>\n",
       "</g>\n",
       "<!-- 9451&#45;&gt;9919 -->\n",
       "<g id=\"edge13\" class=\"edge\">\n",
       "<title>9451&#45;&gt;9919</title>\n",
       "<path fill=\"none\" stroke=\"black\" d=\"M1249.76,-175.88C1269.34,-165.95 1290.97,-154.97 1311.1,-144.76\"/>\n",
       "<polygon fill=\"black\" stroke=\"black\" points=\"1312.89,-147.77 1320.22,-140.12 1309.72,-141.53 1312.89,-147.77\"/>\n",
       "</g>\n",
       "<!-- 9453 -->\n",
       "<g id=\"node12\" class=\"node\">\n",
       "<title>9453</title>\n",
       "<polygon fill=\"#c0c0c0\" stroke=\"black\" points=\"993.5,-36 939.5,-36 939.5,0 993.5,0 993.5,-36\"/>\n",
       "<text text-anchor=\"middle\" x=\"966.5\" y=\"-14.3\" font-family=\"Helvetica,sans-Serif\" font-size=\"14.00\">(...)</text>\n",
       "</g>\n",
       "<!-- 9452&#45;&gt;9453 -->\n",
       "<g id=\"edge11\" class=\"edge\">\n",
       "<title>9452&#45;&gt;9453</title>\n",
       "<path fill=\"none\" stroke=\"black\" d=\"M988.68,-72C985.04,-63.28 981.14,-53.98 977.66,-45.65\"/>\n",
       "<polygon fill=\"black\" stroke=\"black\" points=\"980.88,-44.28 973.79,-36.4 974.42,-46.98 980.88,-44.28\"/>\n",
       "</g>\n",
       "<!-- 9730 -->\n",
       "<g id=\"node13\" class=\"node\">\n",
       "<title>9730</title>\n",
       "<polygon fill=\"#c0c0c0\" stroke=\"black\" points=\"1065.5,-36 1011.5,-36 1011.5,0 1065.5,0 1065.5,-36\"/>\n",
       "<text text-anchor=\"middle\" x=\"1038.5\" y=\"-14.3\" font-family=\"Helvetica,sans-Serif\" font-size=\"14.00\">(...)</text>\n",
       "</g>\n",
       "<!-- 9452&#45;&gt;9730 -->\n",
       "<g id=\"edge12\" class=\"edge\">\n",
       "<title>9452&#45;&gt;9730</title>\n",
       "<path fill=\"none\" stroke=\"black\" d=\"M1016.32,-72C1019.96,-63.28 1023.86,-53.98 1027.34,-45.65\"/>\n",
       "<polygon fill=\"black\" stroke=\"black\" points=\"1030.58,-46.98 1031.21,-36.4 1024.12,-44.28 1030.58,-46.98\"/>\n",
       "</g>\n",
       "<!-- 9920 -->\n",
       "<g id=\"node15\" class=\"node\">\n",
       "<title>9920</title>\n",
       "<polygon fill=\"#c0c0c0\" stroke=\"black\" points=\"1376.5,-36 1322.5,-36 1322.5,0 1376.5,0 1376.5,-36\"/>\n",
       "<text text-anchor=\"middle\" x=\"1349.5\" y=\"-14.3\" font-family=\"Helvetica,sans-Serif\" font-size=\"14.00\">(...)</text>\n",
       "</g>\n",
       "<!-- 9919&#45;&gt;9920 -->\n",
       "<g id=\"edge14\" class=\"edge\">\n",
       "<title>9919&#45;&gt;9920</title>\n",
       "<path fill=\"none\" stroke=\"black\" d=\"M1371.68,-72C1368.04,-63.28 1364.14,-53.98 1360.66,-45.65\"/>\n",
       "<polygon fill=\"black\" stroke=\"black\" points=\"1363.88,-44.28 1356.79,-36.4 1357.42,-46.98 1363.88,-44.28\"/>\n",
       "</g>\n",
       "<!-- 10089 -->\n",
       "<g id=\"node16\" class=\"node\">\n",
       "<title>10089</title>\n",
       "<polygon fill=\"#c0c0c0\" stroke=\"black\" points=\"1448.5,-36 1394.5,-36 1394.5,0 1448.5,0 1448.5,-36\"/>\n",
       "<text text-anchor=\"middle\" x=\"1421.5\" y=\"-14.3\" font-family=\"Helvetica,sans-Serif\" font-size=\"14.00\">(...)</text>\n",
       "</g>\n",
       "<!-- 9919&#45;&gt;10089 -->\n",
       "<g id=\"edge15\" class=\"edge\">\n",
       "<title>9919&#45;&gt;10089</title>\n",
       "<path fill=\"none\" stroke=\"black\" d=\"M1399.32,-72C1402.96,-63.28 1406.86,-53.98 1410.34,-45.65\"/>\n",
       "<polygon fill=\"black\" stroke=\"black\" points=\"1413.58,-46.98 1414.21,-36.4 1407.12,-44.28 1413.58,-46.98\"/>\n",
       "</g>\n",
       "<!-- 10223 -->\n",
       "<g id=\"node18\" class=\"node\">\n",
       "<title>10223</title>\n",
       "<polygon fill=\"#ffffff\" stroke=\"black\" points=\"2163.5,-244 1787.5,-244 1787.5,-176 2163.5,-176 2163.5,-244\"/>\n",
       "<text text-anchor=\"middle\" x=\"1975.5\" y=\"-228.8\" font-family=\"Helvetica,sans-Serif\" font-size=\"14.00\">tempo &lt;= 140.017</text>\n",
       "<text text-anchor=\"middle\" x=\"1975.5\" y=\"-213.8\" font-family=\"Helvetica,sans-Serif\" font-size=\"14.00\">samples = 37.9%</text>\n",
       "<text text-anchor=\"middle\" x=\"1975.5\" y=\"-198.8\" font-family=\"Helvetica,sans-Serif\" font-size=\"14.00\">value = [0.044, 0.04, 0.011, 0.005, 0.005, 0.005, 0.04, 0.028</text>\n",
       "<text text-anchor=\"middle\" x=\"1975.5\" y=\"-183.8\" font-family=\"Helvetica,sans-Serif\" font-size=\"14.00\">0.0, 0.157, 0.156, 0.113, 0.089, 0.151, 0.156]</text>\n",
       "</g>\n",
       "<!-- 10222&#45;&gt;10223 -->\n",
       "<g id=\"edge17\" class=\"edge\">\n",
       "<title>10222&#45;&gt;10223</title>\n",
       "<path fill=\"none\" stroke=\"black\" d=\"M1975.5,-279.88C1975.5,-271.78 1975.5,-262.98 1975.5,-254.47\"/>\n",
       "<polygon fill=\"black\" stroke=\"black\" points=\"1979,-254.3 1975.5,-244.3 1972,-254.3 1979,-254.3\"/>\n",
       "</g>\n",
       "<!-- 13952 -->\n",
       "<g id=\"node25\" class=\"node\">\n",
       "<title>13952</title>\n",
       "<polygon fill=\"#8fb4f0\" stroke=\"black\" points=\"2777,-244 2386,-244 2386,-176 2777,-176 2777,-244\"/>\n",
       "<text text-anchor=\"middle\" x=\"2581.5\" y=\"-228.8\" font-family=\"Helvetica,sans-Serif\" font-size=\"14.00\">instrumentalness &lt;= 0.0</text>\n",
       "<text text-anchor=\"middle\" x=\"2581.5\" y=\"-213.8\" font-family=\"Helvetica,sans-Serif\" font-size=\"14.00\">samples = 8.3%</text>\n",
       "<text text-anchor=\"middle\" x=\"2581.5\" y=\"-198.8\" font-family=\"Helvetica,sans-Serif\" font-size=\"14.00\">value = [0.044, 0.081, 0.095, 0.008, 0.005, 0.027, 0.054, 0.079</text>\n",
       "<text text-anchor=\"middle\" x=\"2581.5\" y=\"-183.8\" font-family=\"Helvetica,sans-Serif\" font-size=\"14.00\">0.608, 0.0, 0.0, 0.0, 0.0, 0.0, 0.0]</text>\n",
       "</g>\n",
       "<!-- 10222&#45;&gt;13952 -->\n",
       "<g id=\"edge24\" class=\"edge\">\n",
       "<title>10222&#45;&gt;13952</title>\n",
       "<path fill=\"none\" stroke=\"black\" d=\"M2171.41,-280.02C2236.7,-269.03 2309.61,-256.76 2375.63,-245.65\"/>\n",
       "<polygon fill=\"black\" stroke=\"black\" points=\"2376.46,-249.06 2385.74,-243.95 2375.3,-242.16 2376.46,-249.06\"/>\n",
       "</g>\n",
       "<!-- 10224 -->\n",
       "<g id=\"node19\" class=\"node\">\n",
       "<title>10224</title>\n",
       "<polygon fill=\"#fdedf3\" stroke=\"black\" points=\"1967,-140 1584,-140 1584,-72 1967,-72 1967,-140\"/>\n",
       "<text text-anchor=\"middle\" x=\"1775.5\" y=\"-124.8\" font-family=\"Helvetica,sans-Serif\" font-size=\"14.00\">tempo &lt;= 127.044</text>\n",
       "<text text-anchor=\"middle\" x=\"1775.5\" y=\"-109.8\" font-family=\"Helvetica,sans-Serif\" font-size=\"14.00\">samples = 18.8%</text>\n",
       "<text text-anchor=\"middle\" x=\"1775.5\" y=\"-94.8\" font-family=\"Helvetica,sans-Serif\" font-size=\"14.00\">value = [0.05, 0.038, 0.011, 0.006, 0.008, 0.006, 0.039, 0.026</text>\n",
       "<text text-anchor=\"middle\" x=\"1775.5\" y=\"-79.8\" font-family=\"Helvetica,sans-Serif\" font-size=\"14.00\">0.0, 0.0, 0.086, 0.229, 0.178, 0.298, 0.025]</text>\n",
       "</g>\n",
       "<!-- 10223&#45;&gt;10224 -->\n",
       "<g id=\"edge18\" class=\"edge\">\n",
       "<title>10223&#45;&gt;10224</title>\n",
       "<path fill=\"none\" stroke=\"black\" d=\"M1910.57,-175.88C1891.08,-165.95 1869.56,-154.97 1849.53,-144.76\"/>\n",
       "<polygon fill=\"black\" stroke=\"black\" points=\"1850.95,-141.55 1840.45,-140.12 1847.77,-147.79 1850.95,-141.55\"/>\n",
       "</g>\n",
       "<!-- 12199 -->\n",
       "<g id=\"node22\" class=\"node\">\n",
       "<title>12199</title>\n",
       "<polygon fill=\"#f8f8fe\" stroke=\"black\" points=\"2368,-140 1985,-140 1985,-72 2368,-72 2368,-140\"/>\n",
       "<text text-anchor=\"middle\" x=\"2176.5\" y=\"-124.8\" font-family=\"Helvetica,sans-Serif\" font-size=\"14.00\">instrumentalness &lt;= 0.635</text>\n",
       "<text text-anchor=\"middle\" x=\"2176.5\" y=\"-109.8\" font-family=\"Helvetica,sans-Serif\" font-size=\"14.00\">samples = 19.1%</text>\n",
       "<text text-anchor=\"middle\" x=\"2176.5\" y=\"-94.8\" font-family=\"Helvetica,sans-Serif\" font-size=\"14.00\">value = [0.038, 0.041, 0.011, 0.003, 0.002, 0.005, 0.041, 0.03</text>\n",
       "<text text-anchor=\"middle\" x=\"2176.5\" y=\"-79.8\" font-family=\"Helvetica,sans-Serif\" font-size=\"14.00\">0.0, 0.311, 0.225, 0.0, 0.002, 0.007, 0.284]</text>\n",
       "</g>\n",
       "<!-- 10223&#45;&gt;12199 -->\n",
       "<g id=\"edge21\" class=\"edge\">\n",
       "<title>10223&#45;&gt;12199</title>\n",
       "<path fill=\"none\" stroke=\"black\" d=\"M2040.76,-175.88C2060.34,-165.95 2081.97,-154.97 2102.1,-144.76\"/>\n",
       "<polygon fill=\"black\" stroke=\"black\" points=\"2103.89,-147.77 2111.22,-140.12 2100.72,-141.53 2103.89,-147.77\"/>\n",
       "</g>\n",
       "<!-- 10225 -->\n",
       "<g id=\"node20\" class=\"node\">\n",
       "<title>10225</title>\n",
       "<polygon fill=\"#c0c0c0\" stroke=\"black\" points=\"1766.5,-36 1712.5,-36 1712.5,0 1766.5,0 1766.5,-36\"/>\n",
       "<text text-anchor=\"middle\" x=\"1739.5\" y=\"-14.3\" font-family=\"Helvetica,sans-Serif\" font-size=\"14.00\">(...)</text>\n",
       "</g>\n",
       "<!-- 10224&#45;&gt;10225 -->\n",
       "<g id=\"edge19\" class=\"edge\">\n",
       "<title>10224&#45;&gt;10225</title>\n",
       "<path fill=\"none\" stroke=\"black\" d=\"M1761.68,-72C1758.04,-63.28 1754.14,-53.98 1750.66,-45.65\"/>\n",
       "<polygon fill=\"black\" stroke=\"black\" points=\"1753.88,-44.28 1746.79,-36.4 1747.42,-46.98 1753.88,-44.28\"/>\n",
       "</g>\n",
       "<!-- 10942 -->\n",
       "<g id=\"node21\" class=\"node\">\n",
       "<title>10942</title>\n",
       "<polygon fill=\"#c0c0c0\" stroke=\"black\" points=\"1838.5,-36 1784.5,-36 1784.5,0 1838.5,0 1838.5,-36\"/>\n",
       "<text text-anchor=\"middle\" x=\"1811.5\" y=\"-14.3\" font-family=\"Helvetica,sans-Serif\" font-size=\"14.00\">(...)</text>\n",
       "</g>\n",
       "<!-- 10224&#45;&gt;10942 -->\n",
       "<g id=\"edge20\" class=\"edge\">\n",
       "<title>10224&#45;&gt;10942</title>\n",
       "<path fill=\"none\" stroke=\"black\" d=\"M1789.32,-72C1792.96,-63.28 1796.86,-53.98 1800.34,-45.65\"/>\n",
       "<polygon fill=\"black\" stroke=\"black\" points=\"1803.58,-46.98 1804.21,-36.4 1797.12,-44.28 1803.58,-46.98\"/>\n",
       "</g>\n",
       "<!-- 12200 -->\n",
       "<g id=\"node23\" class=\"node\">\n",
       "<title>12200</title>\n",
       "<polygon fill=\"#c0c0c0\" stroke=\"black\" points=\"2167.5,-36 2113.5,-36 2113.5,0 2167.5,0 2167.5,-36\"/>\n",
       "<text text-anchor=\"middle\" x=\"2140.5\" y=\"-14.3\" font-family=\"Helvetica,sans-Serif\" font-size=\"14.00\">(...)</text>\n",
       "</g>\n",
       "<!-- 12199&#45;&gt;12200 -->\n",
       "<g id=\"edge22\" class=\"edge\">\n",
       "<title>12199&#45;&gt;12200</title>\n",
       "<path fill=\"none\" stroke=\"black\" d=\"M2162.68,-72C2159.04,-63.28 2155.14,-53.98 2151.66,-45.65\"/>\n",
       "<polygon fill=\"black\" stroke=\"black\" points=\"2154.88,-44.28 2147.79,-36.4 2148.42,-46.98 2154.88,-44.28\"/>\n",
       "</g>\n",
       "<!-- 13657 -->\n",
       "<g id=\"node24\" class=\"node\">\n",
       "<title>13657</title>\n",
       "<polygon fill=\"#c0c0c0\" stroke=\"black\" points=\"2239.5,-36 2185.5,-36 2185.5,0 2239.5,0 2239.5,-36\"/>\n",
       "<text text-anchor=\"middle\" x=\"2212.5\" y=\"-14.3\" font-family=\"Helvetica,sans-Serif\" font-size=\"14.00\">(...)</text>\n",
       "</g>\n",
       "<!-- 12199&#45;&gt;13657 -->\n",
       "<g id=\"edge23\" class=\"edge\">\n",
       "<title>12199&#45;&gt;13657</title>\n",
       "<path fill=\"none\" stroke=\"black\" d=\"M2190.32,-72C2193.96,-63.28 2197.86,-53.98 2201.34,-45.65\"/>\n",
       "<polygon fill=\"black\" stroke=\"black\" points=\"2204.58,-46.98 2205.21,-36.4 2198.12,-44.28 2204.58,-46.98\"/>\n",
       "</g>\n",
       "<!-- 13953 -->\n",
       "<g id=\"node26\" class=\"node\">\n",
       "<title>13953</title>\n",
       "<polygon fill=\"#fafdf0\" stroke=\"black\" points=\"2777,-140 2386,-140 2386,-72 2777,-72 2777,-140\"/>\n",
       "<text text-anchor=\"middle\" x=\"2581.5\" y=\"-124.8\" font-family=\"Helvetica,sans-Serif\" font-size=\"14.00\">acousticness &lt;= 0.009</text>\n",
       "<text text-anchor=\"middle\" x=\"2581.5\" y=\"-109.8\" font-family=\"Helvetica,sans-Serif\" font-size=\"14.00\">samples = 2.8%</text>\n",
       "<text text-anchor=\"middle\" x=\"2581.5\" y=\"-94.8\" font-family=\"Helvetica,sans-Serif\" font-size=\"14.00\">value = [0.046, 0.191, 0.253, 0.024, 0.014, 0.076, 0.093, 0.193</text>\n",
       "<text text-anchor=\"middle\" x=\"2581.5\" y=\"-79.8\" font-family=\"Helvetica,sans-Serif\" font-size=\"14.00\">0.108, 0.0, 0.0, 0.0, 0.0, 0.0, 0.0]</text>\n",
       "</g>\n",
       "<!-- 13952&#45;&gt;13953 -->\n",
       "<g id=\"edge25\" class=\"edge\">\n",
       "<title>13952&#45;&gt;13953</title>\n",
       "<path fill=\"none\" stroke=\"black\" d=\"M2581.5,-175.88C2581.5,-167.78 2581.5,-158.98 2581.5,-150.47\"/>\n",
       "<polygon fill=\"black\" stroke=\"black\" points=\"2585,-150.3 2581.5,-140.3 2578,-150.3 2585,-150.3\"/>\n",
       "</g>\n",
       "<!-- 14468 -->\n",
       "<g id=\"node29\" class=\"node\">\n",
       "<title>14468</title>\n",
       "<polygon fill=\"#568ee9\" stroke=\"black\" points=\"3156,-140 2795,-140 2795,-72 3156,-72 3156,-140\"/>\n",
       "<text text-anchor=\"middle\" x=\"2975.5\" y=\"-124.8\" font-family=\"Helvetica,sans-Serif\" font-size=\"14.00\">acousticness &lt;= 0.028</text>\n",
       "<text text-anchor=\"middle\" x=\"2975.5\" y=\"-109.8\" font-family=\"Helvetica,sans-Serif\" font-size=\"14.00\">samples = 5.5%</text>\n",
       "<text text-anchor=\"middle\" x=\"2975.5\" y=\"-94.8\" font-family=\"Helvetica,sans-Serif\" font-size=\"14.00\">value = [0.043, 0.025, 0.015, 0.0, 0.0, 0.002, 0.034, 0.021</text>\n",
       "<text text-anchor=\"middle\" x=\"2975.5\" y=\"-79.8\" font-family=\"Helvetica,sans-Serif\" font-size=\"14.00\">0.861, 0.0, 0.0, 0.0, 0.0, 0.0, 0.0]</text>\n",
       "</g>\n",
       "<!-- 13952&#45;&gt;14468 -->\n",
       "<g id=\"edge28\" class=\"edge\">\n",
       "<title>13952&#45;&gt;14468</title>\n",
       "<path fill=\"none\" stroke=\"black\" d=\"M2709.15,-175.95C2750.33,-165.29 2796.15,-153.43 2838.01,-142.59\"/>\n",
       "<polygon fill=\"black\" stroke=\"black\" points=\"2838.91,-145.98 2847.72,-140.08 2837.16,-139.2 2838.91,-145.98\"/>\n",
       "</g>\n",
       "<!-- 13954 -->\n",
       "<g id=\"node27\" class=\"node\">\n",
       "<title>13954</title>\n",
       "<polygon fill=\"#c0c0c0\" stroke=\"black\" points=\"2572.5,-36 2518.5,-36 2518.5,0 2572.5,0 2572.5,-36\"/>\n",
       "<text text-anchor=\"middle\" x=\"2545.5\" y=\"-14.3\" font-family=\"Helvetica,sans-Serif\" font-size=\"14.00\">(...)</text>\n",
       "</g>\n",
       "<!-- 13953&#45;&gt;13954 -->\n",
       "<g id=\"edge26\" class=\"edge\">\n",
       "<title>13953&#45;&gt;13954</title>\n",
       "<path fill=\"none\" stroke=\"black\" d=\"M2567.68,-72C2564.04,-63.28 2560.14,-53.98 2556.66,-45.65\"/>\n",
       "<polygon fill=\"black\" stroke=\"black\" points=\"2559.88,-44.28 2552.79,-36.4 2553.42,-46.98 2559.88,-44.28\"/>\n",
       "</g>\n",
       "<!-- 14073 -->\n",
       "<g id=\"node28\" class=\"node\">\n",
       "<title>14073</title>\n",
       "<polygon fill=\"#c0c0c0\" stroke=\"black\" points=\"2644.5,-36 2590.5,-36 2590.5,0 2644.5,0 2644.5,-36\"/>\n",
       "<text text-anchor=\"middle\" x=\"2617.5\" y=\"-14.3\" font-family=\"Helvetica,sans-Serif\" font-size=\"14.00\">(...)</text>\n",
       "</g>\n",
       "<!-- 13953&#45;&gt;14073 -->\n",
       "<g id=\"edge27\" class=\"edge\">\n",
       "<title>13953&#45;&gt;14073</title>\n",
       "<path fill=\"none\" stroke=\"black\" d=\"M2595.32,-72C2598.96,-63.28 2602.86,-53.98 2606.34,-45.65\"/>\n",
       "<polygon fill=\"black\" stroke=\"black\" points=\"2609.58,-46.98 2610.21,-36.4 2603.12,-44.28 2609.58,-46.98\"/>\n",
       "</g>\n",
       "<!-- 14469 -->\n",
       "<g id=\"node30\" class=\"node\">\n",
       "<title>14469</title>\n",
       "<polygon fill=\"#c0c0c0\" stroke=\"black\" points=\"2966.5,-36 2912.5,-36 2912.5,0 2966.5,0 2966.5,-36\"/>\n",
       "<text text-anchor=\"middle\" x=\"2939.5\" y=\"-14.3\" font-family=\"Helvetica,sans-Serif\" font-size=\"14.00\">(...)</text>\n",
       "</g>\n",
       "<!-- 14468&#45;&gt;14469 -->\n",
       "<g id=\"edge29\" class=\"edge\">\n",
       "<title>14468&#45;&gt;14469</title>\n",
       "<path fill=\"none\" stroke=\"black\" d=\"M2961.68,-72C2958.04,-63.28 2954.14,-53.98 2950.66,-45.65\"/>\n",
       "<polygon fill=\"black\" stroke=\"black\" points=\"2953.88,-44.28 2946.79,-36.4 2947.42,-46.98 2953.88,-44.28\"/>\n",
       "</g>\n",
       "<!-- 14616 -->\n",
       "<g id=\"node31\" class=\"node\">\n",
       "<title>14616</title>\n",
       "<polygon fill=\"#c0c0c0\" stroke=\"black\" points=\"3038.5,-36 2984.5,-36 2984.5,0 3038.5,0 3038.5,-36\"/>\n",
       "<text text-anchor=\"middle\" x=\"3011.5\" y=\"-14.3\" font-family=\"Helvetica,sans-Serif\" font-size=\"14.00\">(...)</text>\n",
       "</g>\n",
       "<!-- 14468&#45;&gt;14616 -->\n",
       "<g id=\"edge30\" class=\"edge\">\n",
       "<title>14468&#45;&gt;14616</title>\n",
       "<path fill=\"none\" stroke=\"black\" d=\"M2989.32,-72C2992.96,-63.28 2996.86,-53.98 3000.34,-45.65\"/>\n",
       "<polygon fill=\"black\" stroke=\"black\" points=\"3003.58,-46.98 3004.21,-36.4 2997.12,-44.28 3003.58,-46.98\"/>\n",
       "</g>\n",
       "</g>\n",
       "</svg>\n"
      ],
      "text/plain": [
       "<graphviz.sources.Source at 0x7f33a79d3310>"
      ]
     },
     "metadata": {},
     "output_type": "display_data"
    }
   ],
   "source": [
    "for i in range(3):\n",
    "    tree = classifier.estimators_[i]\n",
    "    dot_data = export_graphviz(tree,\n",
    "                               feature_names=train_features.columns,\n",
    "                               filled=True,\n",
    "                               max_depth=3,\n",
    "                               impurity=False,\n",
    "                               proportion=True)\n",
    "    graph = graphviz.Source(dot_data)\n",
    "    display(graph)"
   ]
  },
  {
   "cell_type": "markdown",
   "metadata": {
    "id": "6IWuAFH_4bBQ"
   },
   "source": [
    "##Checking the performance of the model"
   ]
  },
  {
   "cell_type": "code",
   "execution_count": null,
   "metadata": {
    "colab": {
     "base_uri": "https://localhost:8080/"
    },
    "id": "wzaQmCO-LI0T",
    "outputId": "41870292-1507-4b86-a141-a129dbccd90b"
   },
   "outputs": [
    {
     "data": {
      "text/plain": [
       "0.9420679325740707"
      ]
     },
     "execution_count": 20,
     "metadata": {},
     "output_type": "execute_result"
    }
   ],
   "source": [
    "predict_trained = classifier.predict(train_features)\n",
    "f1_score(train_label, predict_trained, average='macro')"
   ]
  },
  {
   "cell_type": "code",
   "execution_count": null,
   "metadata": {
    "colab": {
     "base_uri": "https://localhost:8080/",
     "height": 424
    },
    "id": "gE-D5dzVTUx4",
    "outputId": "c470f322-8180-4b44-8465-bc023e85319a"
   },
   "outputs": [
    {
     "data": {
      "text/html": [
       "\n",
       "  <div id=\"df-4b93d15b-dcb6-488d-928d-00d1e3d5fe54\">\n",
       "    <div class=\"colab-df-container\">\n",
       "      <div>\n",
       "<style scoped>\n",
       "    .dataframe tbody tr th:only-of-type {\n",
       "        vertical-align: middle;\n",
       "    }\n",
       "\n",
       "    .dataframe tbody tr th {\n",
       "        vertical-align: top;\n",
       "    }\n",
       "\n",
       "    .dataframe thead th {\n",
       "        text-align: right;\n",
       "    }\n",
       "</style>\n",
       "<table border=\"1\" class=\"dataframe\">\n",
       "  <thead>\n",
       "    <tr style=\"text-align: right;\">\n",
       "      <th></th>\n",
       "      <th>danceability</th>\n",
       "      <th>energy</th>\n",
       "      <th>key</th>\n",
       "      <th>loudness</th>\n",
       "      <th>mode</th>\n",
       "      <th>speechiness</th>\n",
       "      <th>acousticness</th>\n",
       "      <th>instrumentalness</th>\n",
       "      <th>liveness</th>\n",
       "      <th>valence</th>\n",
       "      <th>tempo</th>\n",
       "      <th>duration_ms</th>\n",
       "    </tr>\n",
       "  </thead>\n",
       "  <tbody>\n",
       "    <tr>\n",
       "      <th>23175</th>\n",
       "      <td>0.627</td>\n",
       "      <td>0.948</td>\n",
       "      <td>7</td>\n",
       "      <td>-4.478</td>\n",
       "      <td>1</td>\n",
       "      <td>0.0428</td>\n",
       "      <td>0.003540</td>\n",
       "      <td>0.55100</td>\n",
       "      <td>0.0599</td>\n",
       "      <td>0.5690</td>\n",
       "      <td>125.048</td>\n",
       "      <td>190080</td>\n",
       "    </tr>\n",
       "    <tr>\n",
       "      <th>23228</th>\n",
       "      <td>0.771</td>\n",
       "      <td>0.957</td>\n",
       "      <td>10</td>\n",
       "      <td>-5.545</td>\n",
       "      <td>0</td>\n",
       "      <td>0.0548</td>\n",
       "      <td>0.000037</td>\n",
       "      <td>0.94800</td>\n",
       "      <td>0.0807</td>\n",
       "      <td>0.4320</td>\n",
       "      <td>128.008</td>\n",
       "      <td>391848</td>\n",
       "    </tr>\n",
       "    <tr>\n",
       "      <th>30548</th>\n",
       "      <td>0.636</td>\n",
       "      <td>0.814</td>\n",
       "      <td>11</td>\n",
       "      <td>-7.327</td>\n",
       "      <td>1</td>\n",
       "      <td>0.1190</td>\n",
       "      <td>0.001350</td>\n",
       "      <td>0.87200</td>\n",
       "      <td>0.3360</td>\n",
       "      <td>0.0363</td>\n",
       "      <td>136.975</td>\n",
       "      <td>469489</td>\n",
       "    </tr>\n",
       "    <tr>\n",
       "      <th>40464</th>\n",
       "      <td>0.448</td>\n",
       "      <td>0.912</td>\n",
       "      <td>11</td>\n",
       "      <td>-3.688</td>\n",
       "      <td>0</td>\n",
       "      <td>0.0464</td>\n",
       "      <td>0.000236</td>\n",
       "      <td>0.00122</td>\n",
       "      <td>0.3590</td>\n",
       "      <td>0.2680</td>\n",
       "      <td>149.997</td>\n",
       "      <td>195750</td>\n",
       "    </tr>\n",
       "    <tr>\n",
       "      <th>41031</th>\n",
       "      <td>0.423</td>\n",
       "      <td>0.857</td>\n",
       "      <td>6</td>\n",
       "      <td>-5.533</td>\n",
       "      <td>0</td>\n",
       "      <td>0.0560</td>\n",
       "      <td>0.021200</td>\n",
       "      <td>0.00177</td>\n",
       "      <td>0.1300</td>\n",
       "      <td>0.2080</td>\n",
       "      <td>149.983</td>\n",
       "      <td>234862</td>\n",
       "    </tr>\n",
       "    <tr>\n",
       "      <th>...</th>\n",
       "      <td>...</td>\n",
       "      <td>...</td>\n",
       "      <td>...</td>\n",
       "      <td>...</td>\n",
       "      <td>...</td>\n",
       "      <td>...</td>\n",
       "      <td>...</td>\n",
       "      <td>...</td>\n",
       "      <td>...</td>\n",
       "      <td>...</td>\n",
       "      <td>...</td>\n",
       "      <td>...</td>\n",
       "    </tr>\n",
       "    <tr>\n",
       "      <th>19808</th>\n",
       "      <td>0.736</td>\n",
       "      <td>0.835</td>\n",
       "      <td>8</td>\n",
       "      <td>-1.296</td>\n",
       "      <td>1</td>\n",
       "      <td>0.0604</td>\n",
       "      <td>0.009220</td>\n",
       "      <td>0.00000</td>\n",
       "      <td>0.1410</td>\n",
       "      <td>0.1440</td>\n",
       "      <td>145.994</td>\n",
       "      <td>147962</td>\n",
       "    </tr>\n",
       "    <tr>\n",
       "      <th>27030</th>\n",
       "      <td>0.890</td>\n",
       "      <td>0.787</td>\n",
       "      <td>7</td>\n",
       "      <td>-7.684</td>\n",
       "      <td>1</td>\n",
       "      <td>0.1080</td>\n",
       "      <td>0.000065</td>\n",
       "      <td>0.82600</td>\n",
       "      <td>0.1070</td>\n",
       "      <td>0.4330</td>\n",
       "      <td>124.996</td>\n",
       "      <td>439355</td>\n",
       "    </tr>\n",
       "    <tr>\n",
       "      <th>14163</th>\n",
       "      <td>0.647</td>\n",
       "      <td>0.706</td>\n",
       "      <td>6</td>\n",
       "      <td>-6.023</td>\n",
       "      <td>0</td>\n",
       "      <td>0.1370</td>\n",
       "      <td>0.264000</td>\n",
       "      <td>0.00000</td>\n",
       "      <td>0.1140</td>\n",
       "      <td>0.5770</td>\n",
       "      <td>153.973</td>\n",
       "      <td>182338</td>\n",
       "    </tr>\n",
       "    <tr>\n",
       "      <th>20998</th>\n",
       "      <td>0.823</td>\n",
       "      <td>0.733</td>\n",
       "      <td>1</td>\n",
       "      <td>-5.474</td>\n",
       "      <td>1</td>\n",
       "      <td>0.0628</td>\n",
       "      <td>0.034900</td>\n",
       "      <td>0.00000</td>\n",
       "      <td>0.3240</td>\n",
       "      <td>0.3970</td>\n",
       "      <td>195.944</td>\n",
       "      <td>284387</td>\n",
       "    </tr>\n",
       "    <tr>\n",
       "      <th>2316</th>\n",
       "      <td>0.858</td>\n",
       "      <td>0.602</td>\n",
       "      <td>1</td>\n",
       "      <td>-9.894</td>\n",
       "      <td>1</td>\n",
       "      <td>0.0642</td>\n",
       "      <td>0.166000</td>\n",
       "      <td>0.04580</td>\n",
       "      <td>0.1210</td>\n",
       "      <td>0.2520</td>\n",
       "      <td>121.988</td>\n",
       "      <td>95138</td>\n",
       "    </tr>\n",
       "  </tbody>\n",
       "</table>\n",
       "<p>8461 rows × 12 columns</p>\n",
       "</div>\n",
       "      <button class=\"colab-df-convert\" onclick=\"convertToInteractive('df-4b93d15b-dcb6-488d-928d-00d1e3d5fe54')\"\n",
       "              title=\"Convert this dataframe to an interactive table.\"\n",
       "              style=\"display:none;\">\n",
       "        \n",
       "  <svg xmlns=\"http://www.w3.org/2000/svg\" height=\"24px\"viewBox=\"0 0 24 24\"\n",
       "       width=\"24px\">\n",
       "    <path d=\"M0 0h24v24H0V0z\" fill=\"none\"/>\n",
       "    <path d=\"M18.56 5.44l.94 2.06.94-2.06 2.06-.94-2.06-.94-.94-2.06-.94 2.06-2.06.94zm-11 1L8.5 8.5l.94-2.06 2.06-.94-2.06-.94L8.5 2.5l-.94 2.06-2.06.94zm10 10l.94 2.06.94-2.06 2.06-.94-2.06-.94-.94-2.06-.94 2.06-2.06.94z\"/><path d=\"M17.41 7.96l-1.37-1.37c-.4-.4-.92-.59-1.43-.59-.52 0-1.04.2-1.43.59L10.3 9.45l-7.72 7.72c-.78.78-.78 2.05 0 2.83L4 21.41c.39.39.9.59 1.41.59.51 0 1.02-.2 1.41-.59l7.78-7.78 2.81-2.81c.8-.78.8-2.07 0-2.86zM5.41 20L4 18.59l7.72-7.72 1.47 1.35L5.41 20z\"/>\n",
       "  </svg>\n",
       "      </button>\n",
       "      \n",
       "  <style>\n",
       "    .colab-df-container {\n",
       "      display:flex;\n",
       "      flex-wrap:wrap;\n",
       "      gap: 12px;\n",
       "    }\n",
       "\n",
       "    .colab-df-convert {\n",
       "      background-color: #E8F0FE;\n",
       "      border: none;\n",
       "      border-radius: 50%;\n",
       "      cursor: pointer;\n",
       "      display: none;\n",
       "      fill: #1967D2;\n",
       "      height: 32px;\n",
       "      padding: 0 0 0 0;\n",
       "      width: 32px;\n",
       "    }\n",
       "\n",
       "    .colab-df-convert:hover {\n",
       "      background-color: #E2EBFA;\n",
       "      box-shadow: 0px 1px 2px rgba(60, 64, 67, 0.3), 0px 1px 3px 1px rgba(60, 64, 67, 0.15);\n",
       "      fill: #174EA6;\n",
       "    }\n",
       "\n",
       "    [theme=dark] .colab-df-convert {\n",
       "      background-color: #3B4455;\n",
       "      fill: #D2E3FC;\n",
       "    }\n",
       "\n",
       "    [theme=dark] .colab-df-convert:hover {\n",
       "      background-color: #434B5C;\n",
       "      box-shadow: 0px 1px 3px 1px rgba(0, 0, 0, 0.15);\n",
       "      filter: drop-shadow(0px 1px 2px rgba(0, 0, 0, 0.3));\n",
       "      fill: #FFFFFF;\n",
       "    }\n",
       "  </style>\n",
       "\n",
       "      <script>\n",
       "        const buttonEl =\n",
       "          document.querySelector('#df-4b93d15b-dcb6-488d-928d-00d1e3d5fe54 button.colab-df-convert');\n",
       "        buttonEl.style.display =\n",
       "          google.colab.kernel.accessAllowed ? 'block' : 'none';\n",
       "\n",
       "        async function convertToInteractive(key) {\n",
       "          const element = document.querySelector('#df-4b93d15b-dcb6-488d-928d-00d1e3d5fe54');\n",
       "          const dataTable =\n",
       "            await google.colab.kernel.invokeFunction('convertToInteractive',\n",
       "                                                     [key], {});\n",
       "          if (!dataTable) return;\n",
       "\n",
       "          const docLinkHtml = 'Like what you see? Visit the ' +\n",
       "            '<a target=\"_blank\" href=https://colab.research.google.com/notebooks/data_table.ipynb>data table notebook</a>'\n",
       "            + ' to learn more about interactive tables.';\n",
       "          element.innerHTML = '';\n",
       "          dataTable['output_type'] = 'display_data';\n",
       "          await google.colab.output.renderOutput(dataTable, element);\n",
       "          const docLink = document.createElement('div');\n",
       "          docLink.innerHTML = docLinkHtml;\n",
       "          element.appendChild(docLink);\n",
       "        }\n",
       "      </script>\n",
       "    </div>\n",
       "  </div>\n",
       "  "
      ],
      "text/plain": [
       "       danceability  energy  key  loudness  mode  speechiness  acousticness  \\\n",
       "23175         0.627   0.948    7    -4.478     1       0.0428      0.003540   \n",
       "23228         0.771   0.957   10    -5.545     0       0.0548      0.000037   \n",
       "30548         0.636   0.814   11    -7.327     1       0.1190      0.001350   \n",
       "40464         0.448   0.912   11    -3.688     0       0.0464      0.000236   \n",
       "41031         0.423   0.857    6    -5.533     0       0.0560      0.021200   \n",
       "...             ...     ...  ...       ...   ...          ...           ...   \n",
       "19808         0.736   0.835    8    -1.296     1       0.0604      0.009220   \n",
       "27030         0.890   0.787    7    -7.684     1       0.1080      0.000065   \n",
       "14163         0.647   0.706    6    -6.023     0       0.1370      0.264000   \n",
       "20998         0.823   0.733    1    -5.474     1       0.0628      0.034900   \n",
       "2316          0.858   0.602    1    -9.894     1       0.0642      0.166000   \n",
       "\n",
       "       instrumentalness  liveness  valence    tempo  duration_ms  \n",
       "23175           0.55100    0.0599   0.5690  125.048       190080  \n",
       "23228           0.94800    0.0807   0.4320  128.008       391848  \n",
       "30548           0.87200    0.3360   0.0363  136.975       469489  \n",
       "40464           0.00122    0.3590   0.2680  149.997       195750  \n",
       "41031           0.00177    0.1300   0.2080  149.983       234862  \n",
       "...                 ...       ...      ...      ...          ...  \n",
       "19808           0.00000    0.1410   0.1440  145.994       147962  \n",
       "27030           0.82600    0.1070   0.4330  124.996       439355  \n",
       "14163           0.00000    0.1140   0.5770  153.973       182338  \n",
       "20998           0.00000    0.3240   0.3970  195.944       284387  \n",
       "2316            0.04580    0.1210   0.2520  121.988        95138  \n",
       "\n",
       "[8461 rows x 12 columns]"
      ]
     },
     "execution_count": 28,
     "metadata": {},
     "output_type": "execute_result"
    }
   ],
   "source": [
    "X_test"
   ]
  },
  {
   "cell_type": "code",
   "execution_count": null,
   "metadata": {
    "colab": {
     "base_uri": "https://localhost:8080/"
    },
    "id": "8126K7oLOI_J",
    "outputId": "190dbef8-c6a6-423b-b293-ae4e9139c88f"
   },
   "outputs": [
    {
     "data": {
      "text/plain": [
       "0.6301277428291419"
      ]
     },
     "execution_count": 13,
     "metadata": {},
     "output_type": "execute_result"
    }
   ],
   "source": [
    "pred_norm_trained = norm_clf.predict(X_test_norm)\n",
    "f1_score(y_test,pred_norm_trained, average='macro')"
   ]
  },
  {
   "cell_type": "code",
   "execution_count": null,
   "metadata": {
    "id": "5npQNP0aMgk7"
   },
   "outputs": [],
   "source": [
    "test_feature = genre_testds[['danceability', 'energy', 'key', 'loudness', 'mode', 'speechiness', 'acousticness', 'instrumentalness', 'liveness', 'valence', 'tempo', 'duration_ms']]\n",
    "test_label = genre_testds['genre']\n",
    "predict_test = classifier.predict(test_feature)"
   ]
  },
  {
   "cell_type": "code",
   "execution_count": null,
   "metadata": {
    "colab": {
     "base_uri": "https://localhost:8080/"
    },
    "id": "zwF-JrXvM1Up",
    "outputId": "afc3ffcd-577c-46d1-8fc6-cc6deb28f5d6"
   },
   "outputs": [
    {
     "data": {
      "text/plain": [
       "0.6264195082021928"
      ]
     },
     "execution_count": 22,
     "metadata": {},
     "output_type": "execute_result"
    }
   ],
   "source": [
    "f1_score(test_label, predict_test, average='macro')"
   ]
  },
  {
   "cell_type": "markdown",
   "metadata": {
    "id": "2aU-XUmT4kAV"
   },
   "source": [
    "#(Optional) improving the model"
   ]
  },
  {
   "cell_type": "markdown",
   "metadata": {
    "id": "V4bco0rs115-"
   },
   "source": [
    "### changing the dataset features\n",
    "\n",
    "\n",
    "*   Removing the duration as a feature\n",
    "\n",
    "*   choosing higher n_estimator\n",
    "\n",
    "*   max_depth: tried between 5 to 20\n",
    "\n"
   ]
  },
  {
   "cell_type": "code",
   "execution_count": null,
   "metadata": {
    "colab": {
     "base_uri": "https://localhost:8080/",
     "height": 75
    },
    "id": "GLvZwKPJ10dH",
    "outputId": "0ee9e6ad-39fd-4f7d-8f66-701a21b3508e"
   },
   "outputs": [
    {
     "data": {
      "text/html": [
       "<style>#sk-container-id-2 {color: black;background-color: white;}#sk-container-id-2 pre{padding: 0;}#sk-container-id-2 div.sk-toggleable {background-color: white;}#sk-container-id-2 label.sk-toggleable__label {cursor: pointer;display: block;width: 100%;margin-bottom: 0;padding: 0.3em;box-sizing: border-box;text-align: center;}#sk-container-id-2 label.sk-toggleable__label-arrow:before {content: \"▸\";float: left;margin-right: 0.25em;color: #696969;}#sk-container-id-2 label.sk-toggleable__label-arrow:hover:before {color: black;}#sk-container-id-2 div.sk-estimator:hover label.sk-toggleable__label-arrow:before {color: black;}#sk-container-id-2 div.sk-toggleable__content {max-height: 0;max-width: 0;overflow: hidden;text-align: left;background-color: #f0f8ff;}#sk-container-id-2 div.sk-toggleable__content pre {margin: 0.2em;color: black;border-radius: 0.25em;background-color: #f0f8ff;}#sk-container-id-2 input.sk-toggleable__control:checked~div.sk-toggleable__content {max-height: 200px;max-width: 100%;overflow: auto;}#sk-container-id-2 input.sk-toggleable__control:checked~label.sk-toggleable__label-arrow:before {content: \"▾\";}#sk-container-id-2 div.sk-estimator input.sk-toggleable__control:checked~label.sk-toggleable__label {background-color: #d4ebff;}#sk-container-id-2 div.sk-label input.sk-toggleable__control:checked~label.sk-toggleable__label {background-color: #d4ebff;}#sk-container-id-2 input.sk-hidden--visually {border: 0;clip: rect(1px 1px 1px 1px);clip: rect(1px, 1px, 1px, 1px);height: 1px;margin: -1px;overflow: hidden;padding: 0;position: absolute;width: 1px;}#sk-container-id-2 div.sk-estimator {font-family: monospace;background-color: #f0f8ff;border: 1px dotted black;border-radius: 0.25em;box-sizing: border-box;margin-bottom: 0.5em;}#sk-container-id-2 div.sk-estimator:hover {background-color: #d4ebff;}#sk-container-id-2 div.sk-parallel-item::after {content: \"\";width: 100%;border-bottom: 1px solid gray;flex-grow: 1;}#sk-container-id-2 div.sk-label:hover label.sk-toggleable__label {background-color: #d4ebff;}#sk-container-id-2 div.sk-serial::before {content: \"\";position: absolute;border-left: 1px solid gray;box-sizing: border-box;top: 0;bottom: 0;left: 50%;z-index: 0;}#sk-container-id-2 div.sk-serial {display: flex;flex-direction: column;align-items: center;background-color: white;padding-right: 0.2em;padding-left: 0.2em;position: relative;}#sk-container-id-2 div.sk-item {position: relative;z-index: 1;}#sk-container-id-2 div.sk-parallel {display: flex;align-items: stretch;justify-content: center;background-color: white;position: relative;}#sk-container-id-2 div.sk-item::before, #sk-container-id-2 div.sk-parallel-item::before {content: \"\";position: absolute;border-left: 1px solid gray;box-sizing: border-box;top: 0;bottom: 0;left: 50%;z-index: -1;}#sk-container-id-2 div.sk-parallel-item {display: flex;flex-direction: column;z-index: 1;position: relative;background-color: white;}#sk-container-id-2 div.sk-parallel-item:first-child::after {align-self: flex-end;width: 50%;}#sk-container-id-2 div.sk-parallel-item:last-child::after {align-self: flex-start;width: 50%;}#sk-container-id-2 div.sk-parallel-item:only-child::after {width: 0;}#sk-container-id-2 div.sk-dashed-wrapped {border: 1px dashed gray;margin: 0 0.4em 0.5em 0.4em;box-sizing: border-box;padding-bottom: 0.4em;background-color: white;}#sk-container-id-2 div.sk-label label {font-family: monospace;font-weight: bold;display: inline-block;line-height: 1.2em;}#sk-container-id-2 div.sk-label-container {text-align: center;}#sk-container-id-2 div.sk-container {/* jupyter's `normalize.less` sets `[hidden] { display: none; }` but bootstrap.min.css set `[hidden] { display: none !important; }` so we also need the `!important` here to be able to override the default hidden behavior on the sphinx rendered scikit-learn.org. See: https://github.com/scikit-learn/scikit-learn/issues/21755 */display: inline-block !important;position: relative;}#sk-container-id-2 div.sk-text-repr-fallback {display: none;}</style><div id=\"sk-container-id-2\" class=\"sk-top-container\"><div class=\"sk-text-repr-fallback\"><pre>RandomForestClassifier(max_depth=14, n_estimators=500)</pre><b>In a Jupyter environment, please rerun this cell to show the HTML representation or trust the notebook. <br />On GitHub, the HTML representation is unable to render, please try loading this page with nbviewer.org.</b></div><div class=\"sk-container\" hidden><div class=\"sk-item\"><div class=\"sk-estimator sk-toggleable\"><input class=\"sk-toggleable__control sk-hidden--visually\" id=\"sk-estimator-id-2\" type=\"checkbox\" checked><label for=\"sk-estimator-id-2\" class=\"sk-toggleable__label sk-toggleable__label-arrow\">RandomForestClassifier</label><div class=\"sk-toggleable__content\"><pre>RandomForestClassifier(max_depth=14, n_estimators=500)</pre></div></div></div></div></div>"
      ],
      "text/plain": [
       "RandomForestClassifier(max_depth=14, n_estimators=500)"
      ]
     },
     "execution_count": 24,
     "metadata": {},
     "output_type": "execute_result"
    }
   ],
   "source": [
    "classifier = RandomForestClassifier(n_estimators=500, max_depth=14)\n",
    "train_features = genre_trainds[['danceability', 'energy', 'key', 'loudness', 'mode', 'speechiness', 'acousticness', 'instrumentalness', 'liveness', 'valence', 'tempo']]\n",
    "train_label = genre_trainds['genre']\n",
    "classifier.fit(X=train_features, y=train_label)"
   ]
  },
  {
   "cell_type": "code",
   "execution_count": null,
   "metadata": {
    "colab": {
     "base_uri": "https://localhost:8080/"
    },
    "id": "Q4Vc0u0810dI",
    "outputId": "5f108109-553e-4a2e-8163-02ae47e2be78"
   },
   "outputs": [
    {
     "data": {
      "text/plain": [
       "0.8557935342035438"
      ]
     },
     "execution_count": 25,
     "metadata": {},
     "output_type": "execute_result"
    }
   ],
   "source": [
    "predict_trained = classifier.predict(train_features)\n",
    "f1_score(train_label, predict_trained, average='macro')"
   ]
  },
  {
   "cell_type": "code",
   "execution_count": null,
   "metadata": {
    "id": "PvWRLSPP10dI"
   },
   "outputs": [],
   "source": [
    "test_feature = genre_testds[['danceability', 'energy', 'key', 'loudness', 'mode', 'speechiness', 'acousticness', 'instrumentalness', 'liveness', 'valence', 'tempo']]\n",
    "test_label = genre_testds['genre']\n",
    "predict_test = classifier.predict(test_feature)"
   ]
  },
  {
   "cell_type": "code",
   "execution_count": null,
   "metadata": {
    "colab": {
     "base_uri": "https://localhost:8080/"
    },
    "id": "_S9cKO2k10dJ",
    "outputId": "28be3d15-39ec-4cbb-95a5-028ce2fa07c0"
   },
   "outputs": [
    {
     "data": {
      "text/plain": [
       "0.6009453444045808"
      ]
     },
     "execution_count": 27,
     "metadata": {},
     "output_type": "execute_result"
    }
   ],
   "source": [
    "f1_score(test_label, predict_test, average='macro')"
   ]
  },
  {
   "cell_type": "code",
   "execution_count": null,
   "metadata": {
    "colab": {
     "base_uri": "https://localhost:8080/"
    },
    "id": "Hw1WAx7D10dJ",
    "outputId": "30e29c86-8b1c-4862-9c22-13e8756bbb09"
   },
   "outputs": [
    {
     "name": "stdout",
     "output_type": "stream",
     "text": [
      "0.6534688571090888\n"
     ]
    }
   ],
   "source": [
    "accuracy = accuracy_score(test_label, predict_test)\n",
    "print(accuracy)"
   ]
  },
  {
   "cell_type": "markdown",
   "metadata": {
    "id": "sApt_l582UrW"
   },
   "source": [
    "\n",
    "*   with n=500 and max-depth=16 we got 64percent\n",
    "\n",
    "*   with n=500 and max-depth=15 we got 65percent\n",
    "\n",
    "\n"
   ]
  },
  {
   "cell_type": "markdown",
   "metadata": {
    "id": "Ipjt7b3wC9wg"
   },
   "source": [
    "###changing the dataset features 2.0\n",
    "\n",
    "\n",
    "*   Removing the mode as a feature\n",
    "\n",
    "*   using the optimized n_estimator and depth (175,13)\n",
    "\n"
   ]
  },
  {
   "cell_type": "code",
   "execution_count": null,
   "metadata": {
    "colab": {
     "base_uri": "https://localhost:8080/",
     "height": 75
    },
    "id": "BF4kEu2GC9wp",
    "outputId": "703a9f2d-1d85-4a29-8392-22f27a751704"
   },
   "outputs": [
    {
     "data": {
      "text/html": [
       "<style>#sk-container-id-17 {color: black;background-color: white;}#sk-container-id-17 pre{padding: 0;}#sk-container-id-17 div.sk-toggleable {background-color: white;}#sk-container-id-17 label.sk-toggleable__label {cursor: pointer;display: block;width: 100%;margin-bottom: 0;padding: 0.3em;box-sizing: border-box;text-align: center;}#sk-container-id-17 label.sk-toggleable__label-arrow:before {content: \"▸\";float: left;margin-right: 0.25em;color: #696969;}#sk-container-id-17 label.sk-toggleable__label-arrow:hover:before {color: black;}#sk-container-id-17 div.sk-estimator:hover label.sk-toggleable__label-arrow:before {color: black;}#sk-container-id-17 div.sk-toggleable__content {max-height: 0;max-width: 0;overflow: hidden;text-align: left;background-color: #f0f8ff;}#sk-container-id-17 div.sk-toggleable__content pre {margin: 0.2em;color: black;border-radius: 0.25em;background-color: #f0f8ff;}#sk-container-id-17 input.sk-toggleable__control:checked~div.sk-toggleable__content {max-height: 200px;max-width: 100%;overflow: auto;}#sk-container-id-17 input.sk-toggleable__control:checked~label.sk-toggleable__label-arrow:before {content: \"▾\";}#sk-container-id-17 div.sk-estimator input.sk-toggleable__control:checked~label.sk-toggleable__label {background-color: #d4ebff;}#sk-container-id-17 div.sk-label input.sk-toggleable__control:checked~label.sk-toggleable__label {background-color: #d4ebff;}#sk-container-id-17 input.sk-hidden--visually {border: 0;clip: rect(1px 1px 1px 1px);clip: rect(1px, 1px, 1px, 1px);height: 1px;margin: -1px;overflow: hidden;padding: 0;position: absolute;width: 1px;}#sk-container-id-17 div.sk-estimator {font-family: monospace;background-color: #f0f8ff;border: 1px dotted black;border-radius: 0.25em;box-sizing: border-box;margin-bottom: 0.5em;}#sk-container-id-17 div.sk-estimator:hover {background-color: #d4ebff;}#sk-container-id-17 div.sk-parallel-item::after {content: \"\";width: 100%;border-bottom: 1px solid gray;flex-grow: 1;}#sk-container-id-17 div.sk-label:hover label.sk-toggleable__label {background-color: #d4ebff;}#sk-container-id-17 div.sk-serial::before {content: \"\";position: absolute;border-left: 1px solid gray;box-sizing: border-box;top: 0;bottom: 0;left: 50%;z-index: 0;}#sk-container-id-17 div.sk-serial {display: flex;flex-direction: column;align-items: center;background-color: white;padding-right: 0.2em;padding-left: 0.2em;position: relative;}#sk-container-id-17 div.sk-item {position: relative;z-index: 1;}#sk-container-id-17 div.sk-parallel {display: flex;align-items: stretch;justify-content: center;background-color: white;position: relative;}#sk-container-id-17 div.sk-item::before, #sk-container-id-17 div.sk-parallel-item::before {content: \"\";position: absolute;border-left: 1px solid gray;box-sizing: border-box;top: 0;bottom: 0;left: 50%;z-index: -1;}#sk-container-id-17 div.sk-parallel-item {display: flex;flex-direction: column;z-index: 1;position: relative;background-color: white;}#sk-container-id-17 div.sk-parallel-item:first-child::after {align-self: flex-end;width: 50%;}#sk-container-id-17 div.sk-parallel-item:last-child::after {align-self: flex-start;width: 50%;}#sk-container-id-17 div.sk-parallel-item:only-child::after {width: 0;}#sk-container-id-17 div.sk-dashed-wrapped {border: 1px dashed gray;margin: 0 0.4em 0.5em 0.4em;box-sizing: border-box;padding-bottom: 0.4em;background-color: white;}#sk-container-id-17 div.sk-label label {font-family: monospace;font-weight: bold;display: inline-block;line-height: 1.2em;}#sk-container-id-17 div.sk-label-container {text-align: center;}#sk-container-id-17 div.sk-container {/* jupyter's `normalize.less` sets `[hidden] { display: none; }` but bootstrap.min.css set `[hidden] { display: none !important; }` so we also need the `!important` here to be able to override the default hidden behavior on the sphinx rendered scikit-learn.org. See: https://github.com/scikit-learn/scikit-learn/issues/21755 */display: inline-block !important;position: relative;}#sk-container-id-17 div.sk-text-repr-fallback {display: none;}</style><div id=\"sk-container-id-17\" class=\"sk-top-container\"><div class=\"sk-text-repr-fallback\"><pre>RandomForestClassifier(max_depth=13, n_estimators=175)</pre><b>In a Jupyter environment, please rerun this cell to show the HTML representation or trust the notebook. <br />On GitHub, the HTML representation is unable to render, please try loading this page with nbviewer.org.</b></div><div class=\"sk-container\" hidden><div class=\"sk-item\"><div class=\"sk-estimator sk-toggleable\"><input class=\"sk-toggleable__control sk-hidden--visually\" id=\"sk-estimator-id-19\" type=\"checkbox\" checked><label for=\"sk-estimator-id-19\" class=\"sk-toggleable__label sk-toggleable__label-arrow\">RandomForestClassifier</label><div class=\"sk-toggleable__content\"><pre>RandomForestClassifier(max_depth=13, n_estimators=175)</pre></div></div></div></div></div>"
      ],
      "text/plain": [
       "RandomForestClassifier(max_depth=13, n_estimators=175)"
      ]
     },
     "execution_count": 89,
     "metadata": {},
     "output_type": "execute_result"
    }
   ],
   "source": [
    "classifier = RandomForestClassifier(n_estimators=175, max_depth=13)\n",
    "train_features = genre_trainds[['danceability', 'energy', 'key', 'loudness', 'speechiness', 'acousticness', 'instrumentalness', 'liveness', 'valence', 'tempo']]\n",
    "train_label = genre_trainds['genre']\n",
    "classifier.fit(X=train_features, y=train_label)"
   ]
  },
  {
   "cell_type": "code",
   "execution_count": null,
   "metadata": {
    "colab": {
     "base_uri": "https://localhost:8080/"
    },
    "id": "At4lYXtQC9wq",
    "outputId": "d08111e1-b57b-4fdf-a405-f07a00c511a7"
   },
   "outputs": [
    {
     "data": {
      "text/plain": [
       "0.8108809287258119"
      ]
     },
     "execution_count": 90,
     "metadata": {},
     "output_type": "execute_result"
    }
   ],
   "source": [
    "predict_trained = classifier.predict(train_features)\n",
    "f1_score(train_label, predict_trained, average='macro')"
   ]
  },
  {
   "cell_type": "code",
   "execution_count": null,
   "metadata": {
    "id": "xH-who5zC9wq"
   },
   "outputs": [],
   "source": [
    "test_feature = genre_testds[['danceability', 'energy', 'key', 'loudness', 'speechiness', 'acousticness', 'instrumentalness', 'liveness', 'valence', 'tempo']]\n",
    "test_label = genre_testds['genre']\n",
    "predict_test = classifier.predict(test_feature)"
   ]
  },
  {
   "cell_type": "code",
   "execution_count": null,
   "metadata": {
    "colab": {
     "base_uri": "https://localhost:8080/"
    },
    "id": "GgkPMv1ZC9wr",
    "outputId": "2409eb57-48e2-450c-8fbf-566edfbf185a"
   },
   "outputs": [
    {
     "data": {
      "text/plain": [
       "0.6011478452677544"
      ]
     },
     "execution_count": 92,
     "metadata": {},
     "output_type": "execute_result"
    }
   ],
   "source": [
    "f1_score(test_label, predict_test, average='macro')"
   ]
  },
  {
   "cell_type": "code",
   "execution_count": null,
   "metadata": {
    "colab": {
     "base_uri": "https://localhost:8080/"
    },
    "id": "7GdRPgsZC9wr",
    "outputId": "69add589-9076-4b64-9dc2-8090d42f0361"
   },
   "outputs": [
    {
     "name": "stdout",
     "output_type": "stream",
     "text": [
      "0.6546507505023047\n"
     ]
    }
   ],
   "source": [
    "accuracy = accuracy_score(test_label, predict_test)\n",
    "print(accuracy)"
   ]
  },
  {
   "cell_type": "markdown",
   "metadata": {
    "id": "P34yivoKC9wr"
   },
   "source": [
    "\n",
    "*   with n=500 and max-depth=16 we got 64percent\n",
    "\n",
    "*   with n=500 and max-depth=15 we got 65percent\n",
    "\n",
    "\n"
   ]
  },
  {
   "cell_type": "markdown",
   "metadata": {
    "id": "0F9Vg0KN4HWA"
   },
   "source": [
    "### Optimizing the model"
   ]
  },
  {
   "cell_type": "code",
   "execution_count": null,
   "metadata": {
    "id": "ylzxVa824FJo"
   },
   "outputs": [],
   "source": [
    "from sklearn.model_selection import RandomizedSearchCV\n",
    "from scipy.stats import randint"
   ]
  },
  {
   "cell_type": "code",
   "execution_count": null,
   "metadata": {
    "colab": {
     "base_uri": "https://localhost:8080/",
     "height": 118
    },
    "id": "rvCsk6gu4TF4",
    "outputId": "0221d321-1607-43d2-bd6d-59eb2d821f74"
   },
   "outputs": [
    {
     "data": {
      "text/html": [
       "<style>#sk-container-id-3 {color: black;background-color: white;}#sk-container-id-3 pre{padding: 0;}#sk-container-id-3 div.sk-toggleable {background-color: white;}#sk-container-id-3 label.sk-toggleable__label {cursor: pointer;display: block;width: 100%;margin-bottom: 0;padding: 0.3em;box-sizing: border-box;text-align: center;}#sk-container-id-3 label.sk-toggleable__label-arrow:before {content: \"▸\";float: left;margin-right: 0.25em;color: #696969;}#sk-container-id-3 label.sk-toggleable__label-arrow:hover:before {color: black;}#sk-container-id-3 div.sk-estimator:hover label.sk-toggleable__label-arrow:before {color: black;}#sk-container-id-3 div.sk-toggleable__content {max-height: 0;max-width: 0;overflow: hidden;text-align: left;background-color: #f0f8ff;}#sk-container-id-3 div.sk-toggleable__content pre {margin: 0.2em;color: black;border-radius: 0.25em;background-color: #f0f8ff;}#sk-container-id-3 input.sk-toggleable__control:checked~div.sk-toggleable__content {max-height: 200px;max-width: 100%;overflow: auto;}#sk-container-id-3 input.sk-toggleable__control:checked~label.sk-toggleable__label-arrow:before {content: \"▾\";}#sk-container-id-3 div.sk-estimator input.sk-toggleable__control:checked~label.sk-toggleable__label {background-color: #d4ebff;}#sk-container-id-3 div.sk-label input.sk-toggleable__control:checked~label.sk-toggleable__label {background-color: #d4ebff;}#sk-container-id-3 input.sk-hidden--visually {border: 0;clip: rect(1px 1px 1px 1px);clip: rect(1px, 1px, 1px, 1px);height: 1px;margin: -1px;overflow: hidden;padding: 0;position: absolute;width: 1px;}#sk-container-id-3 div.sk-estimator {font-family: monospace;background-color: #f0f8ff;border: 1px dotted black;border-radius: 0.25em;box-sizing: border-box;margin-bottom: 0.5em;}#sk-container-id-3 div.sk-estimator:hover {background-color: #d4ebff;}#sk-container-id-3 div.sk-parallel-item::after {content: \"\";width: 100%;border-bottom: 1px solid gray;flex-grow: 1;}#sk-container-id-3 div.sk-label:hover label.sk-toggleable__label {background-color: #d4ebff;}#sk-container-id-3 div.sk-serial::before {content: \"\";position: absolute;border-left: 1px solid gray;box-sizing: border-box;top: 0;bottom: 0;left: 50%;z-index: 0;}#sk-container-id-3 div.sk-serial {display: flex;flex-direction: column;align-items: center;background-color: white;padding-right: 0.2em;padding-left: 0.2em;position: relative;}#sk-container-id-3 div.sk-item {position: relative;z-index: 1;}#sk-container-id-3 div.sk-parallel {display: flex;align-items: stretch;justify-content: center;background-color: white;position: relative;}#sk-container-id-3 div.sk-item::before, #sk-container-id-3 div.sk-parallel-item::before {content: \"\";position: absolute;border-left: 1px solid gray;box-sizing: border-box;top: 0;bottom: 0;left: 50%;z-index: -1;}#sk-container-id-3 div.sk-parallel-item {display: flex;flex-direction: column;z-index: 1;position: relative;background-color: white;}#sk-container-id-3 div.sk-parallel-item:first-child::after {align-self: flex-end;width: 50%;}#sk-container-id-3 div.sk-parallel-item:last-child::after {align-self: flex-start;width: 50%;}#sk-container-id-3 div.sk-parallel-item:only-child::after {width: 0;}#sk-container-id-3 div.sk-dashed-wrapped {border: 1px dashed gray;margin: 0 0.4em 0.5em 0.4em;box-sizing: border-box;padding-bottom: 0.4em;background-color: white;}#sk-container-id-3 div.sk-label label {font-family: monospace;font-weight: bold;display: inline-block;line-height: 1.2em;}#sk-container-id-3 div.sk-label-container {text-align: center;}#sk-container-id-3 div.sk-container {/* jupyter's `normalize.less` sets `[hidden] { display: none; }` but bootstrap.min.css set `[hidden] { display: none !important; }` so we also need the `!important` here to be able to override the default hidden behavior on the sphinx rendered scikit-learn.org. See: https://github.com/scikit-learn/scikit-learn/issues/21755 */display: inline-block !important;position: relative;}#sk-container-id-3 div.sk-text-repr-fallback {display: none;}</style><div id=\"sk-container-id-3\" class=\"sk-top-container\"><div class=\"sk-text-repr-fallback\"><pre>RandomizedSearchCV(cv=5, estimator=RandomForestClassifier(), n_iter=5,\n",
       "                   param_distributions={&#x27;max_depth&#x27;: &lt;scipy.stats._distn_infrastructure.rv_discrete_frozen object at 0x7fadef517a90&gt;,\n",
       "                                        &#x27;n_estimators&#x27;: &lt;scipy.stats._distn_infrastructure.rv_discrete_frozen object at 0x7fadef4fcbe0&gt;})</pre><b>In a Jupyter environment, please rerun this cell to show the HTML representation or trust the notebook. <br />On GitHub, the HTML representation is unable to render, please try loading this page with nbviewer.org.</b></div><div class=\"sk-container\" hidden><div class=\"sk-item sk-dashed-wrapped\"><div class=\"sk-label-container\"><div class=\"sk-label sk-toggleable\"><input class=\"sk-toggleable__control sk-hidden--visually\" id=\"sk-estimator-id-3\" type=\"checkbox\" ><label for=\"sk-estimator-id-3\" class=\"sk-toggleable__label sk-toggleable__label-arrow\">RandomizedSearchCV</label><div class=\"sk-toggleable__content\"><pre>RandomizedSearchCV(cv=5, estimator=RandomForestClassifier(), n_iter=5,\n",
       "                   param_distributions={&#x27;max_depth&#x27;: &lt;scipy.stats._distn_infrastructure.rv_discrete_frozen object at 0x7fadef517a90&gt;,\n",
       "                                        &#x27;n_estimators&#x27;: &lt;scipy.stats._distn_infrastructure.rv_discrete_frozen object at 0x7fadef4fcbe0&gt;})</pre></div></div></div><div class=\"sk-parallel\"><div class=\"sk-parallel-item\"><div class=\"sk-item\"><div class=\"sk-label-container\"><div class=\"sk-label sk-toggleable\"><input class=\"sk-toggleable__control sk-hidden--visually\" id=\"sk-estimator-id-4\" type=\"checkbox\" ><label for=\"sk-estimator-id-4\" class=\"sk-toggleable__label sk-toggleable__label-arrow\">estimator: RandomForestClassifier</label><div class=\"sk-toggleable__content\"><pre>RandomForestClassifier()</pre></div></div></div><div class=\"sk-serial\"><div class=\"sk-item\"><div class=\"sk-estimator sk-toggleable\"><input class=\"sk-toggleable__control sk-hidden--visually\" id=\"sk-estimator-id-5\" type=\"checkbox\" ><label for=\"sk-estimator-id-5\" class=\"sk-toggleable__label sk-toggleable__label-arrow\">RandomForestClassifier</label><div class=\"sk-toggleable__content\"><pre>RandomForestClassifier()</pre></div></div></div></div></div></div></div></div></div></div>"
      ],
      "text/plain": [
       "RandomizedSearchCV(cv=5, estimator=RandomForestClassifier(), n_iter=5,\n",
       "                   param_distributions={'max_depth': <scipy.stats._distn_infrastructure.rv_discrete_frozen object at 0x7fadef517a90>,\n",
       "                                        'n_estimators': <scipy.stats._distn_infrastructure.rv_discrete_frozen object at 0x7fadef4fcbe0>})"
      ]
     },
     "execution_count": 33,
     "metadata": {},
     "output_type": "execute_result"
    }
   ],
   "source": [
    "param_dist = {'n_estimators': randint(50,500),\n",
    "              'max_depth': randint(1,20)}\n",
    "\n",
    "# Create a random forest classifier\n",
    "rf = RandomForestClassifier()\n",
    "\n",
    "# Use random search to find the best hyperparameters\n",
    "rand_search = RandomizedSearchCV(rf,\n",
    "                                 param_distributions = param_dist,\n",
    "                                 n_iter=5,\n",
    "                                 cv=5)\n",
    "\n",
    "# Fit the random search object to the data\n",
    "rand_search.fit(train_features, train_label)"
   ]
  },
  {
   "cell_type": "code",
   "execution_count": null,
   "metadata": {
    "colab": {
     "base_uri": "https://localhost:8080/"
    },
    "id": "7xcHswoZ5X_6",
    "outputId": "f81d9589-7022-4cec-ce4f-f4d8ef4a5b65"
   },
   "outputs": [
    {
     "name": "stdout",
     "output_type": "stream",
     "text": [
      "Best hyperparameters: {'max_depth': 14, 'n_estimators': 187}\n"
     ]
    }
   ],
   "source": [
    "# Create a variable for the best model\n",
    "best_rf = rand_search.best_estimator_\n",
    "\n",
    "# Print the best hyperparameters\n",
    "print('Best hyperparameters:',  rand_search.best_params_)"
   ]
  },
  {
   "cell_type": "markdown",
   "metadata": {
    "id": "Xk2sQ2ACBu_i"
   },
   "source": [
    "I tried with class_weight, it didn't change performance on its own."
   ]
  },
  {
   "cell_type": "markdown",
   "metadata": {
    "id": "PklhLLSoCp1j"
   },
   "source": [
    "checked max_feature: no change"
   ]
  },
  {
   "cell_type": "code",
   "execution_count": null,
   "metadata": {
    "colab": {
     "base_uri": "https://localhost:8080/",
     "height": 75
    },
    "id": "CcdM-Ufv9Z5t",
    "outputId": "7731d003-7dbc-411f-a351-976aee644bb7"
   },
   "outputs": [
    {
     "data": {
      "text/html": [
       "<style>#sk-container-id-14 {color: black;background-color: white;}#sk-container-id-14 pre{padding: 0;}#sk-container-id-14 div.sk-toggleable {background-color: white;}#sk-container-id-14 label.sk-toggleable__label {cursor: pointer;display: block;width: 100%;margin-bottom: 0;padding: 0.3em;box-sizing: border-box;text-align: center;}#sk-container-id-14 label.sk-toggleable__label-arrow:before {content: \"▸\";float: left;margin-right: 0.25em;color: #696969;}#sk-container-id-14 label.sk-toggleable__label-arrow:hover:before {color: black;}#sk-container-id-14 div.sk-estimator:hover label.sk-toggleable__label-arrow:before {color: black;}#sk-container-id-14 div.sk-toggleable__content {max-height: 0;max-width: 0;overflow: hidden;text-align: left;background-color: #f0f8ff;}#sk-container-id-14 div.sk-toggleable__content pre {margin: 0.2em;color: black;border-radius: 0.25em;background-color: #f0f8ff;}#sk-container-id-14 input.sk-toggleable__control:checked~div.sk-toggleable__content {max-height: 200px;max-width: 100%;overflow: auto;}#sk-container-id-14 input.sk-toggleable__control:checked~label.sk-toggleable__label-arrow:before {content: \"▾\";}#sk-container-id-14 div.sk-estimator input.sk-toggleable__control:checked~label.sk-toggleable__label {background-color: #d4ebff;}#sk-container-id-14 div.sk-label input.sk-toggleable__control:checked~label.sk-toggleable__label {background-color: #d4ebff;}#sk-container-id-14 input.sk-hidden--visually {border: 0;clip: rect(1px 1px 1px 1px);clip: rect(1px, 1px, 1px, 1px);height: 1px;margin: -1px;overflow: hidden;padding: 0;position: absolute;width: 1px;}#sk-container-id-14 div.sk-estimator {font-family: monospace;background-color: #f0f8ff;border: 1px dotted black;border-radius: 0.25em;box-sizing: border-box;margin-bottom: 0.5em;}#sk-container-id-14 div.sk-estimator:hover {background-color: #d4ebff;}#sk-container-id-14 div.sk-parallel-item::after {content: \"\";width: 100%;border-bottom: 1px solid gray;flex-grow: 1;}#sk-container-id-14 div.sk-label:hover label.sk-toggleable__label {background-color: #d4ebff;}#sk-container-id-14 div.sk-serial::before {content: \"\";position: absolute;border-left: 1px solid gray;box-sizing: border-box;top: 0;bottom: 0;left: 50%;z-index: 0;}#sk-container-id-14 div.sk-serial {display: flex;flex-direction: column;align-items: center;background-color: white;padding-right: 0.2em;padding-left: 0.2em;position: relative;}#sk-container-id-14 div.sk-item {position: relative;z-index: 1;}#sk-container-id-14 div.sk-parallel {display: flex;align-items: stretch;justify-content: center;background-color: white;position: relative;}#sk-container-id-14 div.sk-item::before, #sk-container-id-14 div.sk-parallel-item::before {content: \"\";position: absolute;border-left: 1px solid gray;box-sizing: border-box;top: 0;bottom: 0;left: 50%;z-index: -1;}#sk-container-id-14 div.sk-parallel-item {display: flex;flex-direction: column;z-index: 1;position: relative;background-color: white;}#sk-container-id-14 div.sk-parallel-item:first-child::after {align-self: flex-end;width: 50%;}#sk-container-id-14 div.sk-parallel-item:last-child::after {align-self: flex-start;width: 50%;}#sk-container-id-14 div.sk-parallel-item:only-child::after {width: 0;}#sk-container-id-14 div.sk-dashed-wrapped {border: 1px dashed gray;margin: 0 0.4em 0.5em 0.4em;box-sizing: border-box;padding-bottom: 0.4em;background-color: white;}#sk-container-id-14 div.sk-label label {font-family: monospace;font-weight: bold;display: inline-block;line-height: 1.2em;}#sk-container-id-14 div.sk-label-container {text-align: center;}#sk-container-id-14 div.sk-container {/* jupyter's `normalize.less` sets `[hidden] { display: none; }` but bootstrap.min.css set `[hidden] { display: none !important; }` so we also need the `!important` here to be able to override the default hidden behavior on the sphinx rendered scikit-learn.org. See: https://github.com/scikit-learn/scikit-learn/issues/21755 */display: inline-block !important;position: relative;}#sk-container-id-14 div.sk-text-repr-fallback {display: none;}</style><div id=\"sk-container-id-14\" class=\"sk-top-container\"><div class=\"sk-text-repr-fallback\"><pre>RandomForestClassifier(max_depth=15, max_features=&#x27;log2&#x27;, n_estimators=175)</pre><b>In a Jupyter environment, please rerun this cell to show the HTML representation or trust the notebook. <br />On GitHub, the HTML representation is unable to render, please try loading this page with nbviewer.org.</b></div><div class=\"sk-container\" hidden><div class=\"sk-item\"><div class=\"sk-estimator sk-toggleable\"><input class=\"sk-toggleable__control sk-hidden--visually\" id=\"sk-estimator-id-16\" type=\"checkbox\" checked><label for=\"sk-estimator-id-16\" class=\"sk-toggleable__label sk-toggleable__label-arrow\">RandomForestClassifier</label><div class=\"sk-toggleable__content\"><pre>RandomForestClassifier(max_depth=15, max_features=&#x27;log2&#x27;, n_estimators=175)</pre></div></div></div></div></div>"
      ],
      "text/plain": [
       "RandomForestClassifier(max_depth=15, max_features='log2', n_estimators=175)"
      ]
     },
     "execution_count": 75,
     "metadata": {},
     "output_type": "execute_result"
    }
   ],
   "source": [
    "opt_classifier = RandomForestClassifier(n_estimators=175, max_depth=15, max_features=\"log2\")\n",
    "train_features = genre_trainds[['danceability', 'energy', 'key', 'loudness', 'mode', 'speechiness', 'acousticness', 'instrumentalness', 'liveness', 'valence', 'tempo']]\n",
    "train_label = genre_trainds['genre']\n",
    "opt_classifier.fit(X=train_features, y=train_label)"
   ]
  },
  {
   "cell_type": "code",
   "execution_count": null,
   "metadata": {
    "id": "ASHxPsLJ9h7d"
   },
   "outputs": [],
   "source": [
    "opt_predict_test = opt_classifier.predict(test_feature)"
   ]
  },
  {
   "cell_type": "code",
   "execution_count": null,
   "metadata": {
    "colab": {
     "base_uri": "https://localhost:8080/"
    },
    "id": "T8rszTfd9vvu",
    "outputId": "2f473a29-5193-4eac-f292-2ffa52c1c648"
   },
   "outputs": [
    {
     "data": {
      "text/plain": [
       "0.6025001639019406"
      ]
     },
     "execution_count": 77,
     "metadata": {},
     "output_type": "execute_result"
    }
   ],
   "source": [
    "f1_score(test_label, opt_predict_test, average='macro')"
   ]
  },
  {
   "cell_type": "code",
   "execution_count": null,
   "metadata": {
    "colab": {
     "base_uri": "https://localhost:8080/"
    },
    "id": "4gAIlKpd90m-",
    "outputId": "82196969-e914-48c2-a48d-89da54d2d0f2"
   },
   "outputs": [
    {
     "name": "stdout",
     "output_type": "stream",
     "text": [
      "0.6534688571090888\n"
     ]
    }
   ],
   "source": [
    "accuracy = accuracy_score(test_label, predict_test)\n",
    "print(accuracy)"
   ]
  },
  {
   "cell_type": "markdown",
   "metadata": {
    "id": "X7Ibav3Le02p"
   },
   "source": [
    "##checking the normalized trained model"
   ]
  },
  {
   "cell_type": "code",
   "execution_count": null,
   "metadata": {
    "colab": {
     "base_uri": "https://localhost:8080/",
     "height": 198
    },
    "id": "BoLNX-rke-Me",
    "outputId": "b9cd23a5-aa4e-43d9-af5f-1ba87f5fdb8a"
   },
   "outputs": [
    {
     "data": {
      "text/html": [
       "<style>#sk-container-id-2 {color: black;background-color: white;}#sk-container-id-2 pre{padding: 0;}#sk-container-id-2 div.sk-toggleable {background-color: white;}#sk-container-id-2 label.sk-toggleable__label {cursor: pointer;display: block;width: 100%;margin-bottom: 0;padding: 0.3em;box-sizing: border-box;text-align: center;}#sk-container-id-2 label.sk-toggleable__label-arrow:before {content: \"▸\";float: left;margin-right: 0.25em;color: #696969;}#sk-container-id-2 label.sk-toggleable__label-arrow:hover:before {color: black;}#sk-container-id-2 div.sk-estimator:hover label.sk-toggleable__label-arrow:before {color: black;}#sk-container-id-2 div.sk-toggleable__content {max-height: 0;max-width: 0;overflow: hidden;text-align: left;background-color: #f0f8ff;}#sk-container-id-2 div.sk-toggleable__content pre {margin: 0.2em;color: black;border-radius: 0.25em;background-color: #f0f8ff;}#sk-container-id-2 input.sk-toggleable__control:checked~div.sk-toggleable__content {max-height: 200px;max-width: 100%;overflow: auto;}#sk-container-id-2 input.sk-toggleable__control:checked~label.sk-toggleable__label-arrow:before {content: \"▾\";}#sk-container-id-2 div.sk-estimator input.sk-toggleable__control:checked~label.sk-toggleable__label {background-color: #d4ebff;}#sk-container-id-2 div.sk-label input.sk-toggleable__control:checked~label.sk-toggleable__label {background-color: #d4ebff;}#sk-container-id-2 input.sk-hidden--visually {border: 0;clip: rect(1px 1px 1px 1px);clip: rect(1px, 1px, 1px, 1px);height: 1px;margin: -1px;overflow: hidden;padding: 0;position: absolute;width: 1px;}#sk-container-id-2 div.sk-estimator {font-family: monospace;background-color: #f0f8ff;border: 1px dotted black;border-radius: 0.25em;box-sizing: border-box;margin-bottom: 0.5em;}#sk-container-id-2 div.sk-estimator:hover {background-color: #d4ebff;}#sk-container-id-2 div.sk-parallel-item::after {content: \"\";width: 100%;border-bottom: 1px solid gray;flex-grow: 1;}#sk-container-id-2 div.sk-label:hover label.sk-toggleable__label {background-color: #d4ebff;}#sk-container-id-2 div.sk-serial::before {content: \"\";position: absolute;border-left: 1px solid gray;box-sizing: border-box;top: 0;bottom: 0;left: 50%;z-index: 0;}#sk-container-id-2 div.sk-serial {display: flex;flex-direction: column;align-items: center;background-color: white;padding-right: 0.2em;padding-left: 0.2em;position: relative;}#sk-container-id-2 div.sk-item {position: relative;z-index: 1;}#sk-container-id-2 div.sk-parallel {display: flex;align-items: stretch;justify-content: center;background-color: white;position: relative;}#sk-container-id-2 div.sk-item::before, #sk-container-id-2 div.sk-parallel-item::before {content: \"\";position: absolute;border-left: 1px solid gray;box-sizing: border-box;top: 0;bottom: 0;left: 50%;z-index: -1;}#sk-container-id-2 div.sk-parallel-item {display: flex;flex-direction: column;z-index: 1;position: relative;background-color: white;}#sk-container-id-2 div.sk-parallel-item:first-child::after {align-self: flex-end;width: 50%;}#sk-container-id-2 div.sk-parallel-item:last-child::after {align-self: flex-start;width: 50%;}#sk-container-id-2 div.sk-parallel-item:only-child::after {width: 0;}#sk-container-id-2 div.sk-dashed-wrapped {border: 1px dashed gray;margin: 0 0.4em 0.5em 0.4em;box-sizing: border-box;padding-bottom: 0.4em;background-color: white;}#sk-container-id-2 div.sk-label label {font-family: monospace;font-weight: bold;display: inline-block;line-height: 1.2em;}#sk-container-id-2 div.sk-label-container {text-align: center;}#sk-container-id-2 div.sk-container {/* jupyter's `normalize.less` sets `[hidden] { display: none; }` but bootstrap.min.css set `[hidden] { display: none !important; }` so we also need the `!important` here to be able to override the default hidden behavior on the sphinx rendered scikit-learn.org. See: https://github.com/scikit-learn/scikit-learn/issues/21755 */display: inline-block !important;position: relative;}#sk-container-id-2 div.sk-text-repr-fallback {display: none;}</style><div id=\"sk-container-id-2\" class=\"sk-top-container\"><div class=\"sk-text-repr-fallback\"><pre>RandomizedSearchCV(cv=5, estimator=RandomForestClassifier(), n_iter=5,\n",
       "                   param_distributions={&#x27;max_depth&#x27;: &lt;scipy.stats._distn_infrastructure.rv_discrete_frozen object at 0x7f3898c06290&gt;,\n",
       "                                        &#x27;n_estimators&#x27;: &lt;scipy.stats._distn_infrastructure.rv_discrete_frozen object at 0x7f3898c07a30&gt;})</pre><b>In a Jupyter environment, please rerun this cell to show the HTML representation or trust the notebook. <br />On GitHub, the HTML representation is unable to render, please try loading this page with nbviewer.org.</b></div><div class=\"sk-container\" hidden><div class=\"sk-item sk-dashed-wrapped\"><div class=\"sk-label-container\"><div class=\"sk-label sk-toggleable\"><input class=\"sk-toggleable__control sk-hidden--visually\" id=\"sk-estimator-id-2\" type=\"checkbox\" ><label for=\"sk-estimator-id-2\" class=\"sk-toggleable__label sk-toggleable__label-arrow\">RandomizedSearchCV</label><div class=\"sk-toggleable__content\"><pre>RandomizedSearchCV(cv=5, estimator=RandomForestClassifier(), n_iter=5,\n",
       "                   param_distributions={&#x27;max_depth&#x27;: &lt;scipy.stats._distn_infrastructure.rv_discrete_frozen object at 0x7f3898c06290&gt;,\n",
       "                                        &#x27;n_estimators&#x27;: &lt;scipy.stats._distn_infrastructure.rv_discrete_frozen object at 0x7f3898c07a30&gt;})</pre></div></div></div><div class=\"sk-parallel\"><div class=\"sk-parallel-item\"><div class=\"sk-item\"><div class=\"sk-label-container\"><div class=\"sk-label sk-toggleable\"><input class=\"sk-toggleable__control sk-hidden--visually\" id=\"sk-estimator-id-3\" type=\"checkbox\" ><label for=\"sk-estimator-id-3\" class=\"sk-toggleable__label sk-toggleable__label-arrow\">estimator: RandomForestClassifier</label><div class=\"sk-toggleable__content\"><pre>RandomForestClassifier()</pre></div></div></div><div class=\"sk-serial\"><div class=\"sk-item\"><div class=\"sk-estimator sk-toggleable\"><input class=\"sk-toggleable__control sk-hidden--visually\" id=\"sk-estimator-id-4\" type=\"checkbox\" ><label for=\"sk-estimator-id-4\" class=\"sk-toggleable__label sk-toggleable__label-arrow\">RandomForestClassifier</label><div class=\"sk-toggleable__content\"><pre>RandomForestClassifier()</pre></div></div></div></div></div></div></div></div></div></div>"
      ],
      "text/plain": [
       "RandomizedSearchCV(cv=5, estimator=RandomForestClassifier(), n_iter=5,\n",
       "                   param_distributions={'max_depth': <scipy.stats._distn_infrastructure.rv_discrete_frozen object at 0x7f3898c06290>,\n",
       "                                        'n_estimators': <scipy.stats._distn_infrastructure.rv_discrete_frozen object at 0x7f3898c07a30>})"
      ]
     },
     "execution_count": 15,
     "metadata": {},
     "output_type": "execute_result"
    }
   ],
   "source": [
    "param_dist = {'n_estimators': randint(50,500),\n",
    "              'max_depth': randint(1,20)}\n",
    "\n",
    "# Create a random forest classifier\n",
    "rf = RandomForestClassifier()\n",
    "\n",
    "# Use random search to find the best hyperparameters\n",
    "rand_search = RandomizedSearchCV(rf,\n",
    "                                 param_distributions = param_dist,\n",
    "                                 n_iter=5,\n",
    "                                 cv=5)\n",
    "\n",
    "# Fit the random search object to the data\n",
    "rand_search.fit(X_train_norm, y_train)"
   ]
  },
  {
   "cell_type": "code",
   "execution_count": null,
   "metadata": {
    "colab": {
     "base_uri": "https://localhost:8080/"
    },
    "id": "1qGaCkb-eztq",
    "outputId": "3a46d90e-7a1a-4128-a878-39bb42825e6d"
   },
   "outputs": [
    {
     "name": "stdout",
     "output_type": "stream",
     "text": [
      "Best hyperparameters: {'max_depth': 17, 'n_estimators': 305}\n"
     ]
    }
   ],
   "source": [
    "# Create a variable for the best model\n",
    "best_rf = rand_search.best_estimator_\n",
    "\n",
    "# Print the best hyperparameters\n",
    "print('Best hyperparameters:',  rand_search.best_params_)"
   ]
  },
  {
   "cell_type": "markdown",
   "metadata": {
    "id": "idSvjSk5hksV"
   },
   "source": [
    "Training the normalized model with new parameters"
   ]
  },
  {
   "cell_type": "code",
   "execution_count": null,
   "metadata": {
    "colab": {
     "base_uri": "https://localhost:8080/"
    },
    "id": "eJdw--1xhiur",
    "outputId": "9c6c3552-cf10-4984-bd5e-883d4f27cef8"
   },
   "outputs": [
    {
     "name": "stderr",
     "output_type": "stream",
     "text": [
      "[Parallel(n_jobs=1)]: Using backend SequentialBackend with 1 concurrent workers.\n",
      "[Parallel(n_jobs=1)]: Done 210 out of 210 | elapsed:   25.3s finished\n",
      "[Parallel(n_jobs=1)]: Using backend SequentialBackend with 1 concurrent workers.\n",
      "[Parallel(n_jobs=1)]: Done 210 out of 210 | elapsed:    0.6s finished\n"
     ]
    }
   ],
   "source": [
    "opt_clf_norm = RandomForestClassifier(max_depth=14, n_estimators=210, min_samples_split=2,verbose=1)\n",
    "\n",
    "# training it with normalized data\n",
    "opt_clf_norm.fit(X_train_norm, y_train)\n",
    "\n",
    "# test the model\n",
    "pred_opt_norm = opt_clf_norm.predict(X_test_norm)"
   ]
  },
  {
   "cell_type": "code",
   "execution_count": null,
   "metadata": {
    "colab": {
     "base_uri": "https://localhost:8080/"
    },
    "id": "CJILEigtiouJ",
    "outputId": "ab4f1d06-02b2-4347-b7f3-210253479b4a"
   },
   "outputs": [
    {
     "name": "stdout",
     "output_type": "stream",
     "text": [
      "0.6298996428808424\n"
     ]
    }
   ],
   "source": [
    "print(f1_score(y_test, pred_opt_norm, average='macro'))"
   ]
  },
  {
   "cell_type": "markdown",
   "metadata": {
    "id": "snRhTYMjjTjx"
   },
   "source": [
    "| max_depth | n_estimator | min_sample_leaf |min_samples_split|f1_score|\n",
    "|-----------|-------------|-----------------|-----------------|--------|\n",
    "| 17        | 305         | 1               |  | 62.7%|\n",
    "|14|210|     | 10|  62.9%  |\n",
    "| 14        |  175        | 1               | |63.3%  |\n",
    "|14|175|3|   |62.9%|\n",
    "| 14        | 175         | 5               |    |62.8%|\n",
    "|14|175|     |3|63.1%|\n",
    "|14|175|     |10|63.0%|\n",
    "\n",
    "\n"
   ]
  },
  {
   "cell_type": "markdown",
   "metadata": {
    "id": "1D0Dt_p1NF_Y"
   },
   "source": [
    "###try different models, different parameters, etc... to make the prediction better"
   ]
  },
  {
   "cell_type": "markdown",
   "metadata": {
    "id": "x628LODq44OK"
   },
   "source": [
    "#Use the model to predict the unseen data"
   ]
  }
 ],
 "metadata": {
  "colab": {
   "collapsed_sections": [
    "xdtXUUfj6wMA",
    "zk-0uj4P98zZ",
    "4Upmm9yA-HvP",
    "URxsrpOMy3ga"
   ],
   "provenance": []
  },
  "kernelspec": {
   "display_name": "Python 3 (ipykernel)",
   "language": "python",
   "name": "python3"
  },
  "language_info": {
   "codemirror_mode": {
    "name": "ipython",
    "version": 3
   },
   "file_extension": ".py",
   "mimetype": "text/x-python",
   "name": "python",
   "nbconvert_exporter": "python",
   "pygments_lexer": "ipython3",
   "version": "3.10.9"
  }
 },
 "nbformat": 4,
 "nbformat_minor": 1
}
